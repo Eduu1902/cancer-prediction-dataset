{
  "cells": [
    {
      "cell_type": "markdown",
      "id": "b7cbb001",
      "metadata": {
        "execution": {
          "iopub.execute_input": "2024-06-19T01:38:31.087752Z",
          "iopub.status.busy": "2024-06-19T01:38:31.087302Z",
          "iopub.status.idle": "2024-06-19T01:38:31.097225Z",
          "shell.execute_reply": "2024-06-19T01:38:31.095947Z",
          "shell.execute_reply.started": "2024-06-19T01:38:31.087716Z"
        },
        "papermill": {
          "duration": 0.021543,
          "end_time": "2024-06-19T03:44:36.345661",
          "exception": false,
          "start_time": "2024-06-19T03:44:36.324118",
          "status": "completed"
        },
        "tags": [],
        "id": "b7cbb001"
      },
      "source": [
        "# **The main question about the project is:**\n",
        "\n",
        "\n",
        "\n",
        "\n",
        "## **What is the main objective of the project?**\n",
        "\n",
        "\n",
        "\n",
        "\n",
        "### ''To create models capable of predicting with maximum accuracy whether a patient is likely to have cancer or not.\"\n",
        "\n"
      ]
    },
    {
      "cell_type": "markdown",
      "id": "a43e7a75",
      "metadata": {
        "papermill": {
          "duration": 0.019458,
          "end_time": "2024-06-19T03:44:36.385471",
          "exception": false,
          "start_time": "2024-06-19T03:44:36.366013",
          "status": "completed"
        },
        "tags": [],
        "id": "a43e7a75"
      },
      "source": [
        "To achieve this, I used some well-known libraries listed below, aiming to achieve the best accuracy in my models."
      ]
    },
    {
      "cell_type": "markdown",
      "id": "b5219ca3",
      "metadata": {
        "papermill": {
          "duration": 0.01968,
          "end_time": "2024-06-19T03:44:36.424539",
          "exception": false,
          "start_time": "2024-06-19T03:44:36.404859",
          "status": "completed"
        },
        "tags": [],
        "id": "b5219ca3"
      },
      "source": [
        "_____________________________________________________________"
      ]
    },
    {
      "cell_type": "code",
      "execution_count": null,
      "id": "58195fb6",
      "metadata": {
        "execution": {
          "iopub.execute_input": "2024-06-19T03:44:36.469382Z",
          "iopub.status.busy": "2024-06-19T03:44:36.468977Z",
          "iopub.status.idle": "2024-06-19T03:44:40.155928Z",
          "shell.execute_reply": "2024-06-19T03:44:40.154929Z"
        },
        "papermill": {
          "duration": 3.714655,
          "end_time": "2024-06-19T03:44:40.158780",
          "exception": false,
          "start_time": "2024-06-19T03:44:36.444125",
          "status": "completed"
        },
        "tags": [],
        "id": "58195fb6"
      },
      "outputs": [],
      "source": [
        "from sklearn.preprocessing import LabelEncoder, OneHotEncoder\n",
        "from sklearn.compose import ColumnTransformer\n",
        "from sklearn.preprocessing import StandardScaler\n",
        "from sklearn.model_selection import train_test_split , StratifiedKFold, cross_val_score\n",
        "from sklearn.metrics import classification_report\n",
        "from sklearn.metrics import confusion_matrix, accuracy_score\n",
        "from sklearn.tree import DecisionTreeClassifier\n",
        "from sklearn.ensemble import RandomForestClassifier\n",
        "from sklearn import tree\n",
        "from sklearn.naive_bayes import GaussianNB\n",
        "from sklearn.linear_model import LogisticRegression\n",
        "from sklearn.svm import SVC\n",
        "import pandas as pd\n",
        "import numpy as np\n",
        "import matplotlib.pyplot as plt\n",
        "import seaborn as sns\n",
        "import warnings\n",
        "warnings.filterwarnings('ignore')\n",
        "import plotly.express as px"
      ]
    },
    {
      "cell_type": "markdown",
      "id": "f3a80673",
      "metadata": {
        "papermill": {
          "duration": 0.019187,
          "end_time": "2024-06-19T03:44:40.197780",
          "exception": false,
          "start_time": "2024-06-19T03:44:40.178593",
          "status": "completed"
        },
        "tags": [],
        "id": "f3a80673"
      },
      "source": [
        "To perform the predictions and to handle the data, I used the main Python libraries: Scikit-learn, Pandas, Matplotlib, Numpy, Seaborn."
      ]
    },
    {
      "cell_type": "code",
      "execution_count": null,
      "id": "88ceb8d7",
      "metadata": {
        "execution": {
          "iopub.execute_input": "2024-06-19T03:44:40.239057Z",
          "iopub.status.busy": "2024-06-19T03:44:40.238026Z",
          "iopub.status.idle": "2024-06-19T03:44:40.291447Z",
          "shell.execute_reply": "2024-06-19T03:44:40.290336Z"
        },
        "papermill": {
          "duration": 0.07662,
          "end_time": "2024-06-19T03:44:40.293785",
          "exception": false,
          "start_time": "2024-06-19T03:44:40.217165",
          "status": "completed"
        },
        "tags": [],
        "id": "88ceb8d7",
        "outputId": "73b47a58-b014-4297-f4d5-c82385939412"
      },
      "outputs": [
        {
          "data": {
            "text/html": [
              "<div>\n",
              "<style scoped>\n",
              "    .dataframe tbody tr th:only-of-type {\n",
              "        vertical-align: middle;\n",
              "    }\n",
              "\n",
              "    .dataframe tbody tr th {\n",
              "        vertical-align: top;\n",
              "    }\n",
              "\n",
              "    .dataframe thead th {\n",
              "        text-align: right;\n",
              "    }\n",
              "</style>\n",
              "<table border=\"1\" class=\"dataframe\">\n",
              "  <thead>\n",
              "    <tr style=\"text-align: right;\">\n",
              "      <th></th>\n",
              "      <th>Age</th>\n",
              "      <th>Gender</th>\n",
              "      <th>BMI</th>\n",
              "      <th>Smoking</th>\n",
              "      <th>GeneticRisk</th>\n",
              "      <th>PhysicalActivity</th>\n",
              "      <th>AlcoholIntake</th>\n",
              "      <th>CancerHistory</th>\n",
              "      <th>Diagnosis</th>\n",
              "    </tr>\n",
              "  </thead>\n",
              "  <tbody>\n",
              "    <tr>\n",
              "      <th>0</th>\n",
              "      <td>58</td>\n",
              "      <td>1</td>\n",
              "      <td>16.085313</td>\n",
              "      <td>0</td>\n",
              "      <td>1</td>\n",
              "      <td>8.146251</td>\n",
              "      <td>4.148219</td>\n",
              "      <td>1</td>\n",
              "      <td>1</td>\n",
              "    </tr>\n",
              "    <tr>\n",
              "      <th>1</th>\n",
              "      <td>71</td>\n",
              "      <td>0</td>\n",
              "      <td>30.828784</td>\n",
              "      <td>0</td>\n",
              "      <td>1</td>\n",
              "      <td>9.361630</td>\n",
              "      <td>3.519683</td>\n",
              "      <td>0</td>\n",
              "      <td>0</td>\n",
              "    </tr>\n",
              "    <tr>\n",
              "      <th>2</th>\n",
              "      <td>48</td>\n",
              "      <td>1</td>\n",
              "      <td>38.785084</td>\n",
              "      <td>0</td>\n",
              "      <td>2</td>\n",
              "      <td>5.135179</td>\n",
              "      <td>4.728368</td>\n",
              "      <td>0</td>\n",
              "      <td>1</td>\n",
              "    </tr>\n",
              "    <tr>\n",
              "      <th>3</th>\n",
              "      <td>34</td>\n",
              "      <td>0</td>\n",
              "      <td>30.040296</td>\n",
              "      <td>0</td>\n",
              "      <td>0</td>\n",
              "      <td>9.502792</td>\n",
              "      <td>2.044636</td>\n",
              "      <td>0</td>\n",
              "      <td>0</td>\n",
              "    </tr>\n",
              "    <tr>\n",
              "      <th>4</th>\n",
              "      <td>62</td>\n",
              "      <td>1</td>\n",
              "      <td>35.479721</td>\n",
              "      <td>0</td>\n",
              "      <td>0</td>\n",
              "      <td>5.356890</td>\n",
              "      <td>3.309849</td>\n",
              "      <td>0</td>\n",
              "      <td>1</td>\n",
              "    </tr>\n",
              "    <tr>\n",
              "      <th>5</th>\n",
              "      <td>27</td>\n",
              "      <td>0</td>\n",
              "      <td>37.105162</td>\n",
              "      <td>0</td>\n",
              "      <td>1</td>\n",
              "      <td>3.941905</td>\n",
              "      <td>2.324274</td>\n",
              "      <td>0</td>\n",
              "      <td>0</td>\n",
              "    </tr>\n",
              "    <tr>\n",
              "      <th>6</th>\n",
              "      <td>80</td>\n",
              "      <td>1</td>\n",
              "      <td>20.701994</td>\n",
              "      <td>0</td>\n",
              "      <td>0</td>\n",
              "      <td>8.482031</td>\n",
              "      <td>3.152943</td>\n",
              "      <td>0</td>\n",
              "      <td>0</td>\n",
              "    </tr>\n",
              "    <tr>\n",
              "      <th>7</th>\n",
              "      <td>40</td>\n",
              "      <td>0</td>\n",
              "      <td>20.301121</td>\n",
              "      <td>1</td>\n",
              "      <td>0</td>\n",
              "      <td>4.929827</td>\n",
              "      <td>2.247995</td>\n",
              "      <td>1</td>\n",
              "      <td>0</td>\n",
              "    </tr>\n",
              "    <tr>\n",
              "      <th>8</th>\n",
              "      <td>58</td>\n",
              "      <td>1</td>\n",
              "      <td>30.274525</td>\n",
              "      <td>0</td>\n",
              "      <td>1</td>\n",
              "      <td>4.719025</td>\n",
              "      <td>0.943161</td>\n",
              "      <td>1</td>\n",
              "      <td>1</td>\n",
              "    </tr>\n",
              "    <tr>\n",
              "      <th>9</th>\n",
              "      <td>77</td>\n",
              "      <td>0</td>\n",
              "      <td>25.275712</td>\n",
              "      <td>0</td>\n",
              "      <td>1</td>\n",
              "      <td>4.903125</td>\n",
              "      <td>2.539487</td>\n",
              "      <td>0</td>\n",
              "      <td>0</td>\n",
              "    </tr>\n",
              "  </tbody>\n",
              "</table>\n",
              "</div>"
            ],
            "text/plain": [
              "   Age  Gender        BMI  Smoking  GeneticRisk  PhysicalActivity  \\\n",
              "0   58       1  16.085313        0            1          8.146251   \n",
              "1   71       0  30.828784        0            1          9.361630   \n",
              "2   48       1  38.785084        0            2          5.135179   \n",
              "3   34       0  30.040296        0            0          9.502792   \n",
              "4   62       1  35.479721        0            0          5.356890   \n",
              "5   27       0  37.105162        0            1          3.941905   \n",
              "6   80       1  20.701994        0            0          8.482031   \n",
              "7   40       0  20.301121        1            0          4.929827   \n",
              "8   58       1  30.274525        0            1          4.719025   \n",
              "9   77       0  25.275712        0            1          4.903125   \n",
              "\n",
              "   AlcoholIntake  CancerHistory  Diagnosis  \n",
              "0       4.148219              1          1  \n",
              "1       3.519683              0          0  \n",
              "2       4.728368              0          1  \n",
              "3       2.044636              0          0  \n",
              "4       3.309849              0          1  \n",
              "5       2.324274              0          0  \n",
              "6       3.152943              0          0  \n",
              "7       2.247995              1          0  \n",
              "8       0.943161              1          1  \n",
              "9       2.539487              0          0  "
            ]
          },
          "execution_count": 2,
          "metadata": {},
          "output_type": "execute_result"
        }
      ],
      "source": [
        "plt.style.use('dark_background')\n",
        "warnings.simplefilter('ignore', category=FutureWarning)\n",
        "\n",
        "\n",
        "\n",
        "patients_data = pd.read_csv(\"/kaggle/input/cancer-prediction-dataset/The_Cancer_data_1500_V2.csv\")\n",
        "patients_data.head(10)"
      ]
    },
    {
      "cell_type": "markdown",
      "id": "e2bfdf88",
      "metadata": {
        "papermill": {
          "duration": 0.019523,
          "end_time": "2024-06-19T03:44:40.333279",
          "exception": false,
          "start_time": "2024-06-19T03:44:40.313756",
          "status": "completed"
        },
        "tags": [],
        "id": "e2bfdf88"
      },
      "source": [
        "\n",
        "### **Dataset Structure**\n",
        "\n",
        "**Features**\n",
        "\n",
        "\n",
        "Age: Integer values representing the patient's age, ranging from 20 to 80.\n",
        "\n",
        "Gender: Binary values representing gender, where 0 indicates Male and 1 indicates Female.\n",
        "\n",
        "BMI: Continuous values representing Body Mass Index, ranging from 15 to 40.\n",
        "\n",
        "Smoking: Binary values indicating smoking status, where 0 means No and 1 means Yes.\n",
        "\n",
        "GeneticRisk: Categorical values representing genetic risk levels for cancer, with 0 indicating Low, 1 indicating Medium, and 2 indicating High.\n",
        "\n",
        "PhysicalActivity: Continuous values representing the number of hours per week spent on physical activities, ranging from 0 to 10.\n",
        "\n",
        "AlcoholIntake: Continuous values representing the number of alcohol units consumed per week, ranging from 0 to 5.\n",
        "\n",
        "CancerHistory: Binary values indicating whether the patient has a personal history of cancer, where 0 means No and 1 means Yes.\n",
        "\n",
        "Diagnosis: Binary values indicating the cancer diagnosis status, where 0 indicates No Cancer and 1 indicates Cancer"
      ]
    },
    {
      "cell_type": "markdown",
      "id": "2a9a2c46",
      "metadata": {
        "papermill": {
          "duration": 0.019438,
          "end_time": "2024-06-19T03:44:40.372572",
          "exception": false,
          "start_time": "2024-06-19T03:44:40.353134",
          "status": "completed"
        },
        "tags": [],
        "id": "2a9a2c46"
      },
      "source": [
        "### **Data processing**"
      ]
    },
    {
      "cell_type": "markdown",
      "id": "6bd5b27b",
      "metadata": {
        "papermill": {
          "duration": 0.01933,
          "end_time": "2024-06-19T03:44:40.411660",
          "exception": false,
          "start_time": "2024-06-19T03:44:40.392330",
          "status": "completed"
        },
        "tags": [],
        "id": "6bd5b27b"
      },
      "source": [
        "_____________________________________________________________"
      ]
    },
    {
      "cell_type": "markdown",
      "id": "912d4edf",
      "metadata": {
        "papermill": {
          "duration": 0.019366,
          "end_time": "2024-06-19T03:44:40.451698",
          "exception": false,
          "start_time": "2024-06-19T03:44:40.432332",
          "status": "completed"
        },
        "tags": [],
        "id": "912d4edf"
      },
      "source": [
        "To achieve better precision I rounded some values ​​that had several decimal places to the nearest whole number"
      ]
    },
    {
      "cell_type": "markdown",
      "id": "31a7972b",
      "metadata": {
        "papermill": {
          "duration": 0.019574,
          "end_time": "2024-06-19T03:44:40.491074",
          "exception": false,
          "start_time": "2024-06-19T03:44:40.471500",
          "status": "completed"
        },
        "tags": [],
        "id": "31a7972b"
      },
      "source": [
        "_____________________________________________________________"
      ]
    },
    {
      "cell_type": "code",
      "execution_count": null,
      "id": "dfae603c",
      "metadata": {
        "execution": {
          "iopub.execute_input": "2024-06-19T03:44:40.533724Z",
          "iopub.status.busy": "2024-06-19T03:44:40.532963Z",
          "iopub.status.idle": "2024-06-19T03:44:40.561300Z",
          "shell.execute_reply": "2024-06-19T03:44:40.560240Z"
        },
        "papermill": {
          "duration": 0.051572,
          "end_time": "2024-06-19T03:44:40.563633",
          "exception": false,
          "start_time": "2024-06-19T03:44:40.512061",
          "status": "completed"
        },
        "tags": [],
        "id": "dfae603c",
        "outputId": "ee794685-c881-4a2a-d5a3-b29249c62dc3"
      },
      "outputs": [
        {
          "data": {
            "text/html": [
              "<div>\n",
              "<style scoped>\n",
              "    .dataframe tbody tr th:only-of-type {\n",
              "        vertical-align: middle;\n",
              "    }\n",
              "\n",
              "    .dataframe tbody tr th {\n",
              "        vertical-align: top;\n",
              "    }\n",
              "\n",
              "    .dataframe thead th {\n",
              "        text-align: right;\n",
              "    }\n",
              "</style>\n",
              "<table border=\"1\" class=\"dataframe\">\n",
              "  <thead>\n",
              "    <tr style=\"text-align: right;\">\n",
              "      <th></th>\n",
              "      <th>Age</th>\n",
              "      <th>Gender</th>\n",
              "      <th>BMI</th>\n",
              "      <th>Smoking</th>\n",
              "      <th>GeneticRisk</th>\n",
              "      <th>PhysicalActivity</th>\n",
              "      <th>AlcoholIntake</th>\n",
              "      <th>CancerHistory</th>\n",
              "      <th>Diagnosis</th>\n",
              "    </tr>\n",
              "  </thead>\n",
              "  <tbody>\n",
              "    <tr>\n",
              "      <th>0</th>\n",
              "      <td>58</td>\n",
              "      <td>1</td>\n",
              "      <td>16.0</td>\n",
              "      <td>0</td>\n",
              "      <td>1</td>\n",
              "      <td>8.0</td>\n",
              "      <td>4.0</td>\n",
              "      <td>1</td>\n",
              "      <td>1</td>\n",
              "    </tr>\n",
              "    <tr>\n",
              "      <th>1</th>\n",
              "      <td>71</td>\n",
              "      <td>0</td>\n",
              "      <td>31.0</td>\n",
              "      <td>0</td>\n",
              "      <td>1</td>\n",
              "      <td>9.0</td>\n",
              "      <td>4.0</td>\n",
              "      <td>0</td>\n",
              "      <td>0</td>\n",
              "    </tr>\n",
              "    <tr>\n",
              "      <th>2</th>\n",
              "      <td>48</td>\n",
              "      <td>1</td>\n",
              "      <td>39.0</td>\n",
              "      <td>0</td>\n",
              "      <td>2</td>\n",
              "      <td>5.0</td>\n",
              "      <td>5.0</td>\n",
              "      <td>0</td>\n",
              "      <td>1</td>\n",
              "    </tr>\n",
              "    <tr>\n",
              "      <th>3</th>\n",
              "      <td>34</td>\n",
              "      <td>0</td>\n",
              "      <td>30.0</td>\n",
              "      <td>0</td>\n",
              "      <td>0</td>\n",
              "      <td>10.0</td>\n",
              "      <td>2.0</td>\n",
              "      <td>0</td>\n",
              "      <td>0</td>\n",
              "    </tr>\n",
              "    <tr>\n",
              "      <th>4</th>\n",
              "      <td>62</td>\n",
              "      <td>1</td>\n",
              "      <td>35.0</td>\n",
              "      <td>0</td>\n",
              "      <td>0</td>\n",
              "      <td>5.0</td>\n",
              "      <td>3.0</td>\n",
              "      <td>0</td>\n",
              "      <td>1</td>\n",
              "    </tr>\n",
              "    <tr>\n",
              "      <th>5</th>\n",
              "      <td>27</td>\n",
              "      <td>0</td>\n",
              "      <td>37.0</td>\n",
              "      <td>0</td>\n",
              "      <td>1</td>\n",
              "      <td>4.0</td>\n",
              "      <td>2.0</td>\n",
              "      <td>0</td>\n",
              "      <td>0</td>\n",
              "    </tr>\n",
              "    <tr>\n",
              "      <th>6</th>\n",
              "      <td>80</td>\n",
              "      <td>1</td>\n",
              "      <td>21.0</td>\n",
              "      <td>0</td>\n",
              "      <td>0</td>\n",
              "      <td>8.0</td>\n",
              "      <td>3.0</td>\n",
              "      <td>0</td>\n",
              "      <td>0</td>\n",
              "    </tr>\n",
              "    <tr>\n",
              "      <th>7</th>\n",
              "      <td>40</td>\n",
              "      <td>0</td>\n",
              "      <td>20.0</td>\n",
              "      <td>1</td>\n",
              "      <td>0</td>\n",
              "      <td>5.0</td>\n",
              "      <td>2.0</td>\n",
              "      <td>1</td>\n",
              "      <td>0</td>\n",
              "    </tr>\n",
              "    <tr>\n",
              "      <th>8</th>\n",
              "      <td>58</td>\n",
              "      <td>1</td>\n",
              "      <td>30.0</td>\n",
              "      <td>0</td>\n",
              "      <td>1</td>\n",
              "      <td>5.0</td>\n",
              "      <td>1.0</td>\n",
              "      <td>1</td>\n",
              "      <td>1</td>\n",
              "    </tr>\n",
              "    <tr>\n",
              "      <th>9</th>\n",
              "      <td>77</td>\n",
              "      <td>0</td>\n",
              "      <td>25.0</td>\n",
              "      <td>0</td>\n",
              "      <td>1</td>\n",
              "      <td>5.0</td>\n",
              "      <td>3.0</td>\n",
              "      <td>0</td>\n",
              "      <td>0</td>\n",
              "    </tr>\n",
              "    <tr>\n",
              "      <th>10</th>\n",
              "      <td>38</td>\n",
              "      <td>1</td>\n",
              "      <td>36.0</td>\n",
              "      <td>0</td>\n",
              "      <td>2</td>\n",
              "      <td>8.0</td>\n",
              "      <td>3.0</td>\n",
              "      <td>0</td>\n",
              "      <td>1</td>\n",
              "    </tr>\n",
              "    <tr>\n",
              "      <th>11</th>\n",
              "      <td>42</td>\n",
              "      <td>0</td>\n",
              "      <td>38.0</td>\n",
              "      <td>1</td>\n",
              "      <td>2</td>\n",
              "      <td>8.0</td>\n",
              "      <td>4.0</td>\n",
              "      <td>0</td>\n",
              "      <td>1</td>\n",
              "    </tr>\n",
              "    <tr>\n",
              "      <th>12</th>\n",
              "      <td>30</td>\n",
              "      <td>1</td>\n",
              "      <td>24.0</td>\n",
              "      <td>0</td>\n",
              "      <td>1</td>\n",
              "      <td>4.0</td>\n",
              "      <td>4.0</td>\n",
              "      <td>1</td>\n",
              "      <td>1</td>\n",
              "    </tr>\n",
              "    <tr>\n",
              "      <th>13</th>\n",
              "      <td>30</td>\n",
              "      <td>0</td>\n",
              "      <td>21.0</td>\n",
              "      <td>0</td>\n",
              "      <td>0</td>\n",
              "      <td>3.0</td>\n",
              "      <td>3.0</td>\n",
              "      <td>1</td>\n",
              "      <td>0</td>\n",
              "    </tr>\n",
              "    <tr>\n",
              "      <th>14</th>\n",
              "      <td>43</td>\n",
              "      <td>0</td>\n",
              "      <td>35.0</td>\n",
              "      <td>0</td>\n",
              "      <td>1</td>\n",
              "      <td>5.0</td>\n",
              "      <td>1.0</td>\n",
              "      <td>0</td>\n",
              "      <td>0</td>\n",
              "    </tr>\n",
              "  </tbody>\n",
              "</table>\n",
              "</div>"
            ],
            "text/plain": [
              "    Age  Gender   BMI  Smoking  GeneticRisk  PhysicalActivity  AlcoholIntake  \\\n",
              "0    58       1  16.0        0            1               8.0            4.0   \n",
              "1    71       0  31.0        0            1               9.0            4.0   \n",
              "2    48       1  39.0        0            2               5.0            5.0   \n",
              "3    34       0  30.0        0            0              10.0            2.0   \n",
              "4    62       1  35.0        0            0               5.0            3.0   \n",
              "5    27       0  37.0        0            1               4.0            2.0   \n",
              "6    80       1  21.0        0            0               8.0            3.0   \n",
              "7    40       0  20.0        1            0               5.0            2.0   \n",
              "8    58       1  30.0        0            1               5.0            1.0   \n",
              "9    77       0  25.0        0            1               5.0            3.0   \n",
              "10   38       1  36.0        0            2               8.0            3.0   \n",
              "11   42       0  38.0        1            2               8.0            4.0   \n",
              "12   30       1  24.0        0            1               4.0            4.0   \n",
              "13   30       0  21.0        0            0               3.0            3.0   \n",
              "14   43       0  35.0        0            1               5.0            1.0   \n",
              "\n",
              "    CancerHistory  Diagnosis  \n",
              "0               1          1  \n",
              "1               0          0  \n",
              "2               0          1  \n",
              "3               0          0  \n",
              "4               0          1  \n",
              "5               0          0  \n",
              "6               0          0  \n",
              "7               1          0  \n",
              "8               1          1  \n",
              "9               0          0  \n",
              "10              0          1  \n",
              "11              0          1  \n",
              "12              1          1  \n",
              "13              1          0  \n",
              "14              0          0  "
            ]
          },
          "execution_count": 3,
          "metadata": {},
          "output_type": "execute_result"
        }
      ],
      "source": [
        "patients_data[['AlcoholIntake','BMI','PhysicalActivity']] = patients_data[['AlcoholIntake','BMI','PhysicalActivity']].round(0)\n",
        "patients_data.head(15)"
      ]
    },
    {
      "cell_type": "markdown",
      "id": "24022a4a",
      "metadata": {
        "papermill": {
          "duration": 0.019932,
          "end_time": "2024-06-19T03:44:40.604030",
          "exception": false,
          "start_time": "2024-06-19T03:44:40.584098",
          "status": "completed"
        },
        "tags": [],
        "id": "24022a4a"
      },
      "source": [
        "_____________________________________________________________"
      ]
    },
    {
      "cell_type": "markdown",
      "id": "6a45b2a6",
      "metadata": {
        "papermill": {
          "duration": 0.019814,
          "end_time": "2024-06-19T03:44:40.644129",
          "exception": false,
          "start_time": "2024-06-19T03:44:40.624315",
          "status": "completed"
        },
        "tags": [],
        "id": "6a45b2a6"
      },
      "source": [
        "Below I created some columns with average values ​​from the BMI, AGE, Physical Activity and Alcohol Intake columns\n",
        "\n",
        "This improves the accuracy of learning methods"
      ]
    },
    {
      "cell_type": "markdown",
      "id": "6c42aa35",
      "metadata": {
        "papermill": {
          "duration": 0.020348,
          "end_time": "2024-06-19T03:44:40.684716",
          "exception": false,
          "start_time": "2024-06-19T03:44:40.664368",
          "status": "completed"
        },
        "tags": [],
        "id": "6c42aa35"
      },
      "source": [
        "_____________________________________________________________"
      ]
    },
    {
      "cell_type": "code",
      "execution_count": null,
      "id": "b5b868ad",
      "metadata": {
        "execution": {
          "iopub.execute_input": "2024-06-19T03:44:40.727775Z",
          "iopub.status.busy": "2024-06-19T03:44:40.726845Z",
          "iopub.status.idle": "2024-06-19T03:44:40.758250Z",
          "shell.execute_reply": "2024-06-19T03:44:40.757156Z"
        },
        "papermill": {
          "duration": 0.055581,
          "end_time": "2024-06-19T03:44:40.760763",
          "exception": false,
          "start_time": "2024-06-19T03:44:40.705182",
          "status": "completed"
        },
        "tags": [],
        "id": "b5b868ad",
        "outputId": "3c8cb0b8-1b59-482d-e365-a1fc1e98947e"
      },
      "outputs": [
        {
          "data": {
            "text/html": [
              "<div>\n",
              "<style scoped>\n",
              "    .dataframe tbody tr th:only-of-type {\n",
              "        vertical-align: middle;\n",
              "    }\n",
              "\n",
              "    .dataframe tbody tr th {\n",
              "        vertical-align: top;\n",
              "    }\n",
              "\n",
              "    .dataframe thead th {\n",
              "        text-align: right;\n",
              "    }\n",
              "</style>\n",
              "<table border=\"1\" class=\"dataframe\">\n",
              "  <thead>\n",
              "    <tr style=\"text-align: right;\">\n",
              "      <th></th>\n",
              "      <th>Age</th>\n",
              "      <th>Gender</th>\n",
              "      <th>BMI</th>\n",
              "      <th>Smoking</th>\n",
              "      <th>GeneticRisk</th>\n",
              "      <th>PhysicalActivity</th>\n",
              "      <th>AlcoholIntake</th>\n",
              "      <th>CancerHistory</th>\n",
              "      <th>Diagnosis</th>\n",
              "      <th>Age main</th>\n",
              "      <th>BMI main</th>\n",
              "      <th>PhysicalActivity main</th>\n",
              "      <th>AlcoholIntake main</th>\n",
              "    </tr>\n",
              "  </thead>\n",
              "  <tbody>\n",
              "    <tr>\n",
              "      <th>0</th>\n",
              "      <td>58</td>\n",
              "      <td>1</td>\n",
              "      <td>16.0</td>\n",
              "      <td>0</td>\n",
              "      <td>1</td>\n",
              "      <td>8.0</td>\n",
              "      <td>4.0</td>\n",
              "      <td>1</td>\n",
              "      <td>1</td>\n",
              "      <td>&gt;=50</td>\n",
              "      <td>&lt;27</td>\n",
              "      <td>&gt;=5</td>\n",
              "      <td>&gt;=2</td>\n",
              "    </tr>\n",
              "    <tr>\n",
              "      <th>1</th>\n",
              "      <td>71</td>\n",
              "      <td>0</td>\n",
              "      <td>31.0</td>\n",
              "      <td>0</td>\n",
              "      <td>1</td>\n",
              "      <td>9.0</td>\n",
              "      <td>4.0</td>\n",
              "      <td>0</td>\n",
              "      <td>0</td>\n",
              "      <td>&gt;=50</td>\n",
              "      <td>&gt;=27</td>\n",
              "      <td>&gt;=5</td>\n",
              "      <td>&gt;=2</td>\n",
              "    </tr>\n",
              "    <tr>\n",
              "      <th>2</th>\n",
              "      <td>48</td>\n",
              "      <td>1</td>\n",
              "      <td>39.0</td>\n",
              "      <td>0</td>\n",
              "      <td>2</td>\n",
              "      <td>5.0</td>\n",
              "      <td>5.0</td>\n",
              "      <td>0</td>\n",
              "      <td>1</td>\n",
              "      <td>&lt;50</td>\n",
              "      <td>&gt;=27</td>\n",
              "      <td>&gt;=5</td>\n",
              "      <td>&gt;=2</td>\n",
              "    </tr>\n",
              "    <tr>\n",
              "      <th>3</th>\n",
              "      <td>34</td>\n",
              "      <td>0</td>\n",
              "      <td>30.0</td>\n",
              "      <td>0</td>\n",
              "      <td>0</td>\n",
              "      <td>10.0</td>\n",
              "      <td>2.0</td>\n",
              "      <td>0</td>\n",
              "      <td>0</td>\n",
              "      <td>&lt;50</td>\n",
              "      <td>&gt;=27</td>\n",
              "      <td>&gt;=5</td>\n",
              "      <td>&gt;=2</td>\n",
              "    </tr>\n",
              "    <tr>\n",
              "      <th>4</th>\n",
              "      <td>62</td>\n",
              "      <td>1</td>\n",
              "      <td>35.0</td>\n",
              "      <td>0</td>\n",
              "      <td>0</td>\n",
              "      <td>5.0</td>\n",
              "      <td>3.0</td>\n",
              "      <td>0</td>\n",
              "      <td>1</td>\n",
              "      <td>&gt;=50</td>\n",
              "      <td>&gt;=27</td>\n",
              "      <td>&gt;=5</td>\n",
              "      <td>&gt;=2</td>\n",
              "    </tr>\n",
              "    <tr>\n",
              "      <th>5</th>\n",
              "      <td>27</td>\n",
              "      <td>0</td>\n",
              "      <td>37.0</td>\n",
              "      <td>0</td>\n",
              "      <td>1</td>\n",
              "      <td>4.0</td>\n",
              "      <td>2.0</td>\n",
              "      <td>0</td>\n",
              "      <td>0</td>\n",
              "      <td>&lt;50</td>\n",
              "      <td>&gt;=27</td>\n",
              "      <td>&lt;5</td>\n",
              "      <td>&gt;=2</td>\n",
              "    </tr>\n",
              "    <tr>\n",
              "      <th>6</th>\n",
              "      <td>80</td>\n",
              "      <td>1</td>\n",
              "      <td>21.0</td>\n",
              "      <td>0</td>\n",
              "      <td>0</td>\n",
              "      <td>8.0</td>\n",
              "      <td>3.0</td>\n",
              "      <td>0</td>\n",
              "      <td>0</td>\n",
              "      <td>&gt;=50</td>\n",
              "      <td>&lt;27</td>\n",
              "      <td>&gt;=5</td>\n",
              "      <td>&gt;=2</td>\n",
              "    </tr>\n",
              "    <tr>\n",
              "      <th>7</th>\n",
              "      <td>40</td>\n",
              "      <td>0</td>\n",
              "      <td>20.0</td>\n",
              "      <td>1</td>\n",
              "      <td>0</td>\n",
              "      <td>5.0</td>\n",
              "      <td>2.0</td>\n",
              "      <td>1</td>\n",
              "      <td>0</td>\n",
              "      <td>&lt;50</td>\n",
              "      <td>&lt;27</td>\n",
              "      <td>&gt;=5</td>\n",
              "      <td>&gt;=2</td>\n",
              "    </tr>\n",
              "    <tr>\n",
              "      <th>8</th>\n",
              "      <td>58</td>\n",
              "      <td>1</td>\n",
              "      <td>30.0</td>\n",
              "      <td>0</td>\n",
              "      <td>1</td>\n",
              "      <td>5.0</td>\n",
              "      <td>1.0</td>\n",
              "      <td>1</td>\n",
              "      <td>1</td>\n",
              "      <td>&gt;=50</td>\n",
              "      <td>&gt;=27</td>\n",
              "      <td>&gt;=5</td>\n",
              "      <td>&lt;2</td>\n",
              "    </tr>\n",
              "    <tr>\n",
              "      <th>9</th>\n",
              "      <td>77</td>\n",
              "      <td>0</td>\n",
              "      <td>25.0</td>\n",
              "      <td>0</td>\n",
              "      <td>1</td>\n",
              "      <td>5.0</td>\n",
              "      <td>3.0</td>\n",
              "      <td>0</td>\n",
              "      <td>0</td>\n",
              "      <td>&gt;=50</td>\n",
              "      <td>&lt;27</td>\n",
              "      <td>&gt;=5</td>\n",
              "      <td>&gt;=2</td>\n",
              "    </tr>\n",
              "    <tr>\n",
              "      <th>10</th>\n",
              "      <td>38</td>\n",
              "      <td>1</td>\n",
              "      <td>36.0</td>\n",
              "      <td>0</td>\n",
              "      <td>2</td>\n",
              "      <td>8.0</td>\n",
              "      <td>3.0</td>\n",
              "      <td>0</td>\n",
              "      <td>1</td>\n",
              "      <td>&lt;50</td>\n",
              "      <td>&gt;=27</td>\n",
              "      <td>&gt;=5</td>\n",
              "      <td>&gt;=2</td>\n",
              "    </tr>\n",
              "    <tr>\n",
              "      <th>11</th>\n",
              "      <td>42</td>\n",
              "      <td>0</td>\n",
              "      <td>38.0</td>\n",
              "      <td>1</td>\n",
              "      <td>2</td>\n",
              "      <td>8.0</td>\n",
              "      <td>4.0</td>\n",
              "      <td>0</td>\n",
              "      <td>1</td>\n",
              "      <td>&lt;50</td>\n",
              "      <td>&gt;=27</td>\n",
              "      <td>&gt;=5</td>\n",
              "      <td>&gt;=2</td>\n",
              "    </tr>\n",
              "    <tr>\n",
              "      <th>12</th>\n",
              "      <td>30</td>\n",
              "      <td>1</td>\n",
              "      <td>24.0</td>\n",
              "      <td>0</td>\n",
              "      <td>1</td>\n",
              "      <td>4.0</td>\n",
              "      <td>4.0</td>\n",
              "      <td>1</td>\n",
              "      <td>1</td>\n",
              "      <td>&lt;50</td>\n",
              "      <td>&lt;27</td>\n",
              "      <td>&lt;5</td>\n",
              "      <td>&gt;=2</td>\n",
              "    </tr>\n",
              "    <tr>\n",
              "      <th>13</th>\n",
              "      <td>30</td>\n",
              "      <td>0</td>\n",
              "      <td>21.0</td>\n",
              "      <td>0</td>\n",
              "      <td>0</td>\n",
              "      <td>3.0</td>\n",
              "      <td>3.0</td>\n",
              "      <td>1</td>\n",
              "      <td>0</td>\n",
              "      <td>&lt;50</td>\n",
              "      <td>&lt;27</td>\n",
              "      <td>&lt;5</td>\n",
              "      <td>&gt;=2</td>\n",
              "    </tr>\n",
              "    <tr>\n",
              "      <th>14</th>\n",
              "      <td>43</td>\n",
              "      <td>0</td>\n",
              "      <td>35.0</td>\n",
              "      <td>0</td>\n",
              "      <td>1</td>\n",
              "      <td>5.0</td>\n",
              "      <td>1.0</td>\n",
              "      <td>0</td>\n",
              "      <td>0</td>\n",
              "      <td>&lt;50</td>\n",
              "      <td>&gt;=27</td>\n",
              "      <td>&gt;=5</td>\n",
              "      <td>&lt;2</td>\n",
              "    </tr>\n",
              "  </tbody>\n",
              "</table>\n",
              "</div>"
            ],
            "text/plain": [
              "    Age  Gender   BMI  Smoking  GeneticRisk  PhysicalActivity  AlcoholIntake  \\\n",
              "0    58       1  16.0        0            1               8.0            4.0   \n",
              "1    71       0  31.0        0            1               9.0            4.0   \n",
              "2    48       1  39.0        0            2               5.0            5.0   \n",
              "3    34       0  30.0        0            0              10.0            2.0   \n",
              "4    62       1  35.0        0            0               5.0            3.0   \n",
              "5    27       0  37.0        0            1               4.0            2.0   \n",
              "6    80       1  21.0        0            0               8.0            3.0   \n",
              "7    40       0  20.0        1            0               5.0            2.0   \n",
              "8    58       1  30.0        0            1               5.0            1.0   \n",
              "9    77       0  25.0        0            1               5.0            3.0   \n",
              "10   38       1  36.0        0            2               8.0            3.0   \n",
              "11   42       0  38.0        1            2               8.0            4.0   \n",
              "12   30       1  24.0        0            1               4.0            4.0   \n",
              "13   30       0  21.0        0            0               3.0            3.0   \n",
              "14   43       0  35.0        0            1               5.0            1.0   \n",
              "\n",
              "    CancerHistory  Diagnosis Age main BMI main PhysicalActivity main  \\\n",
              "0               1          1     >=50      <27                   >=5   \n",
              "1               0          0     >=50     >=27                   >=5   \n",
              "2               0          1      <50     >=27                   >=5   \n",
              "3               0          0      <50     >=27                   >=5   \n",
              "4               0          1     >=50     >=27                   >=5   \n",
              "5               0          0      <50     >=27                    <5   \n",
              "6               0          0     >=50      <27                   >=5   \n",
              "7               1          0      <50      <27                   >=5   \n",
              "8               1          1     >=50     >=27                   >=5   \n",
              "9               0          0     >=50      <27                   >=5   \n",
              "10              0          1      <50     >=27                   >=5   \n",
              "11              0          1      <50     >=27                   >=5   \n",
              "12              1          1      <50      <27                    <5   \n",
              "13              1          0      <50      <27                    <5   \n",
              "14              0          0      <50     >=27                   >=5   \n",
              "\n",
              "   AlcoholIntake main  \n",
              "0                 >=2  \n",
              "1                 >=2  \n",
              "2                 >=2  \n",
              "3                 >=2  \n",
              "4                 >=2  \n",
              "5                 >=2  \n",
              "6                 >=2  \n",
              "7                 >=2  \n",
              "8                  <2  \n",
              "9                 >=2  \n",
              "10                >=2  \n",
              "11                >=2  \n",
              "12                >=2  \n",
              "13                >=2  \n",
              "14                 <2  "
            ]
          },
          "execution_count": 4,
          "metadata": {},
          "output_type": "execute_result"
        }
      ],
      "source": [
        "\n",
        "patients_data['Age main'] = np.where(patients_data['Age'] < 50, '<50', '>=50')\n",
        "patients_data['BMI main'] = np.where(patients_data['BMI'] < 27, '<27', '>=27')\n",
        "patients_data['PhysicalActivity main'] = np.where(patients_data['PhysicalActivity'] < 5, '<5', '>=5')\n",
        "patients_data['AlcoholIntake main'] = np.where(patients_data['AlcoholIntake'] < 2, '<2', '>=2')\n",
        "\n",
        "patients_data.head(15)\n"
      ]
    },
    {
      "cell_type": "code",
      "execution_count": null,
      "id": "e95aaa91",
      "metadata": {
        "execution": {
          "iopub.execute_input": "2024-06-19T03:44:40.804789Z",
          "iopub.status.busy": "2024-06-19T03:44:40.804090Z",
          "iopub.status.idle": "2024-06-19T03:44:40.811503Z",
          "shell.execute_reply": "2024-06-19T03:44:40.810419Z"
        },
        "papermill": {
          "duration": 0.032042,
          "end_time": "2024-06-19T03:44:40.813779",
          "exception": false,
          "start_time": "2024-06-19T03:44:40.781737",
          "status": "completed"
        },
        "tags": [],
        "id": "e95aaa91",
        "outputId": "a33842ce-d18b-4879-df2b-a7e357bd3468"
      },
      "outputs": [
        {
          "data": {
            "text/plain": [
              "Index(['Age', 'Gender', 'BMI', 'Smoking', 'GeneticRisk', 'PhysicalActivity',\n",
              "       'AlcoholIntake', 'CancerHistory', 'Diagnosis', 'Age main', 'BMI main',\n",
              "       'PhysicalActivity main', 'AlcoholIntake main'],\n",
              "      dtype='object')"
            ]
          },
          "execution_count": 5,
          "metadata": {},
          "output_type": "execute_result"
        }
      ],
      "source": [
        "patients_data.columns"
      ]
    },
    {
      "cell_type": "code",
      "execution_count": null,
      "id": "07131790",
      "metadata": {
        "execution": {
          "iopub.execute_input": "2024-06-19T03:44:40.859395Z",
          "iopub.status.busy": "2024-06-19T03:44:40.858553Z",
          "iopub.status.idle": "2024-06-19T03:44:40.887940Z",
          "shell.execute_reply": "2024-06-19T03:44:40.886826Z"
        },
        "papermill": {
          "duration": 0.055094,
          "end_time": "2024-06-19T03:44:40.890534",
          "exception": false,
          "start_time": "2024-06-19T03:44:40.835440",
          "status": "completed"
        },
        "tags": [],
        "id": "07131790",
        "outputId": "38b84a34-f4b3-4e9b-9556-e4e5ec0f9725"
      },
      "outputs": [
        {
          "data": {
            "text/html": [
              "<div>\n",
              "<style scoped>\n",
              "    .dataframe tbody tr th:only-of-type {\n",
              "        vertical-align: middle;\n",
              "    }\n",
              "\n",
              "    .dataframe tbody tr th {\n",
              "        vertical-align: top;\n",
              "    }\n",
              "\n",
              "    .dataframe thead th {\n",
              "        text-align: right;\n",
              "    }\n",
              "</style>\n",
              "<table border=\"1\" class=\"dataframe\">\n",
              "  <thead>\n",
              "    <tr style=\"text-align: right;\">\n",
              "      <th></th>\n",
              "      <th>Age</th>\n",
              "      <th>Gender</th>\n",
              "      <th>BMI</th>\n",
              "      <th>Smoking</th>\n",
              "      <th>GeneticRisk</th>\n",
              "      <th>PhysicalActivity</th>\n",
              "      <th>AlcoholIntake</th>\n",
              "      <th>CancerHistory</th>\n",
              "      <th>Age main</th>\n",
              "      <th>BMI main</th>\n",
              "      <th>PhysicalActivity main</th>\n",
              "      <th>AlcoholIntake main</th>\n",
              "      <th>Diagnosis</th>\n",
              "    </tr>\n",
              "  </thead>\n",
              "  <tbody>\n",
              "    <tr>\n",
              "      <th>0</th>\n",
              "      <td>58</td>\n",
              "      <td>1</td>\n",
              "      <td>16.0</td>\n",
              "      <td>0</td>\n",
              "      <td>1</td>\n",
              "      <td>8.0</td>\n",
              "      <td>4.0</td>\n",
              "      <td>1</td>\n",
              "      <td>&gt;=50</td>\n",
              "      <td>&lt;27</td>\n",
              "      <td>&gt;=5</td>\n",
              "      <td>&gt;=2</td>\n",
              "      <td>1</td>\n",
              "    </tr>\n",
              "    <tr>\n",
              "      <th>1</th>\n",
              "      <td>71</td>\n",
              "      <td>0</td>\n",
              "      <td>31.0</td>\n",
              "      <td>0</td>\n",
              "      <td>1</td>\n",
              "      <td>9.0</td>\n",
              "      <td>4.0</td>\n",
              "      <td>0</td>\n",
              "      <td>&gt;=50</td>\n",
              "      <td>&gt;=27</td>\n",
              "      <td>&gt;=5</td>\n",
              "      <td>&gt;=2</td>\n",
              "      <td>0</td>\n",
              "    </tr>\n",
              "    <tr>\n",
              "      <th>2</th>\n",
              "      <td>48</td>\n",
              "      <td>1</td>\n",
              "      <td>39.0</td>\n",
              "      <td>0</td>\n",
              "      <td>2</td>\n",
              "      <td>5.0</td>\n",
              "      <td>5.0</td>\n",
              "      <td>0</td>\n",
              "      <td>&lt;50</td>\n",
              "      <td>&gt;=27</td>\n",
              "      <td>&gt;=5</td>\n",
              "      <td>&gt;=2</td>\n",
              "      <td>1</td>\n",
              "    </tr>\n",
              "    <tr>\n",
              "      <th>3</th>\n",
              "      <td>34</td>\n",
              "      <td>0</td>\n",
              "      <td>30.0</td>\n",
              "      <td>0</td>\n",
              "      <td>0</td>\n",
              "      <td>10.0</td>\n",
              "      <td>2.0</td>\n",
              "      <td>0</td>\n",
              "      <td>&lt;50</td>\n",
              "      <td>&gt;=27</td>\n",
              "      <td>&gt;=5</td>\n",
              "      <td>&gt;=2</td>\n",
              "      <td>0</td>\n",
              "    </tr>\n",
              "    <tr>\n",
              "      <th>4</th>\n",
              "      <td>62</td>\n",
              "      <td>1</td>\n",
              "      <td>35.0</td>\n",
              "      <td>0</td>\n",
              "      <td>0</td>\n",
              "      <td>5.0</td>\n",
              "      <td>3.0</td>\n",
              "      <td>0</td>\n",
              "      <td>&gt;=50</td>\n",
              "      <td>&gt;=27</td>\n",
              "      <td>&gt;=5</td>\n",
              "      <td>&gt;=2</td>\n",
              "      <td>1</td>\n",
              "    </tr>\n",
              "    <tr>\n",
              "      <th>5</th>\n",
              "      <td>27</td>\n",
              "      <td>0</td>\n",
              "      <td>37.0</td>\n",
              "      <td>0</td>\n",
              "      <td>1</td>\n",
              "      <td>4.0</td>\n",
              "      <td>2.0</td>\n",
              "      <td>0</td>\n",
              "      <td>&lt;50</td>\n",
              "      <td>&gt;=27</td>\n",
              "      <td>&lt;5</td>\n",
              "      <td>&gt;=2</td>\n",
              "      <td>0</td>\n",
              "    </tr>\n",
              "    <tr>\n",
              "      <th>6</th>\n",
              "      <td>80</td>\n",
              "      <td>1</td>\n",
              "      <td>21.0</td>\n",
              "      <td>0</td>\n",
              "      <td>0</td>\n",
              "      <td>8.0</td>\n",
              "      <td>3.0</td>\n",
              "      <td>0</td>\n",
              "      <td>&gt;=50</td>\n",
              "      <td>&lt;27</td>\n",
              "      <td>&gt;=5</td>\n",
              "      <td>&gt;=2</td>\n",
              "      <td>0</td>\n",
              "    </tr>\n",
              "    <tr>\n",
              "      <th>7</th>\n",
              "      <td>40</td>\n",
              "      <td>0</td>\n",
              "      <td>20.0</td>\n",
              "      <td>1</td>\n",
              "      <td>0</td>\n",
              "      <td>5.0</td>\n",
              "      <td>2.0</td>\n",
              "      <td>1</td>\n",
              "      <td>&lt;50</td>\n",
              "      <td>&lt;27</td>\n",
              "      <td>&gt;=5</td>\n",
              "      <td>&gt;=2</td>\n",
              "      <td>0</td>\n",
              "    </tr>\n",
              "    <tr>\n",
              "      <th>8</th>\n",
              "      <td>58</td>\n",
              "      <td>1</td>\n",
              "      <td>30.0</td>\n",
              "      <td>0</td>\n",
              "      <td>1</td>\n",
              "      <td>5.0</td>\n",
              "      <td>1.0</td>\n",
              "      <td>1</td>\n",
              "      <td>&gt;=50</td>\n",
              "      <td>&gt;=27</td>\n",
              "      <td>&gt;=5</td>\n",
              "      <td>&lt;2</td>\n",
              "      <td>1</td>\n",
              "    </tr>\n",
              "    <tr>\n",
              "      <th>9</th>\n",
              "      <td>77</td>\n",
              "      <td>0</td>\n",
              "      <td>25.0</td>\n",
              "      <td>0</td>\n",
              "      <td>1</td>\n",
              "      <td>5.0</td>\n",
              "      <td>3.0</td>\n",
              "      <td>0</td>\n",
              "      <td>&gt;=50</td>\n",
              "      <td>&lt;27</td>\n",
              "      <td>&gt;=5</td>\n",
              "      <td>&gt;=2</td>\n",
              "      <td>0</td>\n",
              "    </tr>\n",
              "    <tr>\n",
              "      <th>10</th>\n",
              "      <td>38</td>\n",
              "      <td>1</td>\n",
              "      <td>36.0</td>\n",
              "      <td>0</td>\n",
              "      <td>2</td>\n",
              "      <td>8.0</td>\n",
              "      <td>3.0</td>\n",
              "      <td>0</td>\n",
              "      <td>&lt;50</td>\n",
              "      <td>&gt;=27</td>\n",
              "      <td>&gt;=5</td>\n",
              "      <td>&gt;=2</td>\n",
              "      <td>1</td>\n",
              "    </tr>\n",
              "    <tr>\n",
              "      <th>11</th>\n",
              "      <td>42</td>\n",
              "      <td>0</td>\n",
              "      <td>38.0</td>\n",
              "      <td>1</td>\n",
              "      <td>2</td>\n",
              "      <td>8.0</td>\n",
              "      <td>4.0</td>\n",
              "      <td>0</td>\n",
              "      <td>&lt;50</td>\n",
              "      <td>&gt;=27</td>\n",
              "      <td>&gt;=5</td>\n",
              "      <td>&gt;=2</td>\n",
              "      <td>1</td>\n",
              "    </tr>\n",
              "    <tr>\n",
              "      <th>12</th>\n",
              "      <td>30</td>\n",
              "      <td>1</td>\n",
              "      <td>24.0</td>\n",
              "      <td>0</td>\n",
              "      <td>1</td>\n",
              "      <td>4.0</td>\n",
              "      <td>4.0</td>\n",
              "      <td>1</td>\n",
              "      <td>&lt;50</td>\n",
              "      <td>&lt;27</td>\n",
              "      <td>&lt;5</td>\n",
              "      <td>&gt;=2</td>\n",
              "      <td>1</td>\n",
              "    </tr>\n",
              "    <tr>\n",
              "      <th>13</th>\n",
              "      <td>30</td>\n",
              "      <td>0</td>\n",
              "      <td>21.0</td>\n",
              "      <td>0</td>\n",
              "      <td>0</td>\n",
              "      <td>3.0</td>\n",
              "      <td>3.0</td>\n",
              "      <td>1</td>\n",
              "      <td>&lt;50</td>\n",
              "      <td>&lt;27</td>\n",
              "      <td>&lt;5</td>\n",
              "      <td>&gt;=2</td>\n",
              "      <td>0</td>\n",
              "    </tr>\n",
              "    <tr>\n",
              "      <th>14</th>\n",
              "      <td>43</td>\n",
              "      <td>0</td>\n",
              "      <td>35.0</td>\n",
              "      <td>0</td>\n",
              "      <td>1</td>\n",
              "      <td>5.0</td>\n",
              "      <td>1.0</td>\n",
              "      <td>0</td>\n",
              "      <td>&lt;50</td>\n",
              "      <td>&gt;=27</td>\n",
              "      <td>&gt;=5</td>\n",
              "      <td>&lt;2</td>\n",
              "      <td>0</td>\n",
              "    </tr>\n",
              "  </tbody>\n",
              "</table>\n",
              "</div>"
            ],
            "text/plain": [
              "    Age  Gender   BMI  Smoking  GeneticRisk  PhysicalActivity  AlcoholIntake  \\\n",
              "0    58       1  16.0        0            1               8.0            4.0   \n",
              "1    71       0  31.0        0            1               9.0            4.0   \n",
              "2    48       1  39.0        0            2               5.0            5.0   \n",
              "3    34       0  30.0        0            0              10.0            2.0   \n",
              "4    62       1  35.0        0            0               5.0            3.0   \n",
              "5    27       0  37.0        0            1               4.0            2.0   \n",
              "6    80       1  21.0        0            0               8.0            3.0   \n",
              "7    40       0  20.0        1            0               5.0            2.0   \n",
              "8    58       1  30.0        0            1               5.0            1.0   \n",
              "9    77       0  25.0        0            1               5.0            3.0   \n",
              "10   38       1  36.0        0            2               8.0            3.0   \n",
              "11   42       0  38.0        1            2               8.0            4.0   \n",
              "12   30       1  24.0        0            1               4.0            4.0   \n",
              "13   30       0  21.0        0            0               3.0            3.0   \n",
              "14   43       0  35.0        0            1               5.0            1.0   \n",
              "\n",
              "    CancerHistory Age main BMI main PhysicalActivity main AlcoholIntake main  \\\n",
              "0               1     >=50      <27                   >=5                >=2   \n",
              "1               0     >=50     >=27                   >=5                >=2   \n",
              "2               0      <50     >=27                   >=5                >=2   \n",
              "3               0      <50     >=27                   >=5                >=2   \n",
              "4               0     >=50     >=27                   >=5                >=2   \n",
              "5               0      <50     >=27                    <5                >=2   \n",
              "6               0     >=50      <27                   >=5                >=2   \n",
              "7               1      <50      <27                   >=5                >=2   \n",
              "8               1     >=50     >=27                   >=5                 <2   \n",
              "9               0     >=50      <27                   >=5                >=2   \n",
              "10              0      <50     >=27                   >=5                >=2   \n",
              "11              0      <50     >=27                   >=5                >=2   \n",
              "12              1      <50      <27                    <5                >=2   \n",
              "13              1      <50      <27                    <5                >=2   \n",
              "14              0      <50     >=27                   >=5                 <2   \n",
              "\n",
              "    Diagnosis  \n",
              "0           1  \n",
              "1           0  \n",
              "2           1  \n",
              "3           0  \n",
              "4           1  \n",
              "5           0  \n",
              "6           0  \n",
              "7           0  \n",
              "8           1  \n",
              "9           0  \n",
              "10          1  \n",
              "11          1  \n",
              "12          1  \n",
              "13          0  \n",
              "14          0  "
            ]
          },
          "execution_count": 6,
          "metadata": {},
          "output_type": "execute_result"
        }
      ],
      "source": [
        "new_order = ['Age', 'Gender', 'BMI', 'Smoking', 'GeneticRisk', 'PhysicalActivity',\n",
        "       'AlcoholIntake', 'CancerHistory', 'Age main', 'BMI main',\n",
        "       'PhysicalActivity main', 'AlcoholIntake main', 'Diagnosis']\n",
        "\n",
        "patients_data = patients_data[new_order]\n",
        "patients_data.head(15)"
      ]
    },
    {
      "cell_type": "markdown",
      "id": "4b935001",
      "metadata": {
        "papermill": {
          "duration": 0.021367,
          "end_time": "2024-06-19T03:44:40.933690",
          "exception": false,
          "start_time": "2024-06-19T03:44:40.912323",
          "status": "completed"
        },
        "tags": [],
        "id": "4b935001"
      },
      "source": [
        "_____________________________________________________________"
      ]
    },
    {
      "cell_type": "markdown",
      "id": "d984429a",
      "metadata": {
        "papermill": {
          "duration": 0.021385,
          "end_time": "2024-06-19T03:44:40.976893",
          "exception": false,
          "start_time": "2024-06-19T03:44:40.955508",
          "status": "completed"
        },
        "tags": [],
        "id": "d984429a"
      },
      "source": [
        "An important piece of information that can impact the final result is null attributes and, in this case, there were none."
      ]
    },
    {
      "cell_type": "markdown",
      "id": "220f5351",
      "metadata": {
        "papermill": {
          "duration": 0.021428,
          "end_time": "2024-06-19T03:44:41.020109",
          "exception": false,
          "start_time": "2024-06-19T03:44:40.998681",
          "status": "completed"
        },
        "tags": [],
        "id": "220f5351"
      },
      "source": [
        "_____________________________________________________________"
      ]
    },
    {
      "cell_type": "code",
      "execution_count": null,
      "id": "4009bbbd",
      "metadata": {
        "execution": {
          "iopub.execute_input": "2024-06-19T03:44:41.066158Z",
          "iopub.status.busy": "2024-06-19T03:44:41.065749Z",
          "iopub.status.idle": "2024-06-19T03:44:41.075082Z",
          "shell.execute_reply": "2024-06-19T03:44:41.073889Z"
        },
        "papermill": {
          "duration": 0.035901,
          "end_time": "2024-06-19T03:44:41.077632",
          "exception": false,
          "start_time": "2024-06-19T03:44:41.041731",
          "status": "completed"
        },
        "tags": [],
        "id": "4009bbbd",
        "outputId": "437f1cf3-ed22-4b8f-fbc9-41f0e5279723"
      },
      "outputs": [
        {
          "name": "stdout",
          "output_type": "stream",
          "text": [
            "Age                      0\n",
            "Gender                   0\n",
            "BMI                      0\n",
            "Smoking                  0\n",
            "GeneticRisk              0\n",
            "PhysicalActivity         0\n",
            "AlcoholIntake            0\n",
            "CancerHistory            0\n",
            "Age main                 0\n",
            "BMI main                 0\n",
            "PhysicalActivity main    0\n",
            "AlcoholIntake main       0\n",
            "Diagnosis                0\n",
            "dtype: int64\n"
          ]
        }
      ],
      "source": [
        "missing_values_per_column = patients_data.isna().sum()\n",
        "print(missing_values_per_column)"
      ]
    },
    {
      "cell_type": "code",
      "execution_count": null,
      "id": "51435043",
      "metadata": {
        "execution": {
          "iopub.execute_input": "2024-06-19T03:44:41.182975Z",
          "iopub.status.busy": "2024-06-19T03:44:41.182581Z",
          "iopub.status.idle": "2024-06-19T03:44:41.224396Z",
          "shell.execute_reply": "2024-06-19T03:44:41.223236Z"
        },
        "papermill": {
          "duration": 0.06765,
          "end_time": "2024-06-19T03:44:41.226793",
          "exception": false,
          "start_time": "2024-06-19T03:44:41.159143",
          "status": "completed"
        },
        "tags": [],
        "id": "51435043",
        "outputId": "32bc6ef4-470b-4f8a-ef58-6a240866be6c"
      },
      "outputs": [
        {
          "data": {
            "text/html": [
              "<div>\n",
              "<style scoped>\n",
              "    .dataframe tbody tr th:only-of-type {\n",
              "        vertical-align: middle;\n",
              "    }\n",
              "\n",
              "    .dataframe tbody tr th {\n",
              "        vertical-align: top;\n",
              "    }\n",
              "\n",
              "    .dataframe thead th {\n",
              "        text-align: right;\n",
              "    }\n",
              "</style>\n",
              "<table border=\"1\" class=\"dataframe\">\n",
              "  <thead>\n",
              "    <tr style=\"text-align: right;\">\n",
              "      <th></th>\n",
              "      <th>count</th>\n",
              "      <th>mean</th>\n",
              "      <th>std</th>\n",
              "      <th>min</th>\n",
              "      <th>25%</th>\n",
              "      <th>50%</th>\n",
              "      <th>75%</th>\n",
              "      <th>max</th>\n",
              "    </tr>\n",
              "  </thead>\n",
              "  <tbody>\n",
              "    <tr>\n",
              "      <th>Age</th>\n",
              "      <td>1500.0</td>\n",
              "      <td>50.320000</td>\n",
              "      <td>17.640968</td>\n",
              "      <td>20.0</td>\n",
              "      <td>35.0</td>\n",
              "      <td>51.0</td>\n",
              "      <td>66.0</td>\n",
              "      <td>80.0</td>\n",
              "    </tr>\n",
              "    <tr>\n",
              "      <th>Gender</th>\n",
              "      <td>1500.0</td>\n",
              "      <td>0.490667</td>\n",
              "      <td>0.500080</td>\n",
              "      <td>0.0</td>\n",
              "      <td>0.0</td>\n",
              "      <td>0.0</td>\n",
              "      <td>1.0</td>\n",
              "      <td>1.0</td>\n",
              "    </tr>\n",
              "    <tr>\n",
              "      <th>BMI</th>\n",
              "      <td>1500.0</td>\n",
              "      <td>27.526000</td>\n",
              "      <td>7.248012</td>\n",
              "      <td>15.0</td>\n",
              "      <td>21.0</td>\n",
              "      <td>28.0</td>\n",
              "      <td>34.0</td>\n",
              "      <td>40.0</td>\n",
              "    </tr>\n",
              "    <tr>\n",
              "      <th>Smoking</th>\n",
              "      <td>1500.0</td>\n",
              "      <td>0.269333</td>\n",
              "      <td>0.443761</td>\n",
              "      <td>0.0</td>\n",
              "      <td>0.0</td>\n",
              "      <td>0.0</td>\n",
              "      <td>1.0</td>\n",
              "      <td>1.0</td>\n",
              "    </tr>\n",
              "    <tr>\n",
              "      <th>GeneticRisk</th>\n",
              "      <td>1500.0</td>\n",
              "      <td>0.508667</td>\n",
              "      <td>0.678895</td>\n",
              "      <td>0.0</td>\n",
              "      <td>0.0</td>\n",
              "      <td>0.0</td>\n",
              "      <td>1.0</td>\n",
              "      <td>2.0</td>\n",
              "    </tr>\n",
              "    <tr>\n",
              "      <th>PhysicalActivity</th>\n",
              "      <td>1500.0</td>\n",
              "      <td>4.902000</td>\n",
              "      <td>2.872960</td>\n",
              "      <td>0.0</td>\n",
              "      <td>2.0</td>\n",
              "      <td>5.0</td>\n",
              "      <td>7.0</td>\n",
              "      <td>10.0</td>\n",
              "    </tr>\n",
              "    <tr>\n",
              "      <th>AlcoholIntake</th>\n",
              "      <td>1500.0</td>\n",
              "      <td>2.414667</td>\n",
              "      <td>1.469294</td>\n",
              "      <td>0.0</td>\n",
              "      <td>1.0</td>\n",
              "      <td>2.0</td>\n",
              "      <td>4.0</td>\n",
              "      <td>5.0</td>\n",
              "    </tr>\n",
              "    <tr>\n",
              "      <th>CancerHistory</th>\n",
              "      <td>1500.0</td>\n",
              "      <td>0.144000</td>\n",
              "      <td>0.351207</td>\n",
              "      <td>0.0</td>\n",
              "      <td>0.0</td>\n",
              "      <td>0.0</td>\n",
              "      <td>0.0</td>\n",
              "      <td>1.0</td>\n",
              "    </tr>\n",
              "    <tr>\n",
              "      <th>Diagnosis</th>\n",
              "      <td>1500.0</td>\n",
              "      <td>0.371333</td>\n",
              "      <td>0.483322</td>\n",
              "      <td>0.0</td>\n",
              "      <td>0.0</td>\n",
              "      <td>0.0</td>\n",
              "      <td>1.0</td>\n",
              "      <td>1.0</td>\n",
              "    </tr>\n",
              "  </tbody>\n",
              "</table>\n",
              "</div>"
            ],
            "text/plain": [
              "                   count       mean        std   min   25%   50%   75%   max\n",
              "Age               1500.0  50.320000  17.640968  20.0  35.0  51.0  66.0  80.0\n",
              "Gender            1500.0   0.490667   0.500080   0.0   0.0   0.0   1.0   1.0\n",
              "BMI               1500.0  27.526000   7.248012  15.0  21.0  28.0  34.0  40.0\n",
              "Smoking           1500.0   0.269333   0.443761   0.0   0.0   0.0   1.0   1.0\n",
              "GeneticRisk       1500.0   0.508667   0.678895   0.0   0.0   0.0   1.0   2.0\n",
              "PhysicalActivity  1500.0   4.902000   2.872960   0.0   2.0   5.0   7.0  10.0\n",
              "AlcoholIntake     1500.0   2.414667   1.469294   0.0   1.0   2.0   4.0   5.0\n",
              "CancerHistory     1500.0   0.144000   0.351207   0.0   0.0   0.0   0.0   1.0\n",
              "Diagnosis         1500.0   0.371333   0.483322   0.0   0.0   0.0   1.0   1.0"
            ]
          },
          "execution_count": 8,
          "metadata": {},
          "output_type": "execute_result"
        }
      ],
      "source": [
        "patients_data.describe().T"
      ]
    },
    {
      "cell_type": "markdown",
      "id": "4f0ca01e",
      "metadata": {
        "papermill": {
          "duration": 0.022047,
          "end_time": "2024-06-19T03:44:41.270847",
          "exception": false,
          "start_time": "2024-06-19T03:44:41.248800",
          "status": "completed"
        },
        "tags": [],
        "id": "4f0ca01e"
      },
      "source": [
        "_____________________________________________________________"
      ]
    },
    {
      "cell_type": "markdown",
      "id": "c1004ca0",
      "metadata": {
        "papermill": {
          "duration": 0.021744,
          "end_time": "2024-06-19T03:44:41.314698",
          "exception": false,
          "start_time": "2024-06-19T03:44:41.292954",
          "status": "completed"
        },
        "tags": [],
        "id": "c1004ca0"
      },
      "source": [
        "### **Generating graphs for analysis**"
      ]
    },
    {
      "cell_type": "code",
      "execution_count": null,
      "id": "05ae8e18",
      "metadata": {
        "execution": {
          "iopub.execute_input": "2024-06-19T03:44:41.362674Z",
          "iopub.status.busy": "2024-06-19T03:44:41.361514Z",
          "iopub.status.idle": "2024-06-19T03:44:41.370045Z",
          "shell.execute_reply": "2024-06-19T03:44:41.368617Z"
        },
        "papermill": {
          "duration": 0.035448,
          "end_time": "2024-06-19T03:44:41.372478",
          "exception": false,
          "start_time": "2024-06-19T03:44:41.337030",
          "status": "completed"
        },
        "tags": [],
        "id": "05ae8e18",
        "outputId": "d0122e36-90c9-40b9-8754-29df64acc75c"
      },
      "outputs": [
        {
          "data": {
            "text/plain": [
              "Index(['Age', 'Gender', 'BMI', 'Smoking', 'GeneticRisk', 'PhysicalActivity',\n",
              "       'AlcoholIntake', 'CancerHistory', 'Age main', 'BMI main',\n",
              "       'PhysicalActivity main', 'AlcoholIntake main', 'Diagnosis'],\n",
              "      dtype='object')"
            ]
          },
          "execution_count": 9,
          "metadata": {},
          "output_type": "execute_result"
        }
      ],
      "source": [
        "patients_data.columns"
      ]
    },
    {
      "cell_type": "code",
      "execution_count": null,
      "id": "29d5abe8",
      "metadata": {
        "execution": {
          "iopub.execute_input": "2024-06-19T03:44:41.420079Z",
          "iopub.status.busy": "2024-06-19T03:44:41.419037Z",
          "iopub.status.idle": "2024-06-19T03:44:43.849933Z",
          "shell.execute_reply": "2024-06-19T03:44:43.848802Z"
        },
        "papermill": {
          "duration": 2.459071,
          "end_time": "2024-06-19T03:44:43.854057",
          "exception": false,
          "start_time": "2024-06-19T03:44:41.394986",
          "status": "completed"
        },
        "tags": [],
        "id": "29d5abe8",
        "outputId": "981afa63-07b2-4a49-c332-e9544824636a"
      },
      "outputs": [
        {
          "data": {
            "image/png": "[encoded data removed]",
            "text/plain": [
              "<Figure size 800x600 with 1 Axes>"
            ]
          },
          "metadata": {},
          "output_type": "display_data"
        }
      ],
      "source": [
        "\n",
        "\n",
        "mean_age = patients_data['Age'].mean()\n",
        "\n",
        "mean_diagnosis = patients_data['Diagnosis'].mean()\n",
        "\n",
        "\n",
        "plt.figure(figsize=(8, 6))\n",
        "\n",
        "\n",
        "\n",
        "sns.scatterplot(x='Age', y='Diagnosis', data=patients_data)\n",
        "\n",
        "sns.lineplot(x='Age', y='Diagnosis', data=patients_data, marker='o')\n",
        "\n",
        "\n",
        "\n",
        "plt.axhline(mean_diagnosis, color='red', linestyle='--', label=f'Média de Diagnosis: {mean_diagnosis:.2f}')\n",
        "\n",
        "plt.xlabel('Eixo X (Age)')\n",
        "plt.ylabel('Eixo Y (Diagnosis)')\n",
        "plt.title('Gráfico Age por Diagnosis com Linha de Média')\n",
        "plt.grid(True)\n",
        "plt.legend()\n",
        "\n",
        "\n",
        "plt.show()"
      ]
    },
    {
      "cell_type": "markdown",
      "id": "bc55019c",
      "metadata": {
        "papermill": {
          "duration": 0.024259,
          "end_time": "2024-06-19T03:44:43.903116",
          "exception": false,
          "start_time": "2024-06-19T03:44:43.878857",
          "status": "completed"
        },
        "tags": [],
        "id": "bc55019c"
      },
      "source": [
        "_____________________________________________________________"
      ]
    },
    {
      "cell_type": "markdown",
      "id": "7273e73a",
      "metadata": {
        "papermill": {
          "duration": 0.025613,
          "end_time": "2024-06-19T03:44:43.953134",
          "exception": false,
          "start_time": "2024-06-19T03:44:43.927521",
          "status": "completed"
        },
        "tags": [],
        "id": "7273e73a"
      },
      "source": [
        "Through the graph above, we can see that the patient's age is an extremely important factor that directly affects the analysis,\n",
        "It is possible to see that the probability of people over 50 years of age having cancer is greater than that of people under 50 years of age.\n",
        "\n",
        "Below I drew a parallel using the 'Sankey chart' among other variables that are commonly used to predict whether or not a patient is likely to have cancer, which are:\n",
        "\n",
        "alcohol consumption and smokers"
      ]
    },
    {
      "cell_type": "markdown",
      "id": "c50cbb23",
      "metadata": {
        "papermill": {
          "duration": 0.023954,
          "end_time": "2024-06-19T03:44:44.001620",
          "exception": false,
          "start_time": "2024-06-19T03:44:43.977666",
          "status": "completed"
        },
        "tags": [],
        "id": "c50cbb23"
      },
      "source": [
        "_____________________________________________________________"
      ]
    },
    {
      "cell_type": "code",
      "execution_count": null,
      "id": "14d99caa",
      "metadata": {
        "execution": {
          "iopub.execute_input": "2024-06-19T03:44:44.052083Z",
          "iopub.status.busy": "2024-06-19T03:44:44.051668Z",
          "iopub.status.idle": "2024-06-19T03:44:46.067954Z",
          "shell.execute_reply": "2024-06-19T03:44:46.066866Z"
        },
        "papermill": {
          "duration": 2.045053,
          "end_time": "2024-06-19T03:44:46.071102",
          "exception": false,
          "start_time": "2024-06-19T03:44:44.026049",
          "status": "completed"
        },
        "tags": [],
        "id": "14d99caa",
        "outputId": "6c6b167d-3fce-47a1-b910-a0111850861d"
      },
      "outputs": [
        {
          "data": {
            "text/html": [
              "        <script type=\"text/javascript\">\n",
              "        window.PlotlyConfig = {MathJaxConfig: 'local'};\n",
              "        if (window.MathJax && window.MathJax.Hub && window.MathJax.Hub.Config) {window.MathJax.Hub.Config({SVG: {font: \"STIX-Web\"}});}\n",
              "        if (typeof require !== 'undefined') {\n",
              "        require.undef(\"plotly\");\n",
              "        requirejs.config({\n",
              "            paths: {\n",
              "                'plotly': ['https://cdn.plot.ly/plotly-2.27.0.min']\n",
              "            }\n",
              "        });\n",
              "        require(['plotly'], function(Plotly) {\n",
              "            window._Plotly = Plotly;\n",
              "        });\n",
              "        }\n",
              "        </script>\n",
              "        "
            ]
          },
          "metadata": {},
          "output_type": "display_data"
        },
        {
          "data": {
            "text/html": [
              "<div>                            <div id=\"649e5afd-5964-49b7-ade5-9ec08c67a026\" class=\"plotly-graph-div\" style=\"height:525px; width:100%;\"></div>            <script type=\"text/javascript\">                require([\"plotly\"], function(Plotly) {                    window.PLOTLYENV=window.PLOTLYENV || {};                                    if (document.getElementById(\"649e5afd-5964-49b7-ade5-9ec08c67a026\")) {                    Plotly.newPlot(                        \"649e5afd-5964-49b7-ade5-9ec08c67a026\",                        [{\"dimensions\":[{\"label\":\"Age main\",\"values\":[\"\\u003e=50\",\"\\u003e=50\",\"\\u003c50\",\"\\u003c50\",\"\\u003e=50\",\"\\u003c50\",\"\\u003e=50\",\"\\u003c50\",\"\\u003e=50\",\"\\u003e=50\",\"\\u003c50\",\"\\u003c50\",\"\\u003c50\",\"\\u003c50\",\"\\u003c50\",\"\\u003e=50\",\"\\u003e=50\",\"\\u003e=50\",\"\\u003c50\",\"\\u003c50\",\"\\u003c50\",\"\\u003e=50\",\"\\u003c50\",\"\\u003c50\",\"\\u003e=50\",\"\\u003c50\",\"\\u003e=50\",\"\\u003c50\",\"\\u003e=50\",\"\\u003c50\",\"\\u003e=50\",\"\\u003c50\",\"\\u003e=50\",\"\\u003c50\",\"\\u003e=50\",\"\\u003e=50\",\"\\u003c50\",\"\\u003e=50\",\"\\u003c50\",\"\\u003e=50\",\"\\u003e=50\",\"\\u003c50\",\"\\u003e=50\",\"\\u003c50\",\"\\u003c50\",\"\\u003e=50\",\"\\u003e=50\",\"\\u003e=50\",\"\\u003e=50\",\"\\u003e=50\",\"\\u003e=50\",\"\\u003c50\",\"\\u003e=50\",\"\\u003e=50\",\"\\u003c50\",\"\\u003c50\",\"\\u003c50\",\"\\u003e=50\",\"\\u003c50\",\"\\u003c50\",\"\\u003c50\",\"\\u003e=50\",\"\\u003c50\",\"\\u003e=50\",\"\\u003e=50\",\"\\u003c50\",\"\\u003c50\",\"\\u003e=50\",\"\\u003c50\",\"\\u003c50\",\"\\u003c50\",\"\\u003e=50\",\"\\u003e=50\",\"\\u003c50\",\"\\u003e=50\",\"\\u003e=50\",\"\\u003c50\",\"\\u003e=50\",\"\\u003e=50\",\"\\u003c50\",\"\\u003c50\",\"\\u003e=50\",\"\\u003e=50\",\"\\u003e=50\",\"\\u003c50\",\"\\u003c50\",\"\\u003c50\",\"\\u003e=50\",\"\\u003e=50\",\"\\u003c50\",\"\\u003e=50\",\"\\u003c50\",\"\\u003c50\",\"\\u003c50\",\"\\u003e=50\",\"\\u003e=50\",\"\\u003c50\",\"\\u003e=50\",\"\\u003c50\",\"\\u003e=50\",\"\\u003e=50\",\"\\u003c50\",\"\\u003c50\",\"\\u003c50\",\"\\u003c50\",\"\\u003e=50\",\"\\u003e=50\",\"\\u003e=50\",\"\\u003c50\",\"\\u003c50\",\"\\u003e=50\",\"\\u003c50\",\"\\u003e=50\",\"\\u003e=50\",\"\\u003c50\",\"\\u003c50\",\"\\u003c50\",\"\\u003e=50\",\"\\u003e=50\",\"\\u003e=50\",\"\\u003e=50\",\"\\u003e=50\",\"\\u003c50\",\"\\u003c50\",\"\\u003e=50\",\"\\u003c50\",\"\\u003c50\",\"\\u003c50\",\"\\u003c50\",\"\\u003c50\",\"\\u003c50\",\"\\u003e=50\",\"\\u003c50\",\"\\u003c50\",\"\\u003c50\",\"\\u003e=50\",\"\\u003c50\",\"\\u003c50\",\"\\u003e=50\",\"\\u003e=50\",\"\\u003e=50\",\"\\u003e=50\",\"\\u003c50\",\"\\u003e=50\",\"\\u003e=50\",\"\\u003e=50\",\"\\u003e=50\",\"\\u003c50\",\"\\u003c50\",\"\\u003c50\",\"\\u003c50\",\"\\u003c50\",\"\\u003e=50\",\"\\u003e=50\",\"\\u003e=50\",\"\\u003e=50\",\"\\u003c50\",\"\\u003c50\",\"\\u003e=50\",\"\\u003e=50\",\"\\u003e=50\",\"\\u003e=50\",\"\\u003c50\",\"\\u003c50\",\"\\u003e=50\",\"\\u003c50\",\"\\u003e=50\",\"\\u003e=50\",\"\\u003e=50\",\"\\u003c50\",\"\\u003c50\",\"\\u003c50\",\"\\u003c50\",\"\\u003c50\",\"\\u003e=50\",\"\\u003c50\",\"\\u003e=50\",\"\\u003c50\",\"\\u003c50\",\"\\u003c50\",\"\\u003c50\",\"\\u003c50\",\"\\u003e=50\",\"\\u003e=50\",\"\\u003c50\",\"\\u003e=50\",\"\\u003e=50\",\"\\u003e=50\",\"\\u003e=50\",\"\\u003e=50\",\"\\u003e=50\",\"\\u003e=50\",\"\\u003c50\",\"\\u003c50\",\"\\u003e=50\",\"\\u003c50\",\"\\u003e=50\",\"\\u003e=50\",\"\\u003c50\",\"\\u003e=50\",\"\\u003c50\",\"\\u003e=50\",\"\\u003c50\",\"\\u003e=50\",\"\\u003c50\",\"\\u003e=50\",\"\\u003e=50\",\"\\u003c50\",\"\\u003c50\",\"\\u003c50\",\"\\u003e=50\",\"\\u003e=50\",\"\\u003e=50\",\"\\u003e=50\",\"\\u003c50\",\"\\u003c50\",\"\\u003c50\",\"\\u003e=50\",\"\\u003e=50\",\"\\u003c50\",\"\\u003c50\",\"\\u003c50\",\"\\u003e=50\",\"\\u003e=50\",\"\\u003c50\",\"\\u003c50\",\"\\u003e=50\",\"\\u003e=50\",\"\\u003c50\",\"\\u003e=50\",\"\\u003c50\",\"\\u003e=50\",\"\\u003e=50\",\"\\u003c50\",\"\\u003e=50\",\"\\u003c50\",\"\\u003e=50\",\"\\u003c50\",\"\\u003c50\",\"\\u003c50\",\"\\u003c50\",\"\\u003e=50\",\"\\u003e=50\",\"\\u003e=50\",\"\\u003e=50\",\"\\u003e=50\",\"\\u003c50\",\"\\u003c50\",\"\\u003e=50\",\"\\u003e=50\",\"\\u003e=50\",\"\\u003e=50\",\"\\u003c50\",\"\\u003e=50\",\"\\u003e=50\",\"\\u003e=50\",\"\\u003e=50\",\"\\u003e=50\",\"\\u003e=50\",\"\\u003c50\",\"\\u003e=50\",\"\\u003c50\",\"\\u003c50\",\"\\u003e=50\",\"\\u003e=50\",\"\\u003e=50\",\"\\u003e=50\",\"\\u003c50\",\"\\u003e=50\",\"\\u003e=50\",\"\\u003c50\",\"\\u003c50\",\"\\u003c50\",\"\\u003e=50\",\"\\u003c50\",\"\\u003e=50\",\"\\u003e=50\",\"\\u003e=50\",\"\\u003c50\",\"\\u003c50\",\"\\u003c50\",\"\\u003e=50\",\"\\u003e=50\",\"\\u003c50\",\"\\u003e=50\",\"\\u003c50\",\"\\u003e=50\",\"\\u003e=50\",\"\\u003c50\",\"\\u003e=50\",\"\\u003c50\",\"\\u003e=50\",\"\\u003e=50\",\"\\u003c50\",\"\\u003e=50\",\"\\u003c50\",\"\\u003c50\",\"\\u003e=50\",\"\\u003e=50\",\"\\u003c50\",\"\\u003c50\",\"\\u003c50\",\"\\u003e=50\",\"\\u003c50\",\"\\u003e=50\",\"\\u003c50\",\"\\u003e=50\",\"\\u003e=50\",\"\\u003c50\",\"\\u003c50\",\"\\u003c50\",\"\\u003c50\",\"\\u003c50\",\"\\u003e=50\",\"\\u003e=50\",\"\\u003e=50\",\"\\u003c50\",\"\\u003c50\",\"\\u003c50\",\"\\u003c50\",\"\\u003c50\",\"\\u003e=50\",\"\\u003c50\",\"\\u003e=50\",\"\\u003e=50\",\"\\u003e=50\",\"\\u003e=50\",\"\\u003e=50\",\"\\u003c50\",\"\\u003e=50\",\"\\u003c50\",\"\\u003c50\",\"\\u003c50\",\"\\u003e=50\",\"\\u003c50\",\"\\u003e=50\",\"\\u003c50\",\"\\u003e=50\",\"\\u003c50\",\"\\u003e=50\",\"\\u003e=50\",\"\\u003c50\",\"\\u003e=50\",\"\\u003c50\",\"\\u003c50\",\"\\u003e=50\",\"\\u003e=50\",\"\\u003e=50\",\"\\u003e=50\",\"\\u003e=50\",\"\\u003c50\",\"\\u003c50\",\"\\u003e=50\",\"\\u003c50\",\"\\u003c50\",\"\\u003e=50\",\"\\u003e=50\",\"\\u003e=50\",\"\\u003e=50\",\"\\u003c50\",\"\\u003e=50\",\"\\u003e=50\",\"\\u003c50\",\"\\u003e=50\",\"\\u003c50\",\"\\u003c50\",\"\\u003c50\",\"\\u003c50\",\"\\u003e=50\",\"\\u003e=50\",\"\\u003e=50\",\"\\u003c50\",\"\\u003e=50\",\"\\u003c50\",\"\\u003e=50\",\"\\u003c50\",\"\\u003e=50\",\"\\u003e=50\",\"\\u003e=50\",\"\\u003c50\",\"\\u003e=50\",\"\\u003e=50\",\"\\u003c50\",\"\\u003e=50\",\"\\u003c50\",\"\\u003c50\",\"\\u003c50\",\"\\u003e=50\",\"\\u003c50\",\"\\u003c50\",\"\\u003e=50\",\"\\u003e=50\",\"\\u003c50\",\"\\u003e=50\",\"\\u003e=50\",\"\\u003e=50\",\"\\u003e=50\",\"\\u003c50\",\"\\u003e=50\",\"\\u003c50\",\"\\u003c50\",\"\\u003e=50\",\"\\u003c50\",\"\\u003e=50\",\"\\u003c50\",\"\\u003c50\",\"\\u003c50\",\"\\u003c50\",\"\\u003e=50\",\"\\u003e=50\",\"\\u003c50\",\"\\u003e=50\",\"\\u003e=50\",\"\\u003c50\",\"\\u003e=50\",\"\\u003c50\",\"\\u003e=50\",\"\\u003c50\",\"\\u003e=50\",\"\\u003e=50\",\"\\u003e=50\",\"\\u003e=50\",\"\\u003e=50\",\"\\u003c50\",\"\\u003c50\",\"\\u003c50\",\"\\u003e=50\",\"\\u003c50\",\"\\u003c50\",\"\\u003e=50\",\"\\u003c50\",\"\\u003e=50\",\"\\u003e=50\",\"\\u003c50\",\"\\u003e=50\",\"\\u003e=50\",\"\\u003e=50\",\"\\u003c50\",\"\\u003c50\",\"\\u003e=50\",\"\\u003e=50\",\"\\u003c50\",\"\\u003e=50\",\"\\u003c50\",\"\\u003c50\",\"\\u003c50\",\"\\u003e=50\",\"\\u003e=50\",\"\\u003c50\",\"\\u003e=50\",\"\\u003e=50\",\"\\u003e=50\",\"\\u003e=50\",\"\\u003c50\",\"\\u003c50\",\"\\u003e=50\",\"\\u003e=50\",\"\\u003e=50\",\"\\u003e=50\",\"\\u003e=50\",\"\\u003e=50\",\"\\u003e=50\",\"\\u003e=50\",\"\\u003e=50\",\"\\u003c50\",\"\\u003e=50\",\"\\u003c50\",\"\\u003e=50\",\"\\u003c50\",\"\\u003c50\",\"\\u003c50\",\"\\u003e=50\",\"\\u003e=50\",\"\\u003e=50\",\"\\u003e=50\",\"\\u003c50\",\"\\u003e=50\",\"\\u003e=50\",\"\\u003c50\",\"\\u003e=50\",\"\\u003e=50\",\"\\u003e=50\",\"\\u003c50\",\"\\u003c50\",\"\\u003c50\",\"\\u003c50\",\"\\u003e=50\",\"\\u003c50\",\"\\u003c50\",\"\\u003c50\",\"\\u003e=50\",\"\\u003e=50\",\"\\u003c50\",\"\\u003e=50\",\"\\u003e=50\",\"\\u003e=50\",\"\\u003e=50\",\"\\u003c50\",\"\\u003e=50\",\"\\u003e=50\",\"\\u003c50\",\"\\u003e=50\",\"\\u003e=50\",\"\\u003c50\",\"\\u003c50\",\"\\u003c50\",\"\\u003e=50\",\"\\u003e=50\",\"\\u003c50\",\"\\u003e=50\",\"\\u003e=50\",\"\\u003e=50\",\"\\u003c50\",\"\\u003c50\",\"\\u003c50\",\"\\u003e=50\",\"\\u003c50\",\"\\u003c50\",\"\\u003c50\",\"\\u003e=50\",\"\\u003c50\",\"\\u003c50\",\"\\u003c50\",\"\\u003e=50\",\"\\u003c50\",\"\\u003e=50\",\"\\u003c50\",\"\\u003c50\",\"\\u003e=50\",\"\\u003c50\",\"\\u003e=50\",\"\\u003e=50\",\"\\u003c50\",\"\\u003e=50\",\"\\u003e=50\",\"\\u003c50\",\"\\u003e=50\",\"\\u003e=50\",\"\\u003e=50\",\"\\u003c50\",\"\\u003c50\",\"\\u003e=50\",\"\\u003e=50\",\"\\u003e=50\",\"\\u003e=50\",\"\\u003e=50\",\"\\u003c50\",\"\\u003e=50\",\"\\u003e=50\",\"\\u003e=50\",\"\\u003e=50\",\"\\u003c50\",\"\\u003e=50\",\"\\u003c50\",\"\\u003c50\",\"\\u003e=50\",\"\\u003e=50\",\"\\u003e=50\",\"\\u003c50\",\"\\u003e=50\",\"\\u003e=50\",\"\\u003e=50\",\"\\u003e=50\",\"\\u003e=50\",\"\\u003c50\",\"\\u003c50\",\"\\u003e=50\",\"\\u003e=50\",\"\\u003e=50\",\"\\u003c50\",\"\\u003c50\",\"\\u003c50\",\"\\u003e=50\",\"\\u003c50\",\"\\u003c50\",\"\\u003e=50\",\"\\u003e=50\",\"\\u003c50\",\"\\u003e=50\",\"\\u003c50\",\"\\u003e=50\",\"\\u003c50\",\"\\u003c50\",\"\\u003c50\",\"\\u003e=50\",\"\\u003c50\",\"\\u003e=50\",\"\\u003e=50\",\"\\u003c50\",\"\\u003e=50\",\"\\u003e=50\",\"\\u003e=50\",\"\\u003e=50\",\"\\u003e=50\",\"\\u003c50\",\"\\u003e=50\",\"\\u003e=50\",\"\\u003e=50\",\"\\u003c50\",\"\\u003c50\",\"\\u003e=50\",\"\\u003e=50\",\"\\u003c50\",\"\\u003c50\",\"\\u003c50\",\"\\u003e=50\",\"\\u003c50\",\"\\u003c50\",\"\\u003c50\",\"\\u003c50\",\"\\u003e=50\",\"\\u003e=50\",\"\\u003c50\",\"\\u003e=50\",\"\\u003c50\",\"\\u003c50\",\"\\u003c50\",\"\\u003c50\",\"\\u003e=50\",\"\\u003e=50\",\"\\u003c50\",\"\\u003e=50\",\"\\u003e=50\",\"\\u003c50\",\"\\u003c50\",\"\\u003c50\",\"\\u003c50\",\"\\u003c50\",\"\\u003e=50\",\"\\u003c50\",\"\\u003e=50\",\"\\u003e=50\",\"\\u003e=50\",\"\\u003c50\",\"\\u003e=50\",\"\\u003c50\",\"\\u003e=50\",\"\\u003c50\",\"\\u003e=50\",\"\\u003c50\",\"\\u003e=50\",\"\\u003e=50\",\"\\u003e=50\",\"\\u003e=50\",\"\\u003c50\",\"\\u003e=50\",\"\\u003c50\",\"\\u003e=50\",\"\\u003e=50\",\"\\u003c50\",\"\\u003e=50\",\"\\u003c50\",\"\\u003e=50\",\"\\u003c50\",\"\\u003c50\",\"\\u003c50\",\"\\u003c50\",\"\\u003e=50\",\"\\u003c50\",\"\\u003e=50\",\"\\u003c50\",\"\\u003e=50\",\"\\u003c50\",\"\\u003c50\",\"\\u003c50\",\"\\u003c50\",\"\\u003e=50\",\"\\u003e=50\",\"\\u003e=50\",\"\\u003e=50\",\"\\u003e=50\",\"\\u003e=50\",\"\\u003e=50\",\"\\u003e=50\",\"\\u003e=50\",\"\\u003c50\",\"\\u003c50\",\"\\u003c50\",\"\\u003e=50\",\"\\u003e=50\",\"\\u003c50\",\"\\u003e=50\",\"\\u003e=50\",\"\\u003c50\",\"\\u003c50\",\"\\u003c50\",\"\\u003e=50\",\"\\u003e=50\",\"\\u003c50\",\"\\u003e=50\",\"\\u003e=50\",\"\\u003e=50\",\"\\u003e=50\",\"\\u003c50\",\"\\u003c50\",\"\\u003c50\",\"\\u003c50\",\"\\u003c50\",\"\\u003c50\",\"\\u003c50\",\"\\u003c50\",\"\\u003e=50\",\"\\u003e=50\",\"\\u003e=50\",\"\\u003c50\",\"\\u003c50\",\"\\u003e=50\",\"\\u003e=50\",\"\\u003e=50\",\"\\u003e=50\",\"\\u003c50\",\"\\u003c50\",\"\\u003e=50\",\"\\u003e=50\",\"\\u003c50\",\"\\u003c50\",\"\\u003e=50\",\"\\u003e=50\",\"\\u003e=50\",\"\\u003c50\",\"\\u003e=50\",\"\\u003c50\",\"\\u003c50\",\"\\u003e=50\",\"\\u003e=50\",\"\\u003e=50\",\"\\u003e=50\",\"\\u003e=50\",\"\\u003c50\",\"\\u003e=50\",\"\\u003e=50\",\"\\u003e=50\",\"\\u003c50\",\"\\u003c50\",\"\\u003e=50\",\"\\u003e=50\",\"\\u003c50\",\"\\u003e=50\",\"\\u003e=50\",\"\\u003c50\",\"\\u003c50\",\"\\u003c50\",\"\\u003e=50\",\"\\u003e=50\",\"\\u003c50\",\"\\u003c50\",\"\\u003e=50\",\"\\u003c50\",\"\\u003e=50\",\"\\u003c50\",\"\\u003c50\",\"\\u003c50\",\"\\u003e=50\",\"\\u003c50\",\"\\u003e=50\",\"\\u003e=50\",\"\\u003c50\",\"\\u003e=50\",\"\\u003e=50\",\"\\u003c50\",\"\\u003c50\",\"\\u003c50\",\"\\u003c50\",\"\\u003c50\",\"\\u003c50\",\"\\u003e=50\",\"\\u003e=50\",\"\\u003c50\",\"\\u003e=50\",\"\\u003e=50\",\"\\u003c50\",\"\\u003e=50\",\"\\u003c50\",\"\\u003e=50\",\"\\u003c50\",\"\\u003c50\",\"\\u003e=50\",\"\\u003e=50\",\"\\u003c50\",\"\\u003e=50\",\"\\u003e=50\",\"\\u003c50\",\"\\u003c50\",\"\\u003e=50\",\"\\u003e=50\",\"\\u003e=50\",\"\\u003e=50\",\"\\u003e=50\",\"\\u003e=50\",\"\\u003e=50\",\"\\u003c50\",\"\\u003e=50\",\"\\u003e=50\",\"\\u003c50\",\"\\u003e=50\",\"\\u003c50\",\"\\u003c50\",\"\\u003e=50\",\"\\u003c50\",\"\\u003c50\",\"\\u003e=50\",\"\\u003c50\",\"\\u003c50\",\"\\u003c50\",\"\\u003e=50\",\"\\u003e=50\",\"\\u003c50\",\"\\u003e=50\",\"\\u003e=50\",\"\\u003c50\",\"\\u003e=50\",\"\\u003c50\",\"\\u003e=50\",\"\\u003e=50\",\"\\u003c50\",\"\\u003e=50\",\"\\u003c50\",\"\\u003e=50\",\"\\u003c50\",\"\\u003c50\",\"\\u003c50\",\"\\u003e=50\",\"\\u003e=50\",\"\\u003c50\",\"\\u003c50\",\"\\u003e=50\",\"\\u003e=50\",\"\\u003c50\",\"\\u003c50\",\"\\u003e=50\",\"\\u003c50\",\"\\u003c50\",\"\\u003c50\",\"\\u003e=50\",\"\\u003c50\",\"\\u003e=50\",\"\\u003c50\",\"\\u003e=50\",\"\\u003e=50\",\"\\u003c50\",\"\\u003e=50\",\"\\u003e=50\",\"\\u003e=50\",\"\\u003e=50\",\"\\u003c50\",\"\\u003c50\",\"\\u003c50\",\"\\u003c50\",\"\\u003e=50\",\"\\u003c50\",\"\\u003e=50\",\"\\u003c50\",\"\\u003e=50\",\"\\u003c50\",\"\\u003e=50\",\"\\u003c50\",\"\\u003c50\",\"\\u003c50\",\"\\u003e=50\",\"\\u003e=50\",\"\\u003e=50\",\"\\u003c50\",\"\\u003c50\",\"\\u003c50\",\"\\u003c50\",\"\\u003e=50\",\"\\u003e=50\",\"\\u003e=50\",\"\\u003c50\",\"\\u003e=50\",\"\\u003e=50\",\"\\u003e=50\",\"\\u003e=50\",\"\\u003c50\",\"\\u003e=50\",\"\\u003e=50\",\"\\u003e=50\",\"\\u003e=50\",\"\\u003e=50\",\"\\u003e=50\",\"\\u003e=50\",\"\\u003c50\",\"\\u003c50\",\"\\u003e=50\",\"\\u003c50\",\"\\u003c50\",\"\\u003e=50\",\"\\u003e=50\",\"\\u003e=50\",\"\\u003e=50\",\"\\u003c50\",\"\\u003c50\",\"\\u003e=50\",\"\\u003c50\",\"\\u003e=50\",\"\\u003e=50\",\"\\u003e=50\",\"\\u003c50\",\"\\u003c50\",\"\\u003e=50\",\"\\u003c50\",\"\\u003e=50\",\"\\u003e=50\",\"\\u003e=50\",\"\\u003c50\",\"\\u003c50\",\"\\u003c50\",\"\\u003e=50\",\"\\u003c50\",\"\\u003c50\",\"\\u003c50\",\"\\u003e=50\",\"\\u003c50\",\"\\u003c50\",\"\\u003e=50\",\"\\u003c50\",\"\\u003c50\",\"\\u003c50\",\"\\u003e=50\",\"\\u003c50\",\"\\u003e=50\",\"\\u003c50\",\"\\u003e=50\",\"\\u003c50\",\"\\u003c50\",\"\\u003e=50\",\"\\u003e=50\",\"\\u003e=50\",\"\\u003c50\",\"\\u003c50\",\"\\u003e=50\",\"\\u003e=50\",\"\\u003e=50\",\"\\u003c50\",\"\\u003e=50\",\"\\u003c50\",\"\\u003c50\",\"\\u003e=50\",\"\\u003e=50\",\"\\u003c50\",\"\\u003c50\",\"\\u003c50\",\"\\u003e=50\",\"\\u003c50\",\"\\u003c50\",\"\\u003e=50\",\"\\u003e=50\",\"\\u003e=50\",\"\\u003c50\",\"\\u003c50\",\"\\u003e=50\",\"\\u003c50\",\"\\u003e=50\",\"\\u003c50\",\"\\u003c50\",\"\\u003c50\",\"\\u003e=50\",\"\\u003c50\",\"\\u003e=50\",\"\\u003e=50\",\"\\u003e=50\",\"\\u003c50\",\"\\u003e=50\",\"\\u003e=50\",\"\\u003e=50\",\"\\u003e=50\",\"\\u003c50\",\"\\u003c50\",\"\\u003e=50\",\"\\u003e=50\",\"\\u003e=50\",\"\\u003c50\",\"\\u003c50\",\"\\u003c50\",\"\\u003c50\",\"\\u003c50\",\"\\u003e=50\",\"\\u003c50\",\"\\u003e=50\",\"\\u003c50\",\"\\u003e=50\",\"\\u003e=50\",\"\\u003e=50\",\"\\u003e=50\",\"\\u003c50\",\"\\u003c50\",\"\\u003e=50\",\"\\u003e=50\",\"\\u003c50\",\"\\u003c50\",\"\\u003c50\",\"\\u003c50\",\"\\u003e=50\",\"\\u003c50\",\"\\u003e=50\",\"\\u003c50\",\"\\u003e=50\",\"\\u003c50\",\"\\u003e=50\",\"\\u003e=50\",\"\\u003e=50\",\"\\u003c50\",\"\\u003c50\",\"\\u003c50\",\"\\u003c50\",\"\\u003c50\",\"\\u003c50\",\"\\u003c50\",\"\\u003e=50\",\"\\u003c50\",\"\\u003e=50\",\"\\u003e=50\",\"\\u003c50\",\"\\u003c50\",\"\\u003c50\",\"\\u003e=50\",\"\\u003e=50\",\"\\u003e=50\",\"\\u003e=50\",\"\\u003c50\",\"\\u003e=50\",\"\\u003c50\",\"\\u003e=50\",\"\\u003c50\",\"\\u003e=50\",\"\\u003e=50\",\"\\u003e=50\",\"\\u003e=50\",\"\\u003c50\",\"\\u003e=50\",\"\\u003e=50\",\"\\u003c50\",\"\\u003c50\",\"\\u003e=50\",\"\\u003e=50\",\"\\u003c50\",\"\\u003c50\",\"\\u003c50\",\"\\u003e=50\",\"\\u003e=50\",\"\\u003c50\",\"\\u003e=50\",\"\\u003e=50\",\"\\u003c50\",\"\\u003c50\",\"\\u003e=50\",\"\\u003c50\",\"\\u003c50\",\"\\u003c50\",\"\\u003c50\",\"\\u003e=50\",\"\\u003e=50\",\"\\u003e=50\",\"\\u003e=50\",\"\\u003e=50\",\"\\u003e=50\",\"\\u003e=50\",\"\\u003e=50\",\"\\u003c50\",\"\\u003c50\",\"\\u003c50\",\"\\u003c50\",\"\\u003e=50\",\"\\u003e=50\",\"\\u003e=50\",\"\\u003e=50\",\"\\u003e=50\",\"\\u003e=50\",\"\\u003c50\",\"\\u003c50\",\"\\u003e=50\",\"\\u003c50\",\"\\u003e=50\",\"\\u003e=50\",\"\\u003e=50\",\"\\u003c50\",\"\\u003c50\",\"\\u003c50\",\"\\u003c50\",\"\\u003c50\",\"\\u003e=50\",\"\\u003c50\",\"\\u003c50\",\"\\u003c50\",\"\\u003e=50\",\"\\u003c50\",\"\\u003c50\",\"\\u003c50\",\"\\u003e=50\",\"\\u003c50\",\"\\u003e=50\",\"\\u003c50\",\"\\u003c50\",\"\\u003e=50\",\"\\u003e=50\",\"\\u003e=50\",\"\\u003c50\",\"\\u003e=50\",\"\\u003e=50\",\"\\u003e=50\",\"\\u003c50\",\"\\u003e=50\",\"\\u003c50\",\"\\u003e=50\",\"\\u003c50\",\"\\u003e=50\",\"\\u003c50\",\"\\u003c50\",\"\\u003c50\",\"\\u003e=50\",\"\\u003c50\",\"\\u003e=50\",\"\\u003c50\",\"\\u003c50\",\"\\u003e=50\",\"\\u003c50\",\"\\u003c50\",\"\\u003c50\",\"\\u003e=50\",\"\\u003e=50\",\"\\u003e=50\",\"\\u003e=50\",\"\\u003e=50\",\"\\u003c50\",\"\\u003c50\",\"\\u003c50\",\"\\u003c50\",\"\\u003c50\",\"\\u003e=50\",\"\\u003e=50\",\"\\u003c50\",\"\\u003c50\",\"\\u003c50\",\"\\u003c50\",\"\\u003c50\",\"\\u003e=50\",\"\\u003c50\",\"\\u003c50\",\"\\u003e=50\",\"\\u003e=50\",\"\\u003e=50\",\"\\u003c50\",\"\\u003c50\",\"\\u003e=50\",\"\\u003c50\",\"\\u003c50\",\"\\u003c50\",\"\\u003e=50\",\"\\u003e=50\",\"\\u003e=50\",\"\\u003c50\",\"\\u003e=50\",\"\\u003e=50\",\"\\u003c50\",\"\\u003e=50\",\"\\u003e=50\",\"\\u003e=50\",\"\\u003c50\",\"\\u003c50\",\"\\u003e=50\",\"\\u003c50\",\"\\u003c50\",\"\\u003e=50\",\"\\u003e=50\",\"\\u003e=50\",\"\\u003e=50\",\"\\u003c50\",\"\\u003e=50\",\"\\u003e=50\",\"\\u003c50\",\"\\u003c50\",\"\\u003c50\",\"\\u003c50\",\"\\u003c50\",\"\\u003c50\",\"\\u003c50\",\"\\u003c50\",\"\\u003e=50\",\"\\u003c50\",\"\\u003c50\",\"\\u003e=50\",\"\\u003e=50\",\"\\u003e=50\",\"\\u003c50\",\"\\u003c50\",\"\\u003e=50\",\"\\u003c50\",\"\\u003e=50\",\"\\u003e=50\",\"\\u003e=50\",\"\\u003e=50\",\"\\u003e=50\",\"\\u003c50\",\"\\u003e=50\",\"\\u003e=50\",\"\\u003e=50\",\"\\u003e=50\",\"\\u003c50\",\"\\u003c50\",\"\\u003e=50\",\"\\u003e=50\",\"\\u003c50\",\"\\u003c50\",\"\\u003e=50\",\"\\u003e=50\",\"\\u003c50\",\"\\u003e=50\",\"\\u003c50\",\"\\u003c50\",\"\\u003e=50\",\"\\u003c50\",\"\\u003c50\",\"\\u003c50\",\"\\u003c50\",\"\\u003c50\",\"\\u003c50\",\"\\u003c50\",\"\\u003c50\",\"\\u003e=50\",\"\\u003e=50\",\"\\u003c50\",\"\\u003e=50\",\"\\u003e=50\",\"\\u003e=50\",\"\\u003c50\",\"\\u003e=50\",\"\\u003e=50\",\"\\u003c50\",\"\\u003e=50\",\"\\u003e=50\",\"\\u003e=50\",\"\\u003c50\",\"\\u003e=50\",\"\\u003e=50\",\"\\u003e=50\",\"\\u003c50\",\"\\u003e=50\",\"\\u003c50\",\"\\u003e=50\",\"\\u003e=50\",\"\\u003e=50\",\"\\u003e=50\",\"\\u003e=50\",\"\\u003c50\",\"\\u003e=50\",\"\\u003e=50\",\"\\u003e=50\",\"\\u003e=50\",\"\\u003c50\",\"\\u003c50\",\"\\u003c50\",\"\\u003c50\",\"\\u003e=50\",\"\\u003e=50\",\"\\u003c50\",\"\\u003c50\",\"\\u003c50\",\"\\u003c50\",\"\\u003e=50\",\"\\u003c50\",\"\\u003e=50\",\"\\u003c50\",\"\\u003e=50\",\"\\u003c50\",\"\\u003e=50\",\"\\u003e=50\",\"\\u003e=50\",\"\\u003e=50\",\"\\u003e=50\",\"\\u003c50\",\"\\u003e=50\",\"\\u003c50\",\"\\u003c50\",\"\\u003c50\",\"\\u003c50\",\"\\u003c50\",\"\\u003c50\",\"\\u003c50\",\"\\u003c50\",\"\\u003e=50\",\"\\u003e=50\",\"\\u003c50\",\"\\u003e=50\",\"\\u003e=50\",\"\\u003e=50\",\"\\u003e=50\",\"\\u003c50\",\"\\u003c50\",\"\\u003c50\",\"\\u003c50\",\"\\u003c50\",\"\\u003e=50\",\"\\u003e=50\",\"\\u003e=50\",\"\\u003c50\",\"\\u003c50\",\"\\u003c50\",\"\\u003e=50\",\"\\u003c50\",\"\\u003c50\",\"\\u003c50\",\"\\u003e=50\",\"\\u003c50\",\"\\u003e=50\",\"\\u003c50\",\"\\u003e=50\",\"\\u003c50\",\"\\u003c50\",\"\\u003c50\",\"\\u003e=50\",\"\\u003e=50\",\"\\u003c50\",\"\\u003e=50\",\"\\u003c50\",\"\\u003e=50\",\"\\u003c50\",\"\\u003e=50\",\"\\u003c50\",\"\\u003e=50\",\"\\u003e=50\",\"\\u003c50\",\"\\u003c50\",\"\\u003c50\",\"\\u003c50\",\"\\u003e=50\",\"\\u003c50\",\"\\u003c50\",\"\\u003e=50\",\"\\u003c50\",\"\\u003c50\",\"\\u003c50\",\"\\u003e=50\",\"\\u003c50\",\"\\u003c50\",\"\\u003c50\",\"\\u003c50\",\"\\u003c50\",\"\\u003c50\",\"\\u003e=50\",\"\\u003e=50\",\"\\u003e=50\",\"\\u003c50\",\"\\u003e=50\",\"\\u003e=50\",\"\\u003c50\",\"\\u003e=50\",\"\\u003e=50\",\"\\u003e=50\",\"\\u003c50\",\"\\u003e=50\",\"\\u003e=50\",\"\\u003c50\",\"\\u003c50\",\"\\u003e=50\",\"\\u003c50\",\"\\u003e=50\",\"\\u003e=50\",\"\\u003c50\",\"\\u003e=50\",\"\\u003c50\",\"\\u003e=50\",\"\\u003c50\",\"\\u003c50\",\"\\u003c50\",\"\\u003e=50\",\"\\u003e=50\",\"\\u003c50\",\"\\u003e=50\",\"\\u003c50\",\"\\u003e=50\",\"\\u003c50\",\"\\u003e=50\",\"\\u003c50\",\"\\u003c50\",\"\\u003e=50\",\"\\u003c50\",\"\\u003c50\",\"\\u003c50\",\"\\u003c50\",\"\\u003e=50\",\"\\u003e=50\",\"\\u003c50\",\"\\u003c50\",\"\\u003e=50\",\"\\u003c50\",\"\\u003e=50\",\"\\u003e=50\",\"\\u003c50\",\"\\u003e=50\",\"\\u003e=50\",\"\\u003e=50\",\"\\u003e=50\",\"\\u003e=50\",\"\\u003c50\",\"\\u003c50\",\"\\u003e=50\",\"\\u003c50\",\"\\u003c50\",\"\\u003e=50\",\"\\u003e=50\",\"\\u003e=50\",\"\\u003c50\",\"\\u003c50\",\"\\u003e=50\",\"\\u003e=50\",\"\\u003e=50\",\"\\u003e=50\",\"\\u003e=50\",\"\\u003e=50\",\"\\u003c50\",\"\\u003c50\",\"\\u003c50\",\"\\u003c50\",\"\\u003e=50\",\"\\u003c50\",\"\\u003e=50\",\"\\u003e=50\",\"\\u003c50\",\"\\u003e=50\",\"\\u003c50\",\"\\u003e=50\",\"\\u003e=50\",\"\\u003c50\",\"\\u003e=50\",\"\\u003c50\",\"\\u003e=50\",\"\\u003c50\",\"\\u003e=50\",\"\\u003e=50\",\"\\u003e=50\",\"\\u003e=50\",\"\\u003e=50\",\"\\u003c50\",\"\\u003e=50\",\"\\u003e=50\",\"\\u003c50\",\"\\u003c50\",\"\\u003c50\",\"\\u003c50\",\"\\u003c50\",\"\\u003e=50\",\"\\u003c50\",\"\\u003e=50\",\"\\u003e=50\",\"\\u003e=50\",\"\\u003c50\",\"\\u003e=50\",\"\\u003e=50\",\"\\u003e=50\",\"\\u003e=50\",\"\\u003c50\",\"\\u003e=50\",\"\\u003e=50\",\"\\u003c50\",\"\\u003c50\",\"\\u003c50\",\"\\u003c50\",\"\\u003c50\",\"\\u003e=50\",\"\\u003c50\",\"\\u003c50\",\"\\u003e=50\",\"\\u003c50\",\"\\u003c50\",\"\\u003e=50\",\"\\u003e=50\",\"\\u003e=50\",\"\\u003e=50\",\"\\u003e=50\",\"\\u003c50\",\"\\u003e=50\",\"\\u003c50\",\"\\u003c50\",\"\\u003c50\",\"\\u003c50\",\"\\u003c50\",\"\\u003e=50\",\"\\u003e=50\",\"\\u003c50\",\"\\u003c50\",\"\\u003c50\",\"\\u003e=50\",\"\\u003c50\",\"\\u003e=50\",\"\\u003e=50\",\"\\u003c50\",\"\\u003c50\",\"\\u003c50\",\"\\u003e=50\",\"\\u003c50\",\"\\u003c50\",\"\\u003e=50\",\"\\u003e=50\",\"\\u003e=50\",\"\\u003e=50\",\"\\u003e=50\",\"\\u003c50\",\"\\u003e=50\",\"\\u003e=50\",\"\\u003e=50\"]},{\"label\":\"Smoking\",\"values\":[0,0,0,0,0,0,0,1,0,0,0,1,0,0,0,0,0,0,0,1,0,0,1,0,0,0,0,1,1,0,0,1,1,1,0,0,1,0,0,0,0,0,0,1,0,1,0,0,1,0,0,0,0,1,1,0,0,0,1,0,0,0,0,0,1,0,0,1,1,0,0,0,0,0,0,0,1,0,0,0,1,1,1,1,1,0,0,0,1,1,0,0,0,1,0,0,0,0,1,0,1,0,0,0,1,0,0,0,1,0,1,0,0,0,0,0,0,0,1,0,1,0,0,0,0,0,0,0,0,1,1,0,0,0,0,0,0,0,0,0,1,1,0,1,1,0,0,0,1,1,0,0,0,0,0,1,0,1,1,1,0,0,0,0,0,0,0,0,0,0,1,1,0,0,0,0,0,1,0,0,0,0,0,0,0,0,0,0,0,1,0,0,0,0,0,0,1,0,0,0,1,0,0,0,0,0,0,0,0,0,0,1,0,0,0,0,1,0,0,0,0,0,0,0,1,0,1,1,1,0,0,1,0,0,1,1,0,0,0,1,1,0,0,1,0,0,1,0,0,0,0,1,0,1,0,0,0,0,0,0,0,0,1,0,1,0,0,0,0,0,1,1,0,0,1,0,1,1,1,0,0,0,0,1,0,0,1,1,1,1,0,0,1,0,0,0,0,1,0,0,0,0,0,0,1,0,0,0,0,0,1,0,1,0,0,0,1,0,0,0,0,0,0,0,0,0,1,1,1,0,0,0,0,0,0,0,0,1,0,0,0,0,0,1,1,0,1,1,1,1,0,0,0,0,1,0,1,1,1,1,0,0,0,0,0,0,1,0,0,0,0,0,1,0,1,0,1,0,0,0,1,0,0,1,1,0,1,0,0,0,1,1,0,0,0,1,1,0,1,1,0,0,0,0,0,0,1,0,0,0,0,0,0,0,0,0,0,1,0,0,1,0,0,1,0,0,1,1,1,0,0,0,0,0,0,1,0,0,0,0,0,0,0,0,1,1,0,0,1,1,0,1,0,1,1,0,1,0,1,0,1,0,0,0,1,1,1,1,0,0,0,0,0,0,0,0,0,0,1,1,1,0,0,1,0,0,0,0,0,0,0,0,0,1,0,0,1,0,0,0,0,0,1,0,0,0,0,0,0,0,0,0,0,1,0,0,0,1,0,0,1,1,0,0,1,1,1,0,0,0,1,0,0,1,0,1,0,0,0,1,0,0,1,0,0,0,0,0,0,0,0,0,0,0,0,0,0,0,1,0,1,1,0,0,0,1,0,0,0,1,1,0,0,0,0,1,0,0,0,1,1,0,1,0,0,0,0,0,1,0,0,0,0,1,0,0,1,0,0,0,0,1,1,0,1,0,0,0,0,0,0,1,0,0,0,0,0,0,1,0,0,0,0,0,1,0,0,0,0,0,1,0,1,0,1,0,0,0,1,0,0,0,1,0,1,0,0,0,1,0,1,0,0,0,0,1,1,1,1,0,0,1,0,1,1,0,1,0,0,0,0,0,0,1,1,0,0,1,0,0,0,0,0,1,0,0,0,0,0,1,1,0,1,1,1,0,0,0,0,0,0,1,1,1,0,0,0,0,0,0,0,1,0,1,0,0,0,0,0,0,0,0,0,1,0,1,0,1,1,0,0,1,0,0,0,1,1,0,0,0,0,1,0,0,0,1,0,0,0,0,0,0,0,1,1,1,0,1,0,0,0,0,0,0,0,0,0,0,0,1,1,0,0,0,1,0,0,0,0,0,1,0,0,1,1,0,0,0,1,0,1,0,0,0,0,0,0,0,1,0,1,0,0,0,0,1,0,0,0,0,0,1,1,0,0,0,0,0,0,0,0,0,0,0,0,1,0,0,0,1,0,0,0,1,1,0,1,1,1,0,0,0,1,0,0,0,1,1,0,1,0,1,0,0,1,0,1,0,0,0,0,0,0,0,0,1,1,0,1,0,0,1,1,0,1,0,1,0,0,0,0,0,1,0,0,0,0,0,0,0,0,0,1,1,0,0,0,0,0,0,0,0,0,1,1,0,0,1,1,0,0,0,0,0,0,0,0,1,0,0,0,0,1,0,0,1,0,1,0,0,0,0,1,1,0,0,1,1,0,0,0,1,0,0,1,0,0,0,0,0,0,0,0,1,1,0,0,0,0,0,0,0,0,0,0,0,0,0,1,1,0,0,0,0,0,1,0,1,0,0,1,0,0,0,0,1,0,1,1,1,0,0,1,0,0,0,0,0,0,0,1,0,1,0,1,0,1,0,1,0,1,1,0,0,1,0,1,0,0,1,0,1,0,0,0,0,0,0,0,0,1,0,0,0,0,1,0,0,0,0,1,0,1,0,0,1,0,0,0,0,0,0,0,0,0,0,0,0,1,0,1,0,0,0,0,0,0,0,1,0,0,1,0,0,0,1,1,0,0,1,0,0,0,0,0,0,0,0,1,0,0,0,0,0,0,1,1,0,0,0,1,1,0,0,1,0,0,0,0,1,1,0,0,0,0,0,0,0,0,0,0,0,0,1,0,0,1,1,0,1,0,0,0,0,0,0,0,0,0,0,0,1,1,1,0,1,0,0,0,0,0,0,1,0,0,1,0,0,0,0,0,0,0,0,0,0,0,1,0,0,0,0,0,0,1,1,0,1,0,0,0,0,1,0,0,1,0,0,0,1,1,0,0,0,1,0,0,1,0,0,0,1,0,0,0,0,0,0,1,0,0,0,0,1,0,0,0,0,0,0,1,1,0,1,0,0,0,0,0,0,0,0,0,1,0,0,0,0,1,0,0,1,0,0,0,1,0,0,0,0,0,0,0,1,1,0,1,0,0,0,1,1,0,1,0,1,1,0,1,0,0,0,0,1,0,0,1,1,0,1,0,1,0,0,0,0,0,0,0,1,0,0,0,0,1,1,0,0,1,0,1,0,1,0,0,1,0,0,0,0,0,0,0,0,1,0,0,0,0,0,0,0,0,0,0,0,0,0,0,1,0,0,0,0,0,0,1,0,1,0,0,0,0,0,0,0,1,1,0,0,0,0,0,0,0,0,1,0,1,0,0,0,0,0,0,0,0,0,0,0,0,0,0,1,0,1,0,0,0,0,0,1,0,0,0,1,0,0,0,1,1,0,1,1,0,0,0,1,0,1,0,1,0,0,1,1,1,0,0,0,0,0,0,0,1,0,0,0,0,0,1,1,1,1,0,0,0,0,0,0,0,0,0,0,0,0,0,1,0,0,1,0,0,0,0,1,1,0,0,0,0,0,0,0,0,0,0,0,1,0,0,1,0,0,0,0,0,0,0,1,0,0,1,0,1,0,1,0,1,1,0,0,0,0,0,0,0,0,0,0,0,0,0,0,0,0,0,1,0,0]},{\"label\":\"AlcoholIntake\",\"values\":[4.0,4.0,5.0,2.0,3.0,2.0,3.0,2.0,1.0,3.0,3.0,4.0,4.0,3.0,1.0,4.0,3.0,4.0,5.0,0.0,4.0,0.0,2.0,3.0,1.0,4.0,0.0,1.0,3.0,4.0,5.0,4.0,3.0,2.0,0.0,1.0,3.0,3.0,2.0,4.0,3.0,0.0,1.0,4.0,4.0,4.0,1.0,5.0,1.0,0.0,5.0,1.0,3.0,1.0,3.0,5.0,2.0,3.0,1.0,3.0,2.0,1.0,2.0,1.0,5.0,2.0,1.0,2.0,2.0,4.0,5.0,2.0,4.0,3.0,1.0,3.0,3.0,3.0,4.0,2.0,5.0,4.0,2.0,3.0,2.0,5.0,3.0,0.0,2.0,3.0,0.0,0.0,2.0,2.0,2.0,1.0,1.0,3.0,3.0,1.0,2.0,3.0,0.0,1.0,0.0,4.0,4.0,4.0,4.0,3.0,2.0,3.0,0.0,3.0,4.0,3.0,2.0,1.0,3.0,3.0,4.0,2.0,4.0,3.0,4.0,3.0,3.0,3.0,4.0,5.0,0.0,0.0,5.0,3.0,3.0,2.0,0.0,4.0,4.0,2.0,2.0,4.0,0.0,4.0,1.0,3.0,5.0,3.0,2.0,3.0,2.0,1.0,5.0,4.0,3.0,2.0,0.0,0.0,3.0,4.0,3.0,4.0,0.0,2.0,1.0,2.0,0.0,5.0,1.0,5.0,2.0,5.0,3.0,5.0,0.0,4.0,5.0,1.0,0.0,2.0,5.0,3.0,3.0,1.0,0.0,4.0,0.0,3.0,5.0,1.0,3.0,0.0,3.0,1.0,4.0,2.0,2.0,3.0,1.0,4.0,2.0,3.0,1.0,3.0,1.0,2.0,1.0,4.0,1.0,4.0,4.0,1.0,3.0,0.0,2.0,4.0,3.0,3.0,1.0,2.0,1.0,4.0,3.0,4.0,1.0,2.0,2.0,0.0,2.0,4.0,4.0,3.0,2.0,0.0,4.0,0.0,5.0,2.0,2.0,5.0,0.0,3.0,3.0,1.0,2.0,3.0,4.0,0.0,5.0,1.0,1.0,1.0,0.0,1.0,5.0,2.0,1.0,1.0,4.0,4.0,1.0,0.0,1.0,0.0,1.0,2.0,1.0,3.0,1.0,5.0,5.0,3.0,2.0,2.0,2.0,4.0,2.0,4.0,5.0,2.0,3.0,0.0,1.0,2.0,1.0,4.0,1.0,2.0,3.0,3.0,2.0,4.0,3.0,2.0,0.0,2.0,4.0,3.0,4.0,2.0,1.0,0.0,2.0,3.0,4.0,1.0,2.0,2.0,2.0,1.0,1.0,1.0,0.0,1.0,0.0,3.0,2.0,5.0,1.0,2.0,2.0,0.0,4.0,0.0,5.0,4.0,3.0,3.0,3.0,2.0,3.0,0.0,0.0,2.0,3.0,4.0,1.0,4.0,1.0,2.0,2.0,2.0,1.0,3.0,4.0,2.0,2.0,4.0,4.0,2.0,1.0,4.0,3.0,1.0,1.0,4.0,0.0,5.0,1.0,4.0,2.0,2.0,4.0,2.0,3.0,0.0,0.0,1.0,3.0,1.0,1.0,2.0,3.0,4.0,1.0,0.0,5.0,1.0,4.0,4.0,4.0,1.0,4.0,4.0,3.0,2.0,1.0,1.0,3.0,3.0,2.0,2.0,2.0,3.0,5.0,1.0,2.0,1.0,3.0,4.0,5.0,1.0,5.0,0.0,3.0,0.0,4.0,3.0,3.0,4.0,1.0,0.0,4.0,2.0,1.0,2.0,3.0,0.0,1.0,0.0,2.0,4.0,5.0,3.0,1.0,5.0,3.0,1.0,5.0,4.0,4.0,4.0,1.0,1.0,3.0,1.0,2.0,4.0,4.0,2.0,4.0,4.0,3.0,1.0,1.0,2.0,1.0,1.0,1.0,2.0,5.0,1.0,4.0,3.0,0.0,5.0,3.0,2.0,4.0,1.0,3.0,0.0,4.0,2.0,3.0,1.0,3.0,4.0,2.0,3.0,2.0,4.0,2.0,4.0,4.0,2.0,1.0,2.0,4.0,1.0,3.0,4.0,2.0,3.0,1.0,1.0,4.0,0.0,1.0,4.0,2.0,5.0,5.0,1.0,0.0,4.0,2.0,1.0,4.0,0.0,4.0,1.0,1.0,1.0,5.0,3.0,4.0,2.0,2.0,1.0,2.0,3.0,3.0,1.0,5.0,1.0,5.0,0.0,2.0,2.0,2.0,3.0,2.0,2.0,4.0,3.0,4.0,1.0,3.0,3.0,2.0,2.0,2.0,1.0,1.0,1.0,3.0,3.0,5.0,4.0,0.0,4.0,4.0,2.0,3.0,5.0,3.0,5.0,0.0,1.0,2.0,3.0,4.0,5.0,2.0,0.0,4.0,3.0,1.0,2.0,4.0,4.0,2.0,2.0,5.0,3.0,2.0,1.0,4.0,1.0,1.0,3.0,1.0,3.0,1.0,3.0,1.0,0.0,1.0,5.0,4.0,1.0,4.0,3.0,5.0,2.0,3.0,0.0,2.0,5.0,3.0,1.0,1.0,4.0,3.0,2.0,5.0,0.0,2.0,5.0,2.0,1.0,3.0,4.0,1.0,5.0,4.0,1.0,4.0,2.0,2.0,4.0,5.0,1.0,2.0,2.0,2.0,2.0,0.0,3.0,2.0,1.0,4.0,4.0,2.0,1.0,3.0,1.0,1.0,4.0,0.0,0.0,0.0,1.0,0.0,5.0,1.0,1.0,1.0,5.0,3.0,2.0,4.0,2.0,2.0,1.0,2.0,2.0,3.0,1.0,3.0,0.0,1.0,2.0,5.0,2.0,3.0,1.0,1.0,0.0,2.0,1.0,1.0,4.0,0.0,3.0,2.0,3.0,3.0,2.0,1.0,4.0,4.0,1.0,0.0,4.0,2.0,3.0,2.0,1.0,3.0,3.0,1.0,2.0,4.0,3.0,0.0,3.0,4.0,4.0,3.0,1.0,4.0,3.0,0.0,2.0,2.0,3.0,1.0,3.0,5.0,4.0,5.0,5.0,0.0,3.0,2.0,4.0,1.0,5.0,3.0,4.0,0.0,1.0,4.0,0.0,4.0,0.0,3.0,2.0,3.0,3.0,2.0,1.0,0.0,3.0,3.0,4.0,3.0,2.0,2.0,0.0,2.0,5.0,4.0,2.0,3.0,4.0,2.0,0.0,0.0,3.0,5.0,3.0,0.0,1.0,4.0,4.0,3.0,3.0,0.0,4.0,4.0,1.0,4.0,1.0,0.0,1.0,1.0,2.0,2.0,3.0,2.0,1.0,0.0,3.0,2.0,1.0,4.0,4.0,4.0,2.0,1.0,3.0,1.0,2.0,0.0,4.0,1.0,5.0,4.0,2.0,4.0,3.0,4.0,2.0,4.0,2.0,5.0,2.0,2.0,4.0,4.0,3.0,1.0,2.0,5.0,4.0,4.0,0.0,2.0,3.0,4.0,0.0,4.0,3.0,1.0,2.0,1.0,3.0,0.0,1.0,4.0,1.0,1.0,2.0,3.0,4.0,2.0,4.0,3.0,1.0,1.0,2.0,2.0,4.0,3.0,2.0,1.0,1.0,3.0,2.0,3.0,1.0,3.0,4.0,1.0,2.0,5.0,2.0,3.0,0.0,3.0,0.0,5.0,4.0,4.0,4.0,3.0,2.0,4.0,5.0,2.0,5.0,3.0,3.0,2.0,1.0,0.0,1.0,3.0,2.0,2.0,5.0,2.0,2.0,1.0,0.0,4.0,3.0,4.0,1.0,3.0,1.0,1.0,0.0,1.0,2.0,1.0,5.0,2.0,1.0,1.0,3.0,0.0,4.0,5.0,1.0,2.0,0.0,3.0,2.0,1.0,1.0,3.0,2.0,1.0,3.0,3.0,4.0,1.0,4.0,3.0,1.0,3.0,2.0,5.0,1.0,3.0,2.0,5.0,2.0,5.0,5.0,1.0,4.0,5.0,1.0,2.0,3.0,1.0,0.0,1.0,1.0,2.0,1.0,4.0,4.0,0.0,3.0,3.0,5.0,0.0,1.0,5.0,5.0,4.0,4.0,0.0,3.0,1.0,1.0,4.0,1.0,2.0,5.0,1.0,5.0,5.0,3.0,1.0,2.0,2.0,2.0,1.0,5.0,1.0,4.0,0.0,3.0,5.0,1.0,1.0,3.0,4.0,3.0,2.0,1.0,5.0,5.0,2.0,4.0,2.0,2.0,1.0,2.0,3.0,0.0,2.0,4.0,3.0,3.0,5.0,0.0,3.0,4.0,3.0,2.0,1.0,4.0,2.0,4.0,3.0,3.0,4.0,3.0,2.0,3.0,4.0,2.0,2.0,0.0,5.0,0.0,3.0,2.0,2.0,3.0,0.0,3.0,4.0,4.0,1.0,4.0,3.0,4.0,2.0,3.0,5.0,4.0,2.0,1.0,2.0,2.0,1.0,1.0,4.0,0.0,3.0,1.0,2.0,0.0,1.0,4.0,4.0,1.0,2.0,2.0,4.0,4.0,3.0,3.0,4.0,0.0,2.0,5.0,4.0,3.0,3.0,2.0,3.0,3.0,2.0,4.0,4.0,1.0,2.0,2.0,3.0,1.0,3.0,4.0,2.0,5.0,5.0,1.0,1.0,5.0,5.0,0.0,0.0,1.0,5.0,1.0,3.0,4.0,0.0,3.0,1.0,4.0,1.0,3.0,3.0,1.0,0.0,2.0,1.0,4.0,4.0,2.0,3.0,3.0,4.0,2.0,1.0,1.0,3.0,2.0,2.0,0.0,4.0,1.0,1.0,2.0,1.0,3.0,2.0,2.0,3.0,1.0,1.0,4.0,2.0,2.0,0.0,2.0,3.0,3.0,4.0,1.0,1.0,4.0,5.0,1.0,2.0,1.0,0.0,2.0,1.0,4.0,3.0,1.0,0.0,4.0,1.0,3.0,2.0,3.0,2.0,0.0,1.0,1.0,2.0,3.0,1.0,0.0,3.0,3.0,5.0,3.0,2.0,3.0,5.0,4.0,2.0,1.0,1.0,3.0,4.0,3.0,0.0,4.0,4.0,1.0,3.0,2.0,4.0,4.0,3.0,3.0,4.0,2.0,2.0,4.0,1.0,2.0,4.0,4.0,2.0,1.0,2.0,1.0,1.0,4.0,1.0,2.0,2.0,5.0,2.0,0.0,0.0,3.0,3.0,2.0,2.0,0.0,3.0,3.0,1.0,1.0,1.0,1.0,3.0,1.0,1.0,1.0,5.0,4.0,1.0,2.0,1.0,2.0,0.0,3.0,3.0,4.0,1.0,4.0,4.0,1.0,2.0,1.0,1.0,1.0,3.0,2.0,5.0,1.0,5.0,1.0,4.0,2.0,1.0,4.0,2.0,3.0,3.0,2.0,2.0,4.0,0.0,3.0,4.0,0.0,1.0,4.0,2.0,2.0,1.0,3.0,1.0,2.0,4.0,1.0,2.0,5.0,3.0,4.0,2.0,4.0,0.0,1.0,1.0,2.0,4.0,2.0,3.0,4.0,3.0,2.0,3.0,2.0,0.0,5.0,1.0,0.0,4.0,2.0,3.0,2.0,2.0,1.0,2.0,2.0,4.0,3.0,5.0,0.0,3.0,3.0,5.0,0.0,3.0,4.0,1.0,4.0,0.0,4.0,5.0,3.0,2.0,0.0,5.0,2.0,0.0,3.0,2.0,1.0,1.0,0.0,3.0,3.0,3.0,4.0,4.0,3.0,0.0,3.0,2.0,3.0,3.0,2.0,5.0,1.0,3.0,0.0,5.0,1.0,0.0,2.0,2.0,1.0,3.0,2.0,0.0,2.0,4.0,3.0,4.0,3.0,2.0,0.0,1.0,4.0,5.0,2.0,0.0,1.0,2.0,3.0,0.0,5.0,2.0,5.0,4.0,4.0,3.0,3.0,3.0,3.0,3.0,5.0,4.0,4.0,4.0,1.0,0.0,2.0,3.0,4.0,2.0,3.0,3.0,0.0,3.0,4.0,1.0,3.0,3.0,1.0,1.0,5.0,2.0,1.0,1.0,3.0,3.0,3.0,0.0,4.0,2.0,2.0,2.0,2.0,4.0,5.0,2.0,4.0,4.0,5.0,1.0,3.0,1.0,4.0,0.0,3.0,2.0,2.0,3.0,4.0,3.0,4.0,1.0,3.0,2.0,0.0,3.0,3.0,3.0,4.0,3.0,0.0,1.0,3.0,1.0,0.0,2.0,3.0,2.0,4.0,3.0,2.0,4.0,3.0,3.0,3.0,0.0,3.0,2.0,5.0,4.0,3.0,1.0,1.0,2.0,2.0,1.0,3.0,1.0,5.0,1.0,5.0,5.0,3.0,4.0,2.0,3.0,2.0,2.0,3.0,2.0,3.0,1.0,2.0,0.0,0.0,1.0,0.0,1.0,4.0,0.0,3.0,1.0,4.0,2.0,2.0,3.0,2.0,3.0,1.0,5.0,2.0,2.0,4.0,2.0,4.0,2.0,4.0,1.0,4.0,4.0,1.0,1.0,2.0,5.0,1.0,2.0,0.0,2.0,3.0]}],\"domain\":{\"x\":[0.0,1.0],\"y\":[0.0,1.0]},\"line\":{\"color\":[1,0,1,0,1,0,0,0,1,0,1,1,1,0,0,0,1,0,0,0,0,0,1,0,0,0,0,0,1,0,1,0,1,0,0,0,1,1,0,1,0,0,0,1,0,0,0,1,0,0,1,0,0,0,1,0,0,1,0,0,1,0,0,0,1,0,0,0,0,1,1,1,1,0,1,1,1,1,0,0,0,1,1,1,0,1,0,1,0,0,0,0,0,0,1,0,0,1,0,0,0,0,0,0,0,1,0,1,1,0,0,0,1,1,0,0,0,0,1,1,1,0,0,1,1,0,0,0,0,1,0,0,0,0,1,0,0,0,0,0,1,1,0,1,1,0,0,0,0,1,0,1,1,0,0,1,1,0,1,1,0,1,0,0,0,0,0,0,0,1,0,1,0,0,0,0,1,1,1,1,0,0,0,0,1,1,0,1,0,0,0,0,0,0,0,0,0,1,0,0,0,1,0,0,0,0,0,0,0,0,0,1,1,1,0,0,0,1,0,0,0,0,1,0,0,0,1,0,0,0,0,1,0,0,1,0,1,0,0,1,0,1,1,1,0,1,1,0,1,0,1,0,0,1,1,0,0,0,1,1,0,0,0,0,0,0,0,1,1,1,1,0,0,1,0,0,1,1,0,0,0,0,1,0,0,0,0,0,0,1,0,0,1,0,0,0,0,1,1,0,0,0,1,0,1,0,0,0,0,1,1,0,1,0,0,1,0,0,0,0,0,0,0,0,0,1,1,1,1,0,0,0,0,0,1,1,0,1,0,0,0,0,1,1,0,0,1,1,1,0,0,1,1,0,0,0,1,1,1,0,0,0,0,0,0,0,1,1,0,0,0,0,1,0,1,0,1,0,1,0,1,0,0,1,1,0,0,0,1,1,1,0,0,0,1,1,0,0,1,0,0,0,0,0,0,0,1,1,1,1,0,0,0,0,0,0,1,1,1,1,1,0,0,1,0,0,1,0,1,1,0,1,1,0,0,1,1,0,0,0,1,0,1,0,0,0,0,0,0,1,1,0,0,0,0,1,1,0,0,0,1,0,1,0,0,0,0,1,0,0,0,1,0,0,1,0,1,0,1,0,1,1,0,1,0,0,1,0,0,0,0,1,1,0,0,0,1,0,0,0,1,1,1,0,0,0,0,0,0,1,0,0,0,1,1,0,0,0,0,1,0,0,0,1,1,1,1,0,0,0,0,0,0,0,0,0,1,0,0,1,0,0,1,0,0,1,0,0,0,0,0,0,1,0,0,0,0,0,1,0,1,1,1,0,0,1,1,1,1,1,0,0,1,1,0,1,1,0,0,1,1,0,0,0,1,0,1,0,0,0,0,1,0,1,0,0,1,0,0,0,0,1,1,0,1,1,0,0,0,0,0,1,0,0,0,0,0,0,1,0,0,0,1,0,0,0,0,0,1,0,0,1,0,0,0,0,0,1,0,0,1,0,1,0,0,1,0,0,1,0,1,0,0,0,0,0,1,1,0,0,0,1,1,1,0,0,1,0,1,0,0,0,0,1,0,0,0,1,0,0,0,0,0,0,0,0,0,1,0,1,0,0,1,0,1,1,0,0,0,1,0,1,0,1,0,0,0,0,0,1,0,1,1,1,1,1,1,0,0,0,1,0,0,0,0,1,1,1,0,1,1,0,0,0,1,1,0,0,1,0,0,0,1,0,0,0,0,0,1,0,0,1,1,1,1,0,0,0,0,0,0,0,0,0,1,1,1,0,0,1,1,0,0,1,0,0,0,1,0,0,1,0,0,1,1,1,1,1,1,0,1,0,1,1,0,0,1,1,0,0,1,0,0,1,0,1,1,0,0,0,0,0,1,0,0,0,0,1,0,1,1,0,0,0,0,1,0,0,0,1,0,0,0,0,1,1,0,0,1,1,1,0,0,0,0,0,1,0,0,0,0,0,0,1,1,0,1,0,0,0,0,0,0,1,0,0,0,1,0,0,0,0,0,1,1,0,0,1,1,1,0,1,0,1,0,0,0,0,0,0,1,0,1,0,0,1,0,0,0,0,0,1,0,1,1,0,0,0,1,0,1,1,0,0,0,0,0,0,0,0,0,0,1,0,1,1,1,1,0,0,1,1,1,0,1,1,1,1,0,0,0,1,0,0,0,0,0,1,1,1,0,0,1,0,0,0,0,1,0,1,1,0,1,1,1,1,0,0,1,1,0,0,0,0,0,0,0,0,1,1,0,1,1,1,1,1,1,1,1,0,0,0,1,0,1,1,0,0,0,1,0,0,0,0,1,0,0,0,0,0,1,1,0,1,0,0,1,0,1,0,0,1,1,0,0,0,1,1,0,1,1,1,0,0,0,0,0,0,0,1,1,1,1,0,0,1,0,0,0,0,0,0,1,0,1,0,0,0,0,0,0,0,0,0,0,1,0,0,0,0,0,0,0,1,1,1,0,0,0,0,0,0,1,0,0,0,0,0,1,0,0,1,0,0,1,0,0,0,0,0,1,1,0,0,0,0,0,0,0,1,1,1,0,0,0,0,1,0,0,0,0,0,0,0,0,0,1,0,0,1,0,0,0,0,0,0,0,0,0,1,0,0,0,1,0,1,0,1,1,0,0,0,1,1,0,0,1,1,0,0,0,1,1,1,0,0,1,0,0,0,0,0,0,0,1,0,0,1,0,0,0,1,1,0,0,1,0,1,0,1,1,0,0,0,1,0,0,1,0,1,1,0,0,0,0,0,1,0,0,0,0,0,0,1,1,1,0,1,1,0,0,1,0,0,1,0,1,0,0,0,1,0,0,1,1,0,0,0,0,0,1,1,0,0,1,1,0,1,1,1,1,0,1,1,0,1,1,0,1,0,1,0,0,1,1,0,1,0,1,0,1,0,0,0,1,0,0,1,0,0,1,1,1,0,0,0,0,0,1,0,0,1,0,0,0,0,1,0,0,0,0,0,1,1,0,1,0,0,0,0,1,0,1,0,1,1,0,0,0,0,0,0,0,1,1,0,1,0,0,0,0,0,0,0,0,1,1,0,1,1,1,0,0,1,0,0,0,1,1,0,1,0,0,1,0,0,1,0,1,0,0,0,0,0,0,0,0,0,1,1,0,0,0,1,1,0,0,0,0,0,0,0,0,0,0,1,1,0,0,1,1,0,0,1,1,1,0,0,0,0,1,1,0,1,0,0,0,0,1,1,0,0,1,1,0,1,0,1,1,1,1,0,0,1,0,1,1,0,0,0,1,0,0,0,0,1,1,1,1,1,1,1,0,1,1,1,1,0,1,1,0,1,1,1,1,1,1,1,0,0,1,0,1,0,1,0,1,0,0,1,1,0,0,1,0,1,0,0,1,1,1,0,0,0,1,0,0,1,0,0,1,1,1,1,1,1,1,1,1,0],\"coloraxis\":\"coloraxis\"},\"name\":\"\",\"type\":\"parcats\"}],                        {\"template\":{\"data\":{\"histogram2dcontour\":[{\"type\":\"histogram2dcontour\",\"colorbar\":{\"outlinewidth\":0,\"ticks\":\"\"},\"colorscale\":[[0.0,\"#0d0887\"],[0.1111111111111111,\"#46039f\"],[0.2222222222222222,\"#7201a8\"],[0.3333333333333333,\"#9c179e\"],[0.4444444444444444,\"#bd3786\"],[0.5555555555555556,\"#d8576b\"],[0.6666666666666666,\"#ed7953\"],[0.7777777777777778,\"#fb9f3a\"],[0.8888888888888888,\"#fdca26\"],[1.0,\"#f0f921\"]]}],\"choropleth\":[{\"type\":\"choropleth\",\"colorbar\":{\"outlinewidth\":0,\"ticks\":\"\"}}],\"histogram2d\":[{\"type\":\"histogram2d\",\"colorbar\":{\"outlinewidth\":0,\"ticks\":\"\"},\"colorscale\":[[0.0,\"#0d0887\"],[0.1111111111111111,\"#46039f\"],[0.2222222222222222,\"#7201a8\"],[0.3333333333333333,\"#9c179e\"],[0.4444444444444444,\"#bd3786\"],[0.5555555555555556,\"#d8576b\"],[0.6666666666666666,\"#ed7953\"],[0.7777777777777778,\"#fb9f3a\"],[0.8888888888888888,\"#fdca26\"],[1.0,\"#f0f921\"]]}],\"heatmap\":[{\"type\":\"heatmap\",\"colorbar\":{\"outlinewidth\":0,\"ticks\":\"\"},\"colorscale\":[[0.0,\"#0d0887\"],[0.1111111111111111,\"#46039f\"],[0.2222222222222222,\"#7201a8\"],[0.3333333333333333,\"#9c179e\"],[0.4444444444444444,\"#bd3786\"],[0.5555555555555556,\"#d8576b\"],[0.6666666666666666,\"#ed7953\"],[0.7777777777777778,\"#fb9f3a\"],[0.8888888888888888,\"#fdca26\"],[1.0,\"#f0f921\"]]}],\"heatmapgl\":[{\"type\":\"heatmapgl\",\"colorbar\":{\"outlinewidth\":0,\"ticks\":\"\"},\"colorscale\":[[0.0,\"#0d0887\"],[0.1111111111111111,\"#46039f\"],[0.2222222222222222,\"#7201a8\"],[0.3333333333333333,\"#9c179e\"],[0.4444444444444444,\"#bd3786\"],[0.5555555555555556,\"#d8576b\"],[0.6666666666666666,\"#ed7953\"],[0.7777777777777778,\"#fb9f3a\"],[0.8888888888888888,\"#fdca26\"],[1.0,\"#f0f921\"]]}],\"contourcarpet\":[{\"type\":\"contourcarpet\",\"colorbar\":{\"outlinewidth\":0,\"ticks\":\"\"}}],\"contour\":[{\"type\":\"contour\",\"colorbar\":{\"outlinewidth\":0,\"ticks\":\"\"},\"colorscale\":[[0.0,\"#0d0887\"],[0.1111111111111111,\"#46039f\"],[0.2222222222222222,\"#7201a8\"],[0.3333333333333333,\"#9c179e\"],[0.4444444444444444,\"#bd3786\"],[0.5555555555555556,\"#d8576b\"],[0.6666666666666666,\"#ed7953\"],[0.7777777777777778,\"#fb9f3a\"],[0.8888888888888888,\"#fdca26\"],[1.0,\"#f0f921\"]]}],\"surface\":[{\"type\":\"surface\",\"colorbar\":{\"outlinewidth\":0,\"ticks\":\"\"},\"colorscale\":[[0.0,\"#0d0887\"],[0.1111111111111111,\"#46039f\"],[0.2222222222222222,\"#7201a8\"],[0.3333333333333333,\"#9c179e\"],[0.4444444444444444,\"#bd3786\"],[0.5555555555555556,\"#d8576b\"],[0.6666666666666666,\"#ed7953\"],[0.7777777777777778,\"#fb9f3a\"],[0.8888888888888888,\"#fdca26\"],[1.0,\"#f0f921\"]]}],\"mesh3d\":[{\"type\":\"mesh3d\",\"colorbar\":{\"outlinewidth\":0,\"ticks\":\"\"}}],\"scatter\":[{\"fillpattern\":{\"fillmode\":\"overlay\",\"size\":10,\"solidity\":0.2},\"type\":\"scatter\"}],\"parcoords\":[{\"type\":\"parcoords\",\"line\":{\"colorbar\":{\"outlinewidth\":0,\"ticks\":\"\"}}}],\"scatterpolargl\":[{\"type\":\"scatterpolargl\",\"marker\":{\"colorbar\":{\"outlinewidth\":0,\"ticks\":\"\"}}}],\"bar\":[{\"error_x\":{\"color\":\"#2a3f5f\"},\"error_y\":{\"color\":\"#2a3f5f\"},\"marker\":{\"line\":{\"color\":\"#E5ECF6\",\"width\":0.5},\"pattern\":{\"fillmode\":\"overlay\",\"size\":10,\"solidity\":0.2}},\"type\":\"bar\"}],\"scattergeo\":[{\"type\":\"scattergeo\",\"marker\":{\"colorbar\":{\"outlinewidth\":0,\"ticks\":\"\"}}}],\"scatterpolar\":[{\"type\":\"scatterpolar\",\"marker\":{\"colorbar\":{\"outlinewidth\":0,\"ticks\":\"\"}}}],\"histogram\":[{\"marker\":{\"pattern\":{\"fillmode\":\"overlay\",\"size\":10,\"solidity\":0.2}},\"type\":\"histogram\"}],\"scattergl\":[{\"type\":\"scattergl\",\"marker\":{\"colorbar\":{\"outlinewidth\":0,\"ticks\":\"\"}}}],\"scatter3d\":[{\"type\":\"scatter3d\",\"line\":{\"colorbar\":{\"outlinewidth\":0,\"ticks\":\"\"}},\"marker\":{\"colorbar\":{\"outlinewidth\":0,\"ticks\":\"\"}}}],\"scattermapbox\":[{\"type\":\"scattermapbox\",\"marker\":{\"colorbar\":{\"outlinewidth\":0,\"ticks\":\"\"}}}],\"scatterternary\":[{\"type\":\"scatterternary\",\"marker\":{\"colorbar\":{\"outlinewidth\":0,\"ticks\":\"\"}}}],\"scattercarpet\":[{\"type\":\"scattercarpet\",\"marker\":{\"colorbar\":{\"outlinewidth\":0,\"ticks\":\"\"}}}],\"carpet\":[{\"aaxis\":{\"endlinecolor\":\"#2a3f5f\",\"gridcolor\":\"white\",\"linecolor\":\"white\",\"minorgridcolor\":\"white\",\"startlinecolor\":\"#2a3f5f\"},\"baxis\":{\"endlinecolor\":\"#2a3f5f\",\"gridcolor\":\"white\",\"linecolor\":\"white\",\"minorgridcolor\":\"white\",\"startlinecolor\":\"#2a3f5f\"},\"type\":\"carpet\"}],\"table\":[{\"cells\":{\"fill\":{\"color\":\"#EBF0F8\"},\"line\":{\"color\":\"white\"}},\"header\":{\"fill\":{\"color\":\"#C8D4E3\"},\"line\":{\"color\":\"white\"}},\"type\":\"table\"}],\"barpolar\":[{\"marker\":{\"line\":{\"color\":\"#E5ECF6\",\"width\":0.5},\"pattern\":{\"fillmode\":\"overlay\",\"size\":10,\"solidity\":0.2}},\"type\":\"barpolar\"}],\"pie\":[{\"automargin\":true,\"type\":\"pie\"}]},\"layout\":{\"autotypenumbers\":\"strict\",\"colorway\":[\"#636efa\",\"#EF553B\",\"#00cc96\",\"#ab63fa\",\"#FFA15A\",\"#19d3f3\",\"#FF6692\",\"#B6E880\",\"#FF97FF\",\"#FECB52\"],\"font\":{\"color\":\"#2a3f5f\"},\"hovermode\":\"closest\",\"hoverlabel\":{\"align\":\"left\"},\"paper_bgcolor\":\"white\",\"plot_bgcolor\":\"#E5ECF6\",\"polar\":{\"bgcolor\":\"#E5ECF6\",\"angularaxis\":{\"gridcolor\":\"white\",\"linecolor\":\"white\",\"ticks\":\"\"},\"radialaxis\":{\"gridcolor\":\"white\",\"linecolor\":\"white\",\"ticks\":\"\"}},\"ternary\":{\"bgcolor\":\"#E5ECF6\",\"aaxis\":{\"gridcolor\":\"white\",\"linecolor\":\"white\",\"ticks\":\"\"},\"baxis\":{\"gridcolor\":\"white\",\"linecolor\":\"white\",\"ticks\":\"\"},\"caxis\":{\"gridcolor\":\"white\",\"linecolor\":\"white\",\"ticks\":\"\"}},\"coloraxis\":{\"colorbar\":{\"outlinewidth\":0,\"ticks\":\"\"}},\"colorscale\":{\"sequential\":[[0.0,\"#0d0887\"],[0.1111111111111111,\"#46039f\"],[0.2222222222222222,\"#7201a8\"],[0.3333333333333333,\"#9c179e\"],[0.4444444444444444,\"#bd3786\"],[0.5555555555555556,\"#d8576b\"],[0.6666666666666666,\"#ed7953\"],[0.7777777777777778,\"#fb9f3a\"],[0.8888888888888888,\"#fdca26\"],[1.0,\"#f0f921\"]],\"sequentialminus\":[[0.0,\"#0d0887\"],[0.1111111111111111,\"#46039f\"],[0.2222222222222222,\"#7201a8\"],[0.3333333333333333,\"#9c179e\"],[0.4444444444444444,\"#bd3786\"],[0.5555555555555556,\"#d8576b\"],[0.6666666666666666,\"#ed7953\"],[0.7777777777777778,\"#fb9f3a\"],[0.8888888888888888,\"#fdca26\"],[1.0,\"#f0f921\"]],\"diverging\":[[0,\"#8e0152\"],[0.1,\"#c51b7d\"],[0.2,\"#de77ae\"],[0.3,\"#f1b6da\"],[0.4,\"#fde0ef\"],[0.5,\"#f7f7f7\"],[0.6,\"#e6f5d0\"],[0.7,\"#b8e186\"],[0.8,\"#7fbc41\"],[0.9,\"#4d9221\"],[1,\"#276419\"]]},\"xaxis\":{\"gridcolor\":\"white\",\"linecolor\":\"white\",\"ticks\":\"\",\"title\":{\"standoff\":15},\"zerolinecolor\":\"white\",\"automargin\":true,\"zerolinewidth\":2},\"yaxis\":{\"gridcolor\":\"white\",\"linecolor\":\"white\",\"ticks\":\"\",\"title\":{\"standoff\":15},\"zerolinecolor\":\"white\",\"automargin\":true,\"zerolinewidth\":2},\"scene\":{\"xaxis\":{\"backgroundcolor\":\"#E5ECF6\",\"gridcolor\":\"white\",\"linecolor\":\"white\",\"showbackground\":true,\"ticks\":\"\",\"zerolinecolor\":\"white\",\"gridwidth\":2},\"yaxis\":{\"backgroundcolor\":\"#E5ECF6\",\"gridcolor\":\"white\",\"linecolor\":\"white\",\"showbackground\":true,\"ticks\":\"\",\"zerolinecolor\":\"white\",\"gridwidth\":2},\"zaxis\":{\"backgroundcolor\":\"#E5ECF6\",\"gridcolor\":\"white\",\"linecolor\":\"white\",\"showbackground\":true,\"ticks\":\"\",\"zerolinecolor\":\"white\",\"gridwidth\":2}},\"shapedefaults\":{\"line\":{\"color\":\"#2a3f5f\"}},\"annotationdefaults\":{\"arrowcolor\":\"#2a3f5f\",\"arrowhead\":0,\"arrowwidth\":1},\"geo\":{\"bgcolor\":\"white\",\"landcolor\":\"#E5ECF6\",\"subunitcolor\":\"white\",\"showland\":true,\"showlakes\":true,\"lakecolor\":\"white\"},\"title\":{\"x\":0.05},\"mapbox\":{\"style\":\"light\"}}},\"coloraxis\":{\"colorbar\":{\"title\":{\"text\":\"Diagnosis\"}},\"colorscale\":[[0.0,\"#0d0887\"],[0.1111111111111111,\"#46039f\"],[0.2222222222222222,\"#7201a8\"],[0.3333333333333333,\"#9c179e\"],[0.4444444444444444,\"#bd3786\"],[0.5555555555555556,\"#d8576b\"],[0.6666666666666666,\"#ed7953\"],[0.7777777777777778,\"#fb9f3a\"],[0.8888888888888888,\"#fdca26\"],[1.0,\"#f0f921\"]]},\"legend\":{\"tracegroupgap\":0},\"margin\":{\"t\":60}},                        {\"responsive\": true}                    ).then(function(){\n",
              "                            \n",
              "var gd = document.getElementById('649e5afd-5964-49b7-ade5-9ec08c67a026');\n",
              "var x = new MutationObserver(function (mutations, observer) {{\n",
              "        var display = window.getComputedStyle(gd).display;\n",
              "        if (!display || display === 'none') {{\n",
              "            console.log([gd, 'removed!']);\n",
              "            Plotly.purge(gd);\n",
              "            observer.disconnect();\n",
              "        }}\n",
              "}});\n",
              "\n",
              "// Listen for the removal of the full notebook cells\n",
              "var notebookContainer = gd.closest('#notebook-container');\n",
              "if (notebookContainer) {{\n",
              "    x.observe(notebookContainer, {childList: true});\n",
              "}}\n",
              "\n",
              "// Listen for the clearing of the current output cell\n",
              "var outputEl = gd.closest('.output');\n",
              "if (outputEl) {{\n",
              "    x.observe(outputEl, {childList: true});\n",
              "}}\n",
              "\n",
              "                        })                };                });            </script>        </div>"
            ]
          },
          "metadata": {},
          "output_type": "display_data"
        }
      ],
      "source": [
        "grafico = px.parallel_categories(\n",
        "    patients_data,\n",
        "    dimensions=[ 'Age main','Smoking', 'AlcoholIntake' ],\n",
        "    color='Diagnosis'\n",
        ")\n",
        "grafico.show()"
      ]
    },
    {
      "cell_type": "markdown",
      "id": "6890e236",
      "metadata": {
        "papermill": {
          "duration": 0.024786,
          "end_time": "2024-06-19T03:44:46.121443",
          "exception": false,
          "start_time": "2024-06-19T03:44:46.096657",
          "status": "completed"
        },
        "tags": [],
        "id": "6890e236"
      },
      "source": [
        "_____________________________________________________________"
      ]
    },
    {
      "cell_type": "markdown",
      "id": "d065c409",
      "metadata": {
        "papermill": {
          "duration": 0.024715,
          "end_time": "2024-06-19T03:44:46.171269",
          "exception": false,
          "start_time": "2024-06-19T03:44:46.146554",
          "status": "completed"
        },
        "tags": [],
        "id": "d065c409"
      },
      "source": [
        "I repeated the process again, but using other variables, also using age as a base"
      ]
    },
    {
      "cell_type": "markdown",
      "id": "cd4887f9",
      "metadata": {
        "papermill": {
          "duration": 0.024771,
          "end_time": "2024-06-19T03:44:46.221477",
          "exception": false,
          "start_time": "2024-06-19T03:44:46.196706",
          "status": "completed"
        },
        "tags": [],
        "id": "cd4887f9"
      },
      "source": [
        "_____________________________________________________________"
      ]
    },
    {
      "cell_type": "code",
      "execution_count": null,
      "id": "862f74e5",
      "metadata": {
        "execution": {
          "iopub.execute_input": "2024-06-19T03:44:46.273195Z",
          "iopub.status.busy": "2024-06-19T03:44:46.272775Z",
          "iopub.status.idle": "2024-06-19T03:44:46.346381Z",
          "shell.execute_reply": "2024-06-19T03:44:46.345366Z"
        },
        "papermill": {
          "duration": 0.102523,
          "end_time": "2024-06-19T03:44:46.349022",
          "exception": false,
          "start_time": "2024-06-19T03:44:46.246499",
          "status": "completed"
        },
        "tags": [],
        "id": "862f74e5",
        "outputId": "707ca886-d0fc-4700-e1cf-3cbb3c1594c5"
      },
      "outputs": [
        {
          "data": {
            "text/html": [
              "<div>                            <div id=\"69327d4a-c34b-43b2-bbae-3d69e126486d\" class=\"plotly-graph-div\" style=\"height:525px; width:100%;\"></div>            <script type=\"text/javascript\">                require([\"plotly\"], function(Plotly) {                    window.PLOTLYENV=window.PLOTLYENV || {};                                    if (document.getElementById(\"69327d4a-c34b-43b2-bbae-3d69e126486d\")) {                    Plotly.newPlot(                        \"69327d4a-c34b-43b2-bbae-3d69e126486d\",                        [{\"dimensions\":[{\"label\":\"Age main\",\"values\":[\"\\u003e=50\",\"\\u003e=50\",\"\\u003c50\",\"\\u003c50\",\"\\u003e=50\",\"\\u003c50\",\"\\u003e=50\",\"\\u003c50\",\"\\u003e=50\",\"\\u003e=50\",\"\\u003c50\",\"\\u003c50\",\"\\u003c50\",\"\\u003c50\",\"\\u003c50\",\"\\u003e=50\",\"\\u003e=50\",\"\\u003e=50\",\"\\u003c50\",\"\\u003c50\",\"\\u003c50\",\"\\u003e=50\",\"\\u003c50\",\"\\u003c50\",\"\\u003e=50\",\"\\u003c50\",\"\\u003e=50\",\"\\u003c50\",\"\\u003e=50\",\"\\u003c50\",\"\\u003e=50\",\"\\u003c50\",\"\\u003e=50\",\"\\u003c50\",\"\\u003e=50\",\"\\u003e=50\",\"\\u003c50\",\"\\u003e=50\",\"\\u003c50\",\"\\u003e=50\",\"\\u003e=50\",\"\\u003c50\",\"\\u003e=50\",\"\\u003c50\",\"\\u003c50\",\"\\u003e=50\",\"\\u003e=50\",\"\\u003e=50\",\"\\u003e=50\",\"\\u003e=50\",\"\\u003e=50\",\"\\u003c50\",\"\\u003e=50\",\"\\u003e=50\",\"\\u003c50\",\"\\u003c50\",\"\\u003c50\",\"\\u003e=50\",\"\\u003c50\",\"\\u003c50\",\"\\u003c50\",\"\\u003e=50\",\"\\u003c50\",\"\\u003e=50\",\"\\u003e=50\",\"\\u003c50\",\"\\u003c50\",\"\\u003e=50\",\"\\u003c50\",\"\\u003c50\",\"\\u003c50\",\"\\u003e=50\",\"\\u003e=50\",\"\\u003c50\",\"\\u003e=50\",\"\\u003e=50\",\"\\u003c50\",\"\\u003e=50\",\"\\u003e=50\",\"\\u003c50\",\"\\u003c50\",\"\\u003e=50\",\"\\u003e=50\",\"\\u003e=50\",\"\\u003c50\",\"\\u003c50\",\"\\u003c50\",\"\\u003e=50\",\"\\u003e=50\",\"\\u003c50\",\"\\u003e=50\",\"\\u003c50\",\"\\u003c50\",\"\\u003c50\",\"\\u003e=50\",\"\\u003e=50\",\"\\u003c50\",\"\\u003e=50\",\"\\u003c50\",\"\\u003e=50\",\"\\u003e=50\",\"\\u003c50\",\"\\u003c50\",\"\\u003c50\",\"\\u003c50\",\"\\u003e=50\",\"\\u003e=50\",\"\\u003e=50\",\"\\u003c50\",\"\\u003c50\",\"\\u003e=50\",\"\\u003c50\",\"\\u003e=50\",\"\\u003e=50\",\"\\u003c50\",\"\\u003c50\",\"\\u003c50\",\"\\u003e=50\",\"\\u003e=50\",\"\\u003e=50\",\"\\u003e=50\",\"\\u003e=50\",\"\\u003c50\",\"\\u003c50\",\"\\u003e=50\",\"\\u003c50\",\"\\u003c50\",\"\\u003c50\",\"\\u003c50\",\"\\u003c50\",\"\\u003c50\",\"\\u003e=50\",\"\\u003c50\",\"\\u003c50\",\"\\u003c50\",\"\\u003e=50\",\"\\u003c50\",\"\\u003c50\",\"\\u003e=50\",\"\\u003e=50\",\"\\u003e=50\",\"\\u003e=50\",\"\\u003c50\",\"\\u003e=50\",\"\\u003e=50\",\"\\u003e=50\",\"\\u003e=50\",\"\\u003c50\",\"\\u003c50\",\"\\u003c50\",\"\\u003c50\",\"\\u003c50\",\"\\u003e=50\",\"\\u003e=50\",\"\\u003e=50\",\"\\u003e=50\",\"\\u003c50\",\"\\u003c50\",\"\\u003e=50\",\"\\u003e=50\",\"\\u003e=50\",\"\\u003e=50\",\"\\u003c50\",\"\\u003c50\",\"\\u003e=50\",\"\\u003c50\",\"\\u003e=50\",\"\\u003e=50\",\"\\u003e=50\",\"\\u003c50\",\"\\u003c50\",\"\\u003c50\",\"\\u003c50\",\"\\u003c50\",\"\\u003e=50\",\"\\u003c50\",\"\\u003e=50\",\"\\u003c50\",\"\\u003c50\",\"\\u003c50\",\"\\u003c50\",\"\\u003c50\",\"\\u003e=50\",\"\\u003e=50\",\"\\u003c50\",\"\\u003e=50\",\"\\u003e=50\",\"\\u003e=50\",\"\\u003e=50\",\"\\u003e=50\",\"\\u003e=50\",\"\\u003e=50\",\"\\u003c50\",\"\\u003c50\",\"\\u003e=50\",\"\\u003c50\",\"\\u003e=50\",\"\\u003e=50\",\"\\u003c50\",\"\\u003e=50\",\"\\u003c50\",\"\\u003e=50\",\"\\u003c50\",\"\\u003e=50\",\"\\u003c50\",\"\\u003e=50\",\"\\u003e=50\",\"\\u003c50\",\"\\u003c50\",\"\\u003c50\",\"\\u003e=50\",\"\\u003e=50\",\"\\u003e=50\",\"\\u003e=50\",\"\\u003c50\",\"\\u003c50\",\"\\u003c50\",\"\\u003e=50\",\"\\u003e=50\",\"\\u003c50\",\"\\u003c50\",\"\\u003c50\",\"\\u003e=50\",\"\\u003e=50\",\"\\u003c50\",\"\\u003c50\",\"\\u003e=50\",\"\\u003e=50\",\"\\u003c50\",\"\\u003e=50\",\"\\u003c50\",\"\\u003e=50\",\"\\u003e=50\",\"\\u003c50\",\"\\u003e=50\",\"\\u003c50\",\"\\u003e=50\",\"\\u003c50\",\"\\u003c50\",\"\\u003c50\",\"\\u003c50\",\"\\u003e=50\",\"\\u003e=50\",\"\\u003e=50\",\"\\u003e=50\",\"\\u003e=50\",\"\\u003c50\",\"\\u003c50\",\"\\u003e=50\",\"\\u003e=50\",\"\\u003e=50\",\"\\u003e=50\",\"\\u003c50\",\"\\u003e=50\",\"\\u003e=50\",\"\\u003e=50\",\"\\u003e=50\",\"\\u003e=50\",\"\\u003e=50\",\"\\u003c50\",\"\\u003e=50\",\"\\u003c50\",\"\\u003c50\",\"\\u003e=50\",\"\\u003e=50\",\"\\u003e=50\",\"\\u003e=50\",\"\\u003c50\",\"\\u003e=50\",\"\\u003e=50\",\"\\u003c50\",\"\\u003c50\",\"\\u003c50\",\"\\u003e=50\",\"\\u003c50\",\"\\u003e=50\",\"\\u003e=50\",\"\\u003e=50\",\"\\u003c50\",\"\\u003c50\",\"\\u003c50\",\"\\u003e=50\",\"\\u003e=50\",\"\\u003c50\",\"\\u003e=50\",\"\\u003c50\",\"\\u003e=50\",\"\\u003e=50\",\"\\u003c50\",\"\\u003e=50\",\"\\u003c50\",\"\\u003e=50\",\"\\u003e=50\",\"\\u003c50\",\"\\u003e=50\",\"\\u003c50\",\"\\u003c50\",\"\\u003e=50\",\"\\u003e=50\",\"\\u003c50\",\"\\u003c50\",\"\\u003c50\",\"\\u003e=50\",\"\\u003c50\",\"\\u003e=50\",\"\\u003c50\",\"\\u003e=50\",\"\\u003e=50\",\"\\u003c50\",\"\\u003c50\",\"\\u003c50\",\"\\u003c50\",\"\\u003c50\",\"\\u003e=50\",\"\\u003e=50\",\"\\u003e=50\",\"\\u003c50\",\"\\u003c50\",\"\\u003c50\",\"\\u003c50\",\"\\u003c50\",\"\\u003e=50\",\"\\u003c50\",\"\\u003e=50\",\"\\u003e=50\",\"\\u003e=50\",\"\\u003e=50\",\"\\u003e=50\",\"\\u003c50\",\"\\u003e=50\",\"\\u003c50\",\"\\u003c50\",\"\\u003c50\",\"\\u003e=50\",\"\\u003c50\",\"\\u003e=50\",\"\\u003c50\",\"\\u003e=50\",\"\\u003c50\",\"\\u003e=50\",\"\\u003e=50\",\"\\u003c50\",\"\\u003e=50\",\"\\u003c50\",\"\\u003c50\",\"\\u003e=50\",\"\\u003e=50\",\"\\u003e=50\",\"\\u003e=50\",\"\\u003e=50\",\"\\u003c50\",\"\\u003c50\",\"\\u003e=50\",\"\\u003c50\",\"\\u003c50\",\"\\u003e=50\",\"\\u003e=50\",\"\\u003e=50\",\"\\u003e=50\",\"\\u003c50\",\"\\u003e=50\",\"\\u003e=50\",\"\\u003c50\",\"\\u003e=50\",\"\\u003c50\",\"\\u003c50\",\"\\u003c50\",\"\\u003c50\",\"\\u003e=50\",\"\\u003e=50\",\"\\u003e=50\",\"\\u003c50\",\"\\u003e=50\",\"\\u003c50\",\"\\u003e=50\",\"\\u003c50\",\"\\u003e=50\",\"\\u003e=50\",\"\\u003e=50\",\"\\u003c50\",\"\\u003e=50\",\"\\u003e=50\",\"\\u003c50\",\"\\u003e=50\",\"\\u003c50\",\"\\u003c50\",\"\\u003c50\",\"\\u003e=50\",\"\\u003c50\",\"\\u003c50\",\"\\u003e=50\",\"\\u003e=50\",\"\\u003c50\",\"\\u003e=50\",\"\\u003e=50\",\"\\u003e=50\",\"\\u003e=50\",\"\\u003c50\",\"\\u003e=50\",\"\\u003c50\",\"\\u003c50\",\"\\u003e=50\",\"\\u003c50\",\"\\u003e=50\",\"\\u003c50\",\"\\u003c50\",\"\\u003c50\",\"\\u003c50\",\"\\u003e=50\",\"\\u003e=50\",\"\\u003c50\",\"\\u003e=50\",\"\\u003e=50\",\"\\u003c50\",\"\\u003e=50\",\"\\u003c50\",\"\\u003e=50\",\"\\u003c50\",\"\\u003e=50\",\"\\u003e=50\",\"\\u003e=50\",\"\\u003e=50\",\"\\u003e=50\",\"\\u003c50\",\"\\u003c50\",\"\\u003c50\",\"\\u003e=50\",\"\\u003c50\",\"\\u003c50\",\"\\u003e=50\",\"\\u003c50\",\"\\u003e=50\",\"\\u003e=50\",\"\\u003c50\",\"\\u003e=50\",\"\\u003e=50\",\"\\u003e=50\",\"\\u003c50\",\"\\u003c50\",\"\\u003e=50\",\"\\u003e=50\",\"\\u003c50\",\"\\u003e=50\",\"\\u003c50\",\"\\u003c50\",\"\\u003c50\",\"\\u003e=50\",\"\\u003e=50\",\"\\u003c50\",\"\\u003e=50\",\"\\u003e=50\",\"\\u003e=50\",\"\\u003e=50\",\"\\u003c50\",\"\\u003c50\",\"\\u003e=50\",\"\\u003e=50\",\"\\u003e=50\",\"\\u003e=50\",\"\\u003e=50\",\"\\u003e=50\",\"\\u003e=50\",\"\\u003e=50\",\"\\u003e=50\",\"\\u003c50\",\"\\u003e=50\",\"\\u003c50\",\"\\u003e=50\",\"\\u003c50\",\"\\u003c50\",\"\\u003c50\",\"\\u003e=50\",\"\\u003e=50\",\"\\u003e=50\",\"\\u003e=50\",\"\\u003c50\",\"\\u003e=50\",\"\\u003e=50\",\"\\u003c50\",\"\\u003e=50\",\"\\u003e=50\",\"\\u003e=50\",\"\\u003c50\",\"\\u003c50\",\"\\u003c50\",\"\\u003c50\",\"\\u003e=50\",\"\\u003c50\",\"\\u003c50\",\"\\u003c50\",\"\\u003e=50\",\"\\u003e=50\",\"\\u003c50\",\"\\u003e=50\",\"\\u003e=50\",\"\\u003e=50\",\"\\u003e=50\",\"\\u003c50\",\"\\u003e=50\",\"\\u003e=50\",\"\\u003c50\",\"\\u003e=50\",\"\\u003e=50\",\"\\u003c50\",\"\\u003c50\",\"\\u003c50\",\"\\u003e=50\",\"\\u003e=50\",\"\\u003c50\",\"\\u003e=50\",\"\\u003e=50\",\"\\u003e=50\",\"\\u003c50\",\"\\u003c50\",\"\\u003c50\",\"\\u003e=50\",\"\\u003c50\",\"\\u003c50\",\"\\u003c50\",\"\\u003e=50\",\"\\u003c50\",\"\\u003c50\",\"\\u003c50\",\"\\u003e=50\",\"\\u003c50\",\"\\u003e=50\",\"\\u003c50\",\"\\u003c50\",\"\\u003e=50\",\"\\u003c50\",\"\\u003e=50\",\"\\u003e=50\",\"\\u003c50\",\"\\u003e=50\",\"\\u003e=50\",\"\\u003c50\",\"\\u003e=50\",\"\\u003e=50\",\"\\u003e=50\",\"\\u003c50\",\"\\u003c50\",\"\\u003e=50\",\"\\u003e=50\",\"\\u003e=50\",\"\\u003e=50\",\"\\u003e=50\",\"\\u003c50\",\"\\u003e=50\",\"\\u003e=50\",\"\\u003e=50\",\"\\u003e=50\",\"\\u003c50\",\"\\u003e=50\",\"\\u003c50\",\"\\u003c50\",\"\\u003e=50\",\"\\u003e=50\",\"\\u003e=50\",\"\\u003c50\",\"\\u003e=50\",\"\\u003e=50\",\"\\u003e=50\",\"\\u003e=50\",\"\\u003e=50\",\"\\u003c50\",\"\\u003c50\",\"\\u003e=50\",\"\\u003e=50\",\"\\u003e=50\",\"\\u003c50\",\"\\u003c50\",\"\\u003c50\",\"\\u003e=50\",\"\\u003c50\",\"\\u003c50\",\"\\u003e=50\",\"\\u003e=50\",\"\\u003c50\",\"\\u003e=50\",\"\\u003c50\",\"\\u003e=50\",\"\\u003c50\",\"\\u003c50\",\"\\u003c50\",\"\\u003e=50\",\"\\u003c50\",\"\\u003e=50\",\"\\u003e=50\",\"\\u003c50\",\"\\u003e=50\",\"\\u003e=50\",\"\\u003e=50\",\"\\u003e=50\",\"\\u003e=50\",\"\\u003c50\",\"\\u003e=50\",\"\\u003e=50\",\"\\u003e=50\",\"\\u003c50\",\"\\u003c50\",\"\\u003e=50\",\"\\u003e=50\",\"\\u003c50\",\"\\u003c50\",\"\\u003c50\",\"\\u003e=50\",\"\\u003c50\",\"\\u003c50\",\"\\u003c50\",\"\\u003c50\",\"\\u003e=50\",\"\\u003e=50\",\"\\u003c50\",\"\\u003e=50\",\"\\u003c50\",\"\\u003c50\",\"\\u003c50\",\"\\u003c50\",\"\\u003e=50\",\"\\u003e=50\",\"\\u003c50\",\"\\u003e=50\",\"\\u003e=50\",\"\\u003c50\",\"\\u003c50\",\"\\u003c50\",\"\\u003c50\",\"\\u003c50\",\"\\u003e=50\",\"\\u003c50\",\"\\u003e=50\",\"\\u003e=50\",\"\\u003e=50\",\"\\u003c50\",\"\\u003e=50\",\"\\u003c50\",\"\\u003e=50\",\"\\u003c50\",\"\\u003e=50\",\"\\u003c50\",\"\\u003e=50\",\"\\u003e=50\",\"\\u003e=50\",\"\\u003e=50\",\"\\u003c50\",\"\\u003e=50\",\"\\u003c50\",\"\\u003e=50\",\"\\u003e=50\",\"\\u003c50\",\"\\u003e=50\",\"\\u003c50\",\"\\u003e=50\",\"\\u003c50\",\"\\u003c50\",\"\\u003c50\",\"\\u003c50\",\"\\u003e=50\",\"\\u003c50\",\"\\u003e=50\",\"\\u003c50\",\"\\u003e=50\",\"\\u003c50\",\"\\u003c50\",\"\\u003c50\",\"\\u003c50\",\"\\u003e=50\",\"\\u003e=50\",\"\\u003e=50\",\"\\u003e=50\",\"\\u003e=50\",\"\\u003e=50\",\"\\u003e=50\",\"\\u003e=50\",\"\\u003e=50\",\"\\u003c50\",\"\\u003c50\",\"\\u003c50\",\"\\u003e=50\",\"\\u003e=50\",\"\\u003c50\",\"\\u003e=50\",\"\\u003e=50\",\"\\u003c50\",\"\\u003c50\",\"\\u003c50\",\"\\u003e=50\",\"\\u003e=50\",\"\\u003c50\",\"\\u003e=50\",\"\\u003e=50\",\"\\u003e=50\",\"\\u003e=50\",\"\\u003c50\",\"\\u003c50\",\"\\u003c50\",\"\\u003c50\",\"\\u003c50\",\"\\u003c50\",\"\\u003c50\",\"\\u003c50\",\"\\u003e=50\",\"\\u003e=50\",\"\\u003e=50\",\"\\u003c50\",\"\\u003c50\",\"\\u003e=50\",\"\\u003e=50\",\"\\u003e=50\",\"\\u003e=50\",\"\\u003c50\",\"\\u003c50\",\"\\u003e=50\",\"\\u003e=50\",\"\\u003c50\",\"\\u003c50\",\"\\u003e=50\",\"\\u003e=50\",\"\\u003e=50\",\"\\u003c50\",\"\\u003e=50\",\"\\u003c50\",\"\\u003c50\",\"\\u003e=50\",\"\\u003e=50\",\"\\u003e=50\",\"\\u003e=50\",\"\\u003e=50\",\"\\u003c50\",\"\\u003e=50\",\"\\u003e=50\",\"\\u003e=50\",\"\\u003c50\",\"\\u003c50\",\"\\u003e=50\",\"\\u003e=50\",\"\\u003c50\",\"\\u003e=50\",\"\\u003e=50\",\"\\u003c50\",\"\\u003c50\",\"\\u003c50\",\"\\u003e=50\",\"\\u003e=50\",\"\\u003c50\",\"\\u003c50\",\"\\u003e=50\",\"\\u003c50\",\"\\u003e=50\",\"\\u003c50\",\"\\u003c50\",\"\\u003c50\",\"\\u003e=50\",\"\\u003c50\",\"\\u003e=50\",\"\\u003e=50\",\"\\u003c50\",\"\\u003e=50\",\"\\u003e=50\",\"\\u003c50\",\"\\u003c50\",\"\\u003c50\",\"\\u003c50\",\"\\u003c50\",\"\\u003c50\",\"\\u003e=50\",\"\\u003e=50\",\"\\u003c50\",\"\\u003e=50\",\"\\u003e=50\",\"\\u003c50\",\"\\u003e=50\",\"\\u003c50\",\"\\u003e=50\",\"\\u003c50\",\"\\u003c50\",\"\\u003e=50\",\"\\u003e=50\",\"\\u003c50\",\"\\u003e=50\",\"\\u003e=50\",\"\\u003c50\",\"\\u003c50\",\"\\u003e=50\",\"\\u003e=50\",\"\\u003e=50\",\"\\u003e=50\",\"\\u003e=50\",\"\\u003e=50\",\"\\u003e=50\",\"\\u003c50\",\"\\u003e=50\",\"\\u003e=50\",\"\\u003c50\",\"\\u003e=50\",\"\\u003c50\",\"\\u003c50\",\"\\u003e=50\",\"\\u003c50\",\"\\u003c50\",\"\\u003e=50\",\"\\u003c50\",\"\\u003c50\",\"\\u003c50\",\"\\u003e=50\",\"\\u003e=50\",\"\\u003c50\",\"\\u003e=50\",\"\\u003e=50\",\"\\u003c50\",\"\\u003e=50\",\"\\u003c50\",\"\\u003e=50\",\"\\u003e=50\",\"\\u003c50\",\"\\u003e=50\",\"\\u003c50\",\"\\u003e=50\",\"\\u003c50\",\"\\u003c50\",\"\\u003c50\",\"\\u003e=50\",\"\\u003e=50\",\"\\u003c50\",\"\\u003c50\",\"\\u003e=50\",\"\\u003e=50\",\"\\u003c50\",\"\\u003c50\",\"\\u003e=50\",\"\\u003c50\",\"\\u003c50\",\"\\u003c50\",\"\\u003e=50\",\"\\u003c50\",\"\\u003e=50\",\"\\u003c50\",\"\\u003e=50\",\"\\u003e=50\",\"\\u003c50\",\"\\u003e=50\",\"\\u003e=50\",\"\\u003e=50\",\"\\u003e=50\",\"\\u003c50\",\"\\u003c50\",\"\\u003c50\",\"\\u003c50\",\"\\u003e=50\",\"\\u003c50\",\"\\u003e=50\",\"\\u003c50\",\"\\u003e=50\",\"\\u003c50\",\"\\u003e=50\",\"\\u003c50\",\"\\u003c50\",\"\\u003c50\",\"\\u003e=50\",\"\\u003e=50\",\"\\u003e=50\",\"\\u003c50\",\"\\u003c50\",\"\\u003c50\",\"\\u003c50\",\"\\u003e=50\",\"\\u003e=50\",\"\\u003e=50\",\"\\u003c50\",\"\\u003e=50\",\"\\u003e=50\",\"\\u003e=50\",\"\\u003e=50\",\"\\u003c50\",\"\\u003e=50\",\"\\u003e=50\",\"\\u003e=50\",\"\\u003e=50\",\"\\u003e=50\",\"\\u003e=50\",\"\\u003e=50\",\"\\u003c50\",\"\\u003c50\",\"\\u003e=50\",\"\\u003c50\",\"\\u003c50\",\"\\u003e=50\",\"\\u003e=50\",\"\\u003e=50\",\"\\u003e=50\",\"\\u003c50\",\"\\u003c50\",\"\\u003e=50\",\"\\u003c50\",\"\\u003e=50\",\"\\u003e=50\",\"\\u003e=50\",\"\\u003c50\",\"\\u003c50\",\"\\u003e=50\",\"\\u003c50\",\"\\u003e=50\",\"\\u003e=50\",\"\\u003e=50\",\"\\u003c50\",\"\\u003c50\",\"\\u003c50\",\"\\u003e=50\",\"\\u003c50\",\"\\u003c50\",\"\\u003c50\",\"\\u003e=50\",\"\\u003c50\",\"\\u003c50\",\"\\u003e=50\",\"\\u003c50\",\"\\u003c50\",\"\\u003c50\",\"\\u003e=50\",\"\\u003c50\",\"\\u003e=50\",\"\\u003c50\",\"\\u003e=50\",\"\\u003c50\",\"\\u003c50\",\"\\u003e=50\",\"\\u003e=50\",\"\\u003e=50\",\"\\u003c50\",\"\\u003c50\",\"\\u003e=50\",\"\\u003e=50\",\"\\u003e=50\",\"\\u003c50\",\"\\u003e=50\",\"\\u003c50\",\"\\u003c50\",\"\\u003e=50\",\"\\u003e=50\",\"\\u003c50\",\"\\u003c50\",\"\\u003c50\",\"\\u003e=50\",\"\\u003c50\",\"\\u003c50\",\"\\u003e=50\",\"\\u003e=50\",\"\\u003e=50\",\"\\u003c50\",\"\\u003c50\",\"\\u003e=50\",\"\\u003c50\",\"\\u003e=50\",\"\\u003c50\",\"\\u003c50\",\"\\u003c50\",\"\\u003e=50\",\"\\u003c50\",\"\\u003e=50\",\"\\u003e=50\",\"\\u003e=50\",\"\\u003c50\",\"\\u003e=50\",\"\\u003e=50\",\"\\u003e=50\",\"\\u003e=50\",\"\\u003c50\",\"\\u003c50\",\"\\u003e=50\",\"\\u003e=50\",\"\\u003e=50\",\"\\u003c50\",\"\\u003c50\",\"\\u003c50\",\"\\u003c50\",\"\\u003c50\",\"\\u003e=50\",\"\\u003c50\",\"\\u003e=50\",\"\\u003c50\",\"\\u003e=50\",\"\\u003e=50\",\"\\u003e=50\",\"\\u003e=50\",\"\\u003c50\",\"\\u003c50\",\"\\u003e=50\",\"\\u003e=50\",\"\\u003c50\",\"\\u003c50\",\"\\u003c50\",\"\\u003c50\",\"\\u003e=50\",\"\\u003c50\",\"\\u003e=50\",\"\\u003c50\",\"\\u003e=50\",\"\\u003c50\",\"\\u003e=50\",\"\\u003e=50\",\"\\u003e=50\",\"\\u003c50\",\"\\u003c50\",\"\\u003c50\",\"\\u003c50\",\"\\u003c50\",\"\\u003c50\",\"\\u003c50\",\"\\u003e=50\",\"\\u003c50\",\"\\u003e=50\",\"\\u003e=50\",\"\\u003c50\",\"\\u003c50\",\"\\u003c50\",\"\\u003e=50\",\"\\u003e=50\",\"\\u003e=50\",\"\\u003e=50\",\"\\u003c50\",\"\\u003e=50\",\"\\u003c50\",\"\\u003e=50\",\"\\u003c50\",\"\\u003e=50\",\"\\u003e=50\",\"\\u003e=50\",\"\\u003e=50\",\"\\u003c50\",\"\\u003e=50\",\"\\u003e=50\",\"\\u003c50\",\"\\u003c50\",\"\\u003e=50\",\"\\u003e=50\",\"\\u003c50\",\"\\u003c50\",\"\\u003c50\",\"\\u003e=50\",\"\\u003e=50\",\"\\u003c50\",\"\\u003e=50\",\"\\u003e=50\",\"\\u003c50\",\"\\u003c50\",\"\\u003e=50\",\"\\u003c50\",\"\\u003c50\",\"\\u003c50\",\"\\u003c50\",\"\\u003e=50\",\"\\u003e=50\",\"\\u003e=50\",\"\\u003e=50\",\"\\u003e=50\",\"\\u003e=50\",\"\\u003e=50\",\"\\u003e=50\",\"\\u003c50\",\"\\u003c50\",\"\\u003c50\",\"\\u003c50\",\"\\u003e=50\",\"\\u003e=50\",\"\\u003e=50\",\"\\u003e=50\",\"\\u003e=50\",\"\\u003e=50\",\"\\u003c50\",\"\\u003c50\",\"\\u003e=50\",\"\\u003c50\",\"\\u003e=50\",\"\\u003e=50\",\"\\u003e=50\",\"\\u003c50\",\"\\u003c50\",\"\\u003c50\",\"\\u003c50\",\"\\u003c50\",\"\\u003e=50\",\"\\u003c50\",\"\\u003c50\",\"\\u003c50\",\"\\u003e=50\",\"\\u003c50\",\"\\u003c50\",\"\\u003c50\",\"\\u003e=50\",\"\\u003c50\",\"\\u003e=50\",\"\\u003c50\",\"\\u003c50\",\"\\u003e=50\",\"\\u003e=50\",\"\\u003e=50\",\"\\u003c50\",\"\\u003e=50\",\"\\u003e=50\",\"\\u003e=50\",\"\\u003c50\",\"\\u003e=50\",\"\\u003c50\",\"\\u003e=50\",\"\\u003c50\",\"\\u003e=50\",\"\\u003c50\",\"\\u003c50\",\"\\u003c50\",\"\\u003e=50\",\"\\u003c50\",\"\\u003e=50\",\"\\u003c50\",\"\\u003c50\",\"\\u003e=50\",\"\\u003c50\",\"\\u003c50\",\"\\u003c50\",\"\\u003e=50\",\"\\u003e=50\",\"\\u003e=50\",\"\\u003e=50\",\"\\u003e=50\",\"\\u003c50\",\"\\u003c50\",\"\\u003c50\",\"\\u003c50\",\"\\u003c50\",\"\\u003e=50\",\"\\u003e=50\",\"\\u003c50\",\"\\u003c50\",\"\\u003c50\",\"\\u003c50\",\"\\u003c50\",\"\\u003e=50\",\"\\u003c50\",\"\\u003c50\",\"\\u003e=50\",\"\\u003e=50\",\"\\u003e=50\",\"\\u003c50\",\"\\u003c50\",\"\\u003e=50\",\"\\u003c50\",\"\\u003c50\",\"\\u003c50\",\"\\u003e=50\",\"\\u003e=50\",\"\\u003e=50\",\"\\u003c50\",\"\\u003e=50\",\"\\u003e=50\",\"\\u003c50\",\"\\u003e=50\",\"\\u003e=50\",\"\\u003e=50\",\"\\u003c50\",\"\\u003c50\",\"\\u003e=50\",\"\\u003c50\",\"\\u003c50\",\"\\u003e=50\",\"\\u003e=50\",\"\\u003e=50\",\"\\u003e=50\",\"\\u003c50\",\"\\u003e=50\",\"\\u003e=50\",\"\\u003c50\",\"\\u003c50\",\"\\u003c50\",\"\\u003c50\",\"\\u003c50\",\"\\u003c50\",\"\\u003c50\",\"\\u003c50\",\"\\u003e=50\",\"\\u003c50\",\"\\u003c50\",\"\\u003e=50\",\"\\u003e=50\",\"\\u003e=50\",\"\\u003c50\",\"\\u003c50\",\"\\u003e=50\",\"\\u003c50\",\"\\u003e=50\",\"\\u003e=50\",\"\\u003e=50\",\"\\u003e=50\",\"\\u003e=50\",\"\\u003c50\",\"\\u003e=50\",\"\\u003e=50\",\"\\u003e=50\",\"\\u003e=50\",\"\\u003c50\",\"\\u003c50\",\"\\u003e=50\",\"\\u003e=50\",\"\\u003c50\",\"\\u003c50\",\"\\u003e=50\",\"\\u003e=50\",\"\\u003c50\",\"\\u003e=50\",\"\\u003c50\",\"\\u003c50\",\"\\u003e=50\",\"\\u003c50\",\"\\u003c50\",\"\\u003c50\",\"\\u003c50\",\"\\u003c50\",\"\\u003c50\",\"\\u003c50\",\"\\u003c50\",\"\\u003e=50\",\"\\u003e=50\",\"\\u003c50\",\"\\u003e=50\",\"\\u003e=50\",\"\\u003e=50\",\"\\u003c50\",\"\\u003e=50\",\"\\u003e=50\",\"\\u003c50\",\"\\u003e=50\",\"\\u003e=50\",\"\\u003e=50\",\"\\u003c50\",\"\\u003e=50\",\"\\u003e=50\",\"\\u003e=50\",\"\\u003c50\",\"\\u003e=50\",\"\\u003c50\",\"\\u003e=50\",\"\\u003e=50\",\"\\u003e=50\",\"\\u003e=50\",\"\\u003e=50\",\"\\u003c50\",\"\\u003e=50\",\"\\u003e=50\",\"\\u003e=50\",\"\\u003e=50\",\"\\u003c50\",\"\\u003c50\",\"\\u003c50\",\"\\u003c50\",\"\\u003e=50\",\"\\u003e=50\",\"\\u003c50\",\"\\u003c50\",\"\\u003c50\",\"\\u003c50\",\"\\u003e=50\",\"\\u003c50\",\"\\u003e=50\",\"\\u003c50\",\"\\u003e=50\",\"\\u003c50\",\"\\u003e=50\",\"\\u003e=50\",\"\\u003e=50\",\"\\u003e=50\",\"\\u003e=50\",\"\\u003c50\",\"\\u003e=50\",\"\\u003c50\",\"\\u003c50\",\"\\u003c50\",\"\\u003c50\",\"\\u003c50\",\"\\u003c50\",\"\\u003c50\",\"\\u003c50\",\"\\u003e=50\",\"\\u003e=50\",\"\\u003c50\",\"\\u003e=50\",\"\\u003e=50\",\"\\u003e=50\",\"\\u003e=50\",\"\\u003c50\",\"\\u003c50\",\"\\u003c50\",\"\\u003c50\",\"\\u003c50\",\"\\u003e=50\",\"\\u003e=50\",\"\\u003e=50\",\"\\u003c50\",\"\\u003c50\",\"\\u003c50\",\"\\u003e=50\",\"\\u003c50\",\"\\u003c50\",\"\\u003c50\",\"\\u003e=50\",\"\\u003c50\",\"\\u003e=50\",\"\\u003c50\",\"\\u003e=50\",\"\\u003c50\",\"\\u003c50\",\"\\u003c50\",\"\\u003e=50\",\"\\u003e=50\",\"\\u003c50\",\"\\u003e=50\",\"\\u003c50\",\"\\u003e=50\",\"\\u003c50\",\"\\u003e=50\",\"\\u003c50\",\"\\u003e=50\",\"\\u003e=50\",\"\\u003c50\",\"\\u003c50\",\"\\u003c50\",\"\\u003c50\",\"\\u003e=50\",\"\\u003c50\",\"\\u003c50\",\"\\u003e=50\",\"\\u003c50\",\"\\u003c50\",\"\\u003c50\",\"\\u003e=50\",\"\\u003c50\",\"\\u003c50\",\"\\u003c50\",\"\\u003c50\",\"\\u003c50\",\"\\u003c50\",\"\\u003e=50\",\"\\u003e=50\",\"\\u003e=50\",\"\\u003c50\",\"\\u003e=50\",\"\\u003e=50\",\"\\u003c50\",\"\\u003e=50\",\"\\u003e=50\",\"\\u003e=50\",\"\\u003c50\",\"\\u003e=50\",\"\\u003e=50\",\"\\u003c50\",\"\\u003c50\",\"\\u003e=50\",\"\\u003c50\",\"\\u003e=50\",\"\\u003e=50\",\"\\u003c50\",\"\\u003e=50\",\"\\u003c50\",\"\\u003e=50\",\"\\u003c50\",\"\\u003c50\",\"\\u003c50\",\"\\u003e=50\",\"\\u003e=50\",\"\\u003c50\",\"\\u003e=50\",\"\\u003c50\",\"\\u003e=50\",\"\\u003c50\",\"\\u003e=50\",\"\\u003c50\",\"\\u003c50\",\"\\u003e=50\",\"\\u003c50\",\"\\u003c50\",\"\\u003c50\",\"\\u003c50\",\"\\u003e=50\",\"\\u003e=50\",\"\\u003c50\",\"\\u003c50\",\"\\u003e=50\",\"\\u003c50\",\"\\u003e=50\",\"\\u003e=50\",\"\\u003c50\",\"\\u003e=50\",\"\\u003e=50\",\"\\u003e=50\",\"\\u003e=50\",\"\\u003e=50\",\"\\u003c50\",\"\\u003c50\",\"\\u003e=50\",\"\\u003c50\",\"\\u003c50\",\"\\u003e=50\",\"\\u003e=50\",\"\\u003e=50\",\"\\u003c50\",\"\\u003c50\",\"\\u003e=50\",\"\\u003e=50\",\"\\u003e=50\",\"\\u003e=50\",\"\\u003e=50\",\"\\u003e=50\",\"\\u003c50\",\"\\u003c50\",\"\\u003c50\",\"\\u003c50\",\"\\u003e=50\",\"\\u003c50\",\"\\u003e=50\",\"\\u003e=50\",\"\\u003c50\",\"\\u003e=50\",\"\\u003c50\",\"\\u003e=50\",\"\\u003e=50\",\"\\u003c50\",\"\\u003e=50\",\"\\u003c50\",\"\\u003e=50\",\"\\u003c50\",\"\\u003e=50\",\"\\u003e=50\",\"\\u003e=50\",\"\\u003e=50\",\"\\u003e=50\",\"\\u003c50\",\"\\u003e=50\",\"\\u003e=50\",\"\\u003c50\",\"\\u003c50\",\"\\u003c50\",\"\\u003c50\",\"\\u003c50\",\"\\u003e=50\",\"\\u003c50\",\"\\u003e=50\",\"\\u003e=50\",\"\\u003e=50\",\"\\u003c50\",\"\\u003e=50\",\"\\u003e=50\",\"\\u003e=50\",\"\\u003e=50\",\"\\u003c50\",\"\\u003e=50\",\"\\u003e=50\",\"\\u003c50\",\"\\u003c50\",\"\\u003c50\",\"\\u003c50\",\"\\u003c50\",\"\\u003e=50\",\"\\u003c50\",\"\\u003c50\",\"\\u003e=50\",\"\\u003c50\",\"\\u003c50\",\"\\u003e=50\",\"\\u003e=50\",\"\\u003e=50\",\"\\u003e=50\",\"\\u003e=50\",\"\\u003c50\",\"\\u003e=50\",\"\\u003c50\",\"\\u003c50\",\"\\u003c50\",\"\\u003c50\",\"\\u003c50\",\"\\u003e=50\",\"\\u003e=50\",\"\\u003c50\",\"\\u003c50\",\"\\u003c50\",\"\\u003e=50\",\"\\u003c50\",\"\\u003e=50\",\"\\u003e=50\",\"\\u003c50\",\"\\u003c50\",\"\\u003c50\",\"\\u003e=50\",\"\\u003c50\",\"\\u003c50\",\"\\u003e=50\",\"\\u003e=50\",\"\\u003e=50\",\"\\u003e=50\",\"\\u003e=50\",\"\\u003c50\",\"\\u003e=50\",\"\\u003e=50\",\"\\u003e=50\"]},{\"label\":\"CancerHistory\",\"values\":[1,0,0,0,0,0,0,1,1,0,0,0,1,1,0,0,0,0,0,0,0,0,1,0,0,0,0,0,0,0,0,0,0,0,0,0,0,0,0,1,0,0,0,0,0,0,0,1,0,0,1,0,0,0,0,0,0,0,0,0,0,0,1,0,0,0,0,0,0,1,1,1,1,0,0,1,0,1,0,0,0,1,0,0,0,0,0,0,0,0,0,0,0,0,1,0,0,0,0,0,0,0,0,0,0,0,0,0,1,0,0,0,1,0,0,0,1,0,1,0,0,0,0,1,0,0,0,0,0,0,0,0,0,0,0,0,0,0,0,0,1,0,1,0,1,0,0,0,0,1,0,0,1,0,0,0,1,0,0,0,0,0,1,1,0,0,0,0,0,1,0,0,0,0,0,0,1,1,0,1,0,0,0,0,1,0,0,0,0,0,0,0,0,0,0,0,0,1,0,0,0,0,0,0,0,0,0,0,0,0,0,0,0,0,0,0,0,0,0,0,0,0,0,0,0,0,0,0,0,0,0,0,0,1,0,0,0,0,0,0,0,0,0,0,0,0,1,1,1,0,1,0,0,0,0,0,0,0,0,0,0,0,0,0,0,0,0,0,0,0,0,0,0,1,0,0,0,1,0,0,0,0,0,0,0,0,0,0,0,1,0,0,0,0,0,0,0,1,0,1,0,1,0,0,1,0,0,0,0,0,1,0,0,0,0,0,0,0,0,0,0,0,0,0,0,1,0,0,0,0,1,0,0,0,0,0,0,1,1,0,0,0,1,1,0,0,0,0,0,0,0,0,0,0,0,0,0,0,0,0,0,0,0,0,0,0,0,0,0,0,0,0,1,0,0,0,1,0,0,0,0,0,0,0,0,0,0,0,0,0,0,0,0,0,0,0,0,0,1,0,0,0,0,0,0,0,1,0,0,1,0,0,0,0,0,0,0,1,1,1,0,0,0,0,1,0,1,0,1,1,0,0,0,0,0,0,1,0,0,0,0,0,0,0,0,0,0,0,0,0,1,0,0,0,0,1,0,0,0,0,0,0,0,0,0,0,0,0,0,0,0,0,0,0,1,0,0,0,1,0,1,1,0,1,0,0,0,0,0,0,0,0,0,0,0,0,0,0,0,0,0,1,0,1,0,0,0,0,0,0,0,0,0,0,0,0,0,0,0,1,0,0,0,0,0,0,0,0,0,0,0,0,0,0,0,0,1,0,0,0,0,0,0,0,0,0,0,0,0,0,0,0,0,0,0,0,0,0,0,0,0,0,0,0,1,0,1,1,0,1,0,0,0,0,0,0,0,0,0,1,0,0,0,0,0,0,0,0,1,0,0,0,0,0,0,0,0,0,0,0,0,0,0,0,0,0,0,0,1,0,0,0,0,0,0,0,0,0,0,0,0,0,0,0,0,0,0,0,1,0,0,0,0,0,0,0,0,0,0,0,0,0,1,0,0,0,0,0,0,0,0,0,0,0,0,0,0,0,0,0,0,0,0,1,0,0,0,0,0,0,0,0,0,0,0,0,0,1,0,0,0,0,0,0,0,0,0,0,0,0,0,0,0,0,1,0,0,0,0,0,0,1,0,0,0,0,0,0,0,1,0,0,1,0,1,1,1,0,0,0,1,0,0,0,0,0,0,0,0,1,0,0,0,0,0,1,0,0,0,0,0,0,0,0,0,0,0,0,1,0,0,1,0,0,0,0,0,0,0,0,1,0,0,0,0,0,1,0,0,0,0,0,0,0,0,0,0,0,0,0,0,0,0,1,0,1,0,0,1,0,0,0,1,1,0,0,0,0,0,0,0,0,0,1,0,0,1,0,0,0,0,0,0,0,1,0,0,0,0,0,1,0,0,0,0,0,0,0,0,0,0,0,0,0,0,1,0,0,1,0,0,0,0,0,0,0,0,0,0,0,0,0,0,0,0,0,1,0,0,0,0,0,0,1,0,0,0,1,0,0,0,0,0,1,0,0,0,0,0,1,0,1,0,0,0,0,0,0,0,0,1,0,1,0,0,0,0,0,0,0,0,0,0,0,0,0,0,0,0,0,0,0,0,0,0,0,0,0,0,0,0,0,0,1,1,0,0,0,0,0,1,0,0,0,0,1,1,0,0,0,0,0,0,0,0,0,0,1,1,1,0,0,0,0,0,0,0,1,0,0,0,0,1,0,1,0,0,0,0,0,0,0,0,0,1,0,0,0,1,1,0,0,0,1,1,1,0,0,1,0,0,0,1,0,0,0,0,0,0,0,0,1,0,0,1,0,0,0,0,0,0,0,0,0,0,0,0,0,0,0,0,1,1,0,0,0,1,0,0,0,0,1,0,0,0,0,0,0,0,0,0,0,0,0,0,0,0,0,0,0,0,0,1,0,1,0,0,0,0,0,0,0,0,0,0,0,0,0,0,0,0,0,0,0,1,0,0,0,0,0,0,0,1,0,0,0,0,0,0,0,0,0,0,0,1,0,0,0,0,0,1,0,1,0,0,0,0,0,0,0,1,0,0,0,0,0,1,0,0,0,0,0,0,0,0,0,0,0,0,0,0,0,0,0,0,0,0,0,0,1,0,0,0,0,0,1,0,1,0,0,0,0,0,0,0,0,0,0,0,0,0,0,1,0,0,0,1,0,0,0,0,0,0,0,1,0,0,0,0,0,0,0,0,0,1,0,0,0,0,0,0,0,0,0,0,0,0,1,0,0,1,0,0,0,0,0,1,0,0,0,1,0,0,0,0,1,0,0,0,0,0,0,0,0,1,0,1,0,0,0,0,0,0,0,1,0,0,0,0,0,0,0,0,0,0,0,0,1,1,0,0,0,1,0,0,1,0,0,1,0,1,0,1,0,1,0,0,0,0,0,0,0,0,0,1,0,0,0,0,0,0,1,0,0,0,0,0,0,0,0,0,1,0,0,0,0,1,0,0,1,0,0,0,0,0,0,0,0,0,0,0,0,1,1,1,1,0,0,0,0,0,0,0,1,0,0,1,0,0,0,0,0,0,0,0,1,1,0,0,1,1,1,1,0,0,0,0,0,0,0,0,0,0,0,0,0,1,0,0,0,0,0,0,0,0,0,1,0,0,0,0,0,0,0,0,0,0,0,0,0,0,0,0,0,0,0,1,0,0,0,0,0,0,0,1,1,0,0,0,0,0,1,0,1,0,1,0,0,0,0,0,0,0,0,1,1,0,0,0,0,0,0,0,1,0,0,0,0,0,0,0,0,0,0,0,0,0,0,0,1,0,0,0,0,0,0,0,0,0,0,0,0,0,0,0,0,0,0,0,0,0,0,0,0,0,0,0,0,0,0,0,0,0,0,1,0,0,0,0,0,1,0,0,0,1,0,0,0,0,0,0,0,0,0,0,0,1,0,1,1]},{\"label\":\"GeneticRisk\",\"values\":[1,1,2,0,0,1,0,0,1,1,2,2,1,0,1,0,0,1,0,0,0,1,0,1,0,1,1,0,0,0,2,1,2,0,1,1,1,2,0,0,1,1,0,0,0,0,0,1,1,0,0,0,0,1,2,0,1,1,1,0,2,0,0,0,0,0,0,0,1,1,0,1,1,1,0,1,2,1,0,0,1,0,0,0,1,1,0,2,0,1,1,1,2,0,1,0,1,1,1,0,1,0,0,1,0,1,0,0,1,0,0,1,0,1,0,1,1,1,0,1,1,1,0,1,1,0,0,1,0,2,1,1,0,0,2,0,1,0,0,0,0,2,0,0,0,0,0,1,0,0,0,2,0,0,1,0,0,0,1,0,1,1,0,0,0,1,0,0,0,2,0,2,0,0,0,0,0,0,2,1,1,0,0,0,1,2,0,0,0,0,0,1,1,0,0,2,0,0,0,0,0,1,0,0,1,0,1,1,0,1,0,2,0,2,1,0,0,2,1,0,1,0,0,0,0,1,0,1,0,0,0,0,0,0,0,0,0,0,1,2,0,0,0,2,0,0,0,0,0,1,0,1,0,0,2,0,1,0,0,2,0,1,0,1,0,0,1,2,2,1,1,0,0,0,0,0,0,0,1,0,0,0,1,1,1,0,0,0,0,0,0,0,2,2,0,0,0,0,2,0,1,0,2,0,1,0,1,0,0,2,2,1,1,1,0,0,0,1,0,0,0,1,0,0,0,0,0,1,1,1,0,1,0,0,1,0,0,1,0,1,0,1,0,0,1,0,0,0,0,0,0,2,0,0,0,0,2,0,2,0,1,0,1,0,0,0,0,2,0,0,1,0,2,1,0,1,0,0,0,0,1,2,0,0,2,0,0,0,2,0,1,1,0,0,1,0,1,2,1,1,1,1,0,0,0,1,0,1,0,1,0,1,0,0,0,1,0,0,2,1,2,0,0,1,0,1,0,0,0,0,0,0,2,0,1,1,0,0,1,1,1,1,2,0,0,1,0,1,0,0,1,0,0,0,1,0,1,0,1,1,0,0,0,1,0,1,0,0,0,0,0,1,1,0,2,1,2,0,0,0,1,0,0,0,0,1,0,0,1,2,1,2,1,0,0,1,1,1,0,0,0,0,0,1,0,0,0,1,0,0,0,0,2,2,0,0,1,0,0,0,2,0,0,1,0,0,2,0,1,0,0,0,0,0,1,0,0,0,1,0,0,0,0,0,1,0,0,0,1,0,0,0,0,0,0,0,0,0,0,0,1,2,2,1,1,1,0,1,0,0,1,0,0,2,0,0,2,1,0,0,0,1,0,0,0,0,2,0,1,0,1,2,0,0,0,1,0,1,1,1,1,0,0,0,2,1,1,0,0,1,0,0,1,0,0,0,0,2,0,0,0,1,0,0,0,0,0,1,1,0,0,2,0,1,0,2,1,2,1,0,2,0,0,1,1,2,0,1,1,0,0,0,0,2,1,1,2,0,1,0,1,0,2,0,0,1,0,1,0,1,0,0,0,0,0,0,0,0,0,1,0,0,1,0,1,0,0,0,1,1,0,0,2,0,0,2,1,0,1,1,0,0,0,2,1,0,1,0,0,0,0,1,0,1,0,0,2,0,0,0,1,0,0,0,0,1,0,0,0,0,2,0,2,0,0,1,0,1,2,0,0,1,0,0,0,0,1,0,0,1,0,0,1,0,1,1,0,0,0,0,1,1,0,1,2,2,0,0,0,2,0,0,0,0,0,2,0,0,0,0,0,0,0,0,0,0,2,2,0,0,2,0,1,2,0,0,2,0,0,0,0,1,1,2,0,0,0,0,0,2,1,0,1,0,0,1,0,2,1,0,1,0,0,0,0,1,0,1,0,0,1,0,0,0,0,0,1,0,0,2,0,1,0,0,1,0,1,0,0,0,0,1,0,2,2,0,0,1,2,0,0,0,1,0,1,0,0,0,0,0,0,0,0,0,2,0,0,0,2,0,1,1,1,0,1,0,0,1,0,1,0,1,0,0,0,2,0,0,0,1,0,0,0,0,0,0,1,0,0,0,2,2,1,0,0,0,0,0,1,1,1,0,1,0,0,1,0,0,0,1,1,0,1,0,0,1,1,2,0,1,1,2,0,1,0,0,0,0,0,1,0,1,0,0,0,0,0,0,0,0,0,0,0,2,1,1,0,1,1,1,0,1,1,0,1,0,0,0,1,0,0,0,0,0,1,1,0,0,0,1,0,0,0,1,1,1,1,0,0,0,0,0,0,0,2,1,1,1,0,1,0,1,0,2,0,0,2,0,1,1,1,2,2,0,1,1,1,0,1,2,2,0,0,0,1,1,0,0,0,0,2,1,0,0,0,2,0,0,0,1,1,1,0,0,0,1,0,0,1,1,0,0,0,1,1,0,0,1,1,0,0,0,0,2,1,1,0,1,0,0,0,0,1,0,0,0,0,0,0,1,0,0,0,1,0,0,0,0,0,1,1,0,1,1,0,0,0,0,1,1,2,1,0,0,1,0,1,1,1,1,0,1,1,0,1,0,2,0,0,0,1,0,0,0,2,0,0,1,0,2,0,1,0,0,1,0,1,0,0,0,2,0,0,0,0,0,2,0,1,0,1,2,0,2,0,2,1,0,0,0,0,0,0,0,1,0,0,1,0,0,0,2,1,0,1,0,1,1,1,0,0,0,1,0,1,2,0,1,1,2,2,1,0,1,0,1,2,0,1,0,0,0,1,2,2,0,1,1,0,0,0,2,1,1,0,1,0,0,1,0,1,0,1,0,0,0,0,2,0,1,2,0,0,1,2,2,0,1,0,2,2,0,0,0,0,1,0,0,0,2,1,0,0,2,1,0,0,0,0,0,2,0,1,0,1,1,0,0,1,0,0,0,2,0,1,0,1,0,1,0,1,1,0,0,0,0,1,0,0,1,0,0,0,2,1,1,0,1,0,0,0,0,0,0,0,0,1,0,1,0,1,0,0,0,1,1,0,0,1,1,0,0,0,1,0,2,0,0,0,2,1,0,1,0,0,0,0,0,2,0,2,0,1,0,0,0,0,1,0,1,0,0,0,2,1,0,0,0,2,1,0,0,0,2,0,1,0,1,1,1,1,1,0,0,0,2,0,1,1,0,0,0,0,0,0,1,2,0,0,0,1,1,0,0,1,1,0,1,0,0,1,1,0,2,0,1,0,1,2,0,2,1,1,0,1,1,0,2,0,0,0,0,1,0,2,0,0,0,0,2,1,1,0,0,0,0,0,1,0,1,0,0,1,0,1,1,0,2,0,0,1,0,1,1,2,0,0,1,0,0,0,0,0,1,1,0,0,0,1,0,1,0,1,0,1,0,1,0,1,1,0,1,0,0,0,0,1,1,0,0]}],\"domain\":{\"x\":[0.0,1.0],\"y\":[0.0,1.0]},\"line\":{\"color\":[1,0,1,0,1,0,0,0,1,0,1,1,1,0,0,0,1,0,0,0,0,0,1,0,0,0,0,0,1,0,1,0,1,0,0,0,1,1,0,1,0,0,0,1,0,0,0,1,0,0,1,0,0,0,1,0,0,1,0,0,1,0,0,0,1,0,0,0,0,1,1,1,1,0,1,1,1,1,0,0,0,1,1,1,0,1,0,1,0,0,0,0,0,0,1,0,0,1,0,0,0,0,0,0,0,1,0,1,1,0,0,0,1,1,0,0,0,0,1,1,1,0,0,1,1,0,0,0,0,1,0,0,0,0,1,0,0,0,0,0,1,1,0,1,1,0,0,0,0,1,0,1,1,0,0,1,1,0,1,1,0,1,0,0,0,0,0,0,0,1,0,1,0,0,0,0,1,1,1,1,0,0,0,0,1,1,0,1,0,0,0,0,0,0,0,0,0,1,0,0,0,1,0,0,0,0,0,0,0,0,0,1,1,1,0,0,0,1,0,0,0,0,1,0,0,0,1,0,0,0,0,1,0,0,1,0,1,0,0,1,0,1,1,1,0,1,1,0,1,0,1,0,0,1,1,0,0,0,1,1,0,0,0,0,0,0,0,1,1,1,1,0,0,1,0,0,1,1,0,0,0,0,1,0,0,0,0,0,0,1,0,0,1,0,0,0,0,1,1,0,0,0,1,0,1,0,0,0,0,1,1,0,1,0,0,1,0,0,0,0,0,0,0,0,0,1,1,1,1,0,0,0,0,0,1,1,0,1,0,0,0,0,1,1,0,0,1,1,1,0,0,1,1,0,0,0,1,1,1,0,0,0,0,0,0,0,1,1,0,0,0,0,1,0,1,0,1,0,1,0,1,0,0,1,1,0,0,0,1,1,1,0,0,0,1,1,0,0,1,0,0,0,0,0,0,0,1,1,1,1,0,0,0,0,0,0,1,1,1,1,1,0,0,1,0,0,1,0,1,1,0,1,1,0,0,1,1,0,0,0,1,0,1,0,0,0,0,0,0,1,1,0,0,0,0,1,1,0,0,0,1,0,1,0,0,0,0,1,0,0,0,1,0,0,1,0,1,0,1,0,1,1,0,1,0,0,1,0,0,0,0,1,1,0,0,0,1,0,0,0,1,1,1,0,0,0,0,0,0,1,0,0,0,1,1,0,0,0,0,1,0,0,0,1,1,1,1,0,0,0,0,0,0,0,0,0,1,0,0,1,0,0,1,0,0,1,0,0,0,0,0,0,1,0,0,0,0,0,1,0,1,1,1,0,0,1,1,1,1,1,0,0,1,1,0,1,1,0,0,1,1,0,0,0,1,0,1,0,0,0,0,1,0,1,0,0,1,0,0,0,0,1,1,0,1,1,0,0,0,0,0,1,0,0,0,0,0,0,1,0,0,0,1,0,0,0,0,0,1,0,0,1,0,0,0,0,0,1,0,0,1,0,1,0,0,1,0,0,1,0,1,0,0,0,0,0,1,1,0,0,0,1,1,1,0,0,1,0,1,0,0,0,0,1,0,0,0,1,0,0,0,0,0,0,0,0,0,1,0,1,0,0,1,0,1,1,0,0,0,1,0,1,0,1,0,0,0,0,0,1,0,1,1,1,1,1,1,0,0,0,1,0,0,0,0,1,1,1,0,1,1,0,0,0,1,1,0,0,1,0,0,0,1,0,0,0,0,0,1,0,0,1,1,1,1,0,0,0,0,0,0,0,0,0,1,1,1,0,0,1,1,0,0,1,0,0,0,1,0,0,1,0,0,1,1,1,1,1,1,0,1,0,1,1,0,0,1,1,0,0,1,0,0,1,0,1,1,0,0,0,0,0,1,0,0,0,0,1,0,1,1,0,0,0,0,1,0,0,0,1,0,0,0,0,1,1,0,0,1,1,1,0,0,0,0,0,1,0,0,0,0,0,0,1,1,0,1,0,0,0,0,0,0,1,0,0,0,1,0,0,0,0,0,1,1,0,0,1,1,1,0,1,0,1,0,0,0,0,0,0,1,0,1,0,0,1,0,0,0,0,0,1,0,1,1,0,0,0,1,0,1,1,0,0,0,0,0,0,0,0,0,0,1,0,1,1,1,1,0,0,1,1,1,0,1,1,1,1,0,0,0,1,0,0,0,0,0,1,1,1,0,0,1,0,0,0,0,1,0,1,1,0,1,1,1,1,0,0,1,1,0,0,0,0,0,0,0,0,1,1,0,1,1,1,1,1,1,1,1,0,0,0,1,0,1,1,0,0,0,1,0,0,0,0,1,0,0,0,0,0,1,1,0,1,0,0,1,0,1,0,0,1,1,0,0,0,1,1,0,1,1,1,0,0,0,0,0,0,0,1,1,1,1,0,0,1,0,0,0,0,0,0,1,0,1,0,0,0,0,0,0,0,0,0,0,1,0,0,0,0,0,0,0,1,1,1,0,0,0,0,0,0,1,0,0,0,0,0,1,0,0,1,0,0,1,0,0,0,0,0,1,1,0,0,0,0,0,0,0,1,1,1,0,0,0,0,1,0,0,0,0,0,0,0,0,0,1,0,0,1,0,0,0,0,0,0,0,0,0,1,0,0,0,1,0,1,0,1,1,0,0,0,1,1,0,0,1,1,0,0,0,1,1,1,0,0,1,0,0,0,0,0,0,0,1,0,0,1,0,0,0,1,1,0,0,1,0,1,0,1,1,0,0,0,1,0,0,1,0,1,1,0,0,0,0,0,1,0,0,0,0,0,0,1,1,1,0,1,1,0,0,1,0,0,1,0,1,0,0,0,1,0,0,1,1,0,0,0,0,0,1,1,0,0,1,1,0,1,1,1,1,0,1,1,0,1,1,0,1,0,1,0,0,1,1,0,1,0,1,0,1,0,0,0,1,0,0,1,0,0,1,1,1,0,0,0,0,0,1,0,0,1,0,0,0,0,1,0,0,0,0,0,1,1,0,1,0,0,0,0,1,0,1,0,1,1,0,0,0,0,0,0,0,1,1,0,1,0,0,0,0,0,0,0,0,1,1,0,1,1,1,0,0,1,0,0,0,1,1,0,1,0,0,1,0,0,1,0,1,0,0,0,0,0,0,0,0,0,1,1,0,0,0,1,1,0,0,0,0,0,0,0,0,0,0,1,1,0,0,1,1,0,0,1,1,1,0,0,0,0,1,1,0,1,0,0,0,0,1,1,0,0,1,1,0,1,0,1,1,1,1,0,0,1,0,1,1,0,0,0,1,0,0,0,0,1,1,1,1,1,1,1,0,1,1,1,1,0,1,1,0,1,1,1,1,1,1,1,0,0,1,0,1,0,1,0,1,0,0,1,1,0,0,1,0,1,0,0,1,1,1,0,0,0,1,0,0,1,0,0,1,1,1,1,1,1,1,1,1,0],\"coloraxis\":\"coloraxis\"},\"name\":\"\",\"type\":\"parcats\"}],                        {\"template\":{\"data\":{\"histogram2dcontour\":[{\"type\":\"histogram2dcontour\",\"colorbar\":{\"outlinewidth\":0,\"ticks\":\"\"},\"colorscale\":[[0.0,\"#0d0887\"],[0.1111111111111111,\"#46039f\"],[0.2222222222222222,\"#7201a8\"],[0.3333333333333333,\"#9c179e\"],[0.4444444444444444,\"#bd3786\"],[0.5555555555555556,\"#d8576b\"],[0.6666666666666666,\"#ed7953\"],[0.7777777777777778,\"#fb9f3a\"],[0.8888888888888888,\"#fdca26\"],[1.0,\"#f0f921\"]]}],\"choropleth\":[{\"type\":\"choropleth\",\"colorbar\":{\"outlinewidth\":0,\"ticks\":\"\"}}],\"histogram2d\":[{\"type\":\"histogram2d\",\"colorbar\":{\"outlinewidth\":0,\"ticks\":\"\"},\"colorscale\":[[0.0,\"#0d0887\"],[0.1111111111111111,\"#46039f\"],[0.2222222222222222,\"#7201a8\"],[0.3333333333333333,\"#9c179e\"],[0.4444444444444444,\"#bd3786\"],[0.5555555555555556,\"#d8576b\"],[0.6666666666666666,\"#ed7953\"],[0.7777777777777778,\"#fb9f3a\"],[0.8888888888888888,\"#fdca26\"],[1.0,\"#f0f921\"]]}],\"heatmap\":[{\"type\":\"heatmap\",\"colorbar\":{\"outlinewidth\":0,\"ticks\":\"\"},\"colorscale\":[[0.0,\"#0d0887\"],[0.1111111111111111,\"#46039f\"],[0.2222222222222222,\"#7201a8\"],[0.3333333333333333,\"#9c179e\"],[0.4444444444444444,\"#bd3786\"],[0.5555555555555556,\"#d8576b\"],[0.6666666666666666,\"#ed7953\"],[0.7777777777777778,\"#fb9f3a\"],[0.8888888888888888,\"#fdca26\"],[1.0,\"#f0f921\"]]}],\"heatmapgl\":[{\"type\":\"heatmapgl\",\"colorbar\":{\"outlinewidth\":0,\"ticks\":\"\"},\"colorscale\":[[0.0,\"#0d0887\"],[0.1111111111111111,\"#46039f\"],[0.2222222222222222,\"#7201a8\"],[0.3333333333333333,\"#9c179e\"],[0.4444444444444444,\"#bd3786\"],[0.5555555555555556,\"#d8576b\"],[0.6666666666666666,\"#ed7953\"],[0.7777777777777778,\"#fb9f3a\"],[0.8888888888888888,\"#fdca26\"],[1.0,\"#f0f921\"]]}],\"contourcarpet\":[{\"type\":\"contourcarpet\",\"colorbar\":{\"outlinewidth\":0,\"ticks\":\"\"}}],\"contour\":[{\"type\":\"contour\",\"colorbar\":{\"outlinewidth\":0,\"ticks\":\"\"},\"colorscale\":[[0.0,\"#0d0887\"],[0.1111111111111111,\"#46039f\"],[0.2222222222222222,\"#7201a8\"],[0.3333333333333333,\"#9c179e\"],[0.4444444444444444,\"#bd3786\"],[0.5555555555555556,\"#d8576b\"],[0.6666666666666666,\"#ed7953\"],[0.7777777777777778,\"#fb9f3a\"],[0.8888888888888888,\"#fdca26\"],[1.0,\"#f0f921\"]]}],\"surface\":[{\"type\":\"surface\",\"colorbar\":{\"outlinewidth\":0,\"ticks\":\"\"},\"colorscale\":[[0.0,\"#0d0887\"],[0.1111111111111111,\"#46039f\"],[0.2222222222222222,\"#7201a8\"],[0.3333333333333333,\"#9c179e\"],[0.4444444444444444,\"#bd3786\"],[0.5555555555555556,\"#d8576b\"],[0.6666666666666666,\"#ed7953\"],[0.7777777777777778,\"#fb9f3a\"],[0.8888888888888888,\"#fdca26\"],[1.0,\"#f0f921\"]]}],\"mesh3d\":[{\"type\":\"mesh3d\",\"colorbar\":{\"outlinewidth\":0,\"ticks\":\"\"}}],\"scatter\":[{\"fillpattern\":{\"fillmode\":\"overlay\",\"size\":10,\"solidity\":0.2},\"type\":\"scatter\"}],\"parcoords\":[{\"type\":\"parcoords\",\"line\":{\"colorbar\":{\"outlinewidth\":0,\"ticks\":\"\"}}}],\"scatterpolargl\":[{\"type\":\"scatterpolargl\",\"marker\":{\"colorbar\":{\"outlinewidth\":0,\"ticks\":\"\"}}}],\"bar\":[{\"error_x\":{\"color\":\"#2a3f5f\"},\"error_y\":{\"color\":\"#2a3f5f\"},\"marker\":{\"line\":{\"color\":\"#E5ECF6\",\"width\":0.5},\"pattern\":{\"fillmode\":\"overlay\",\"size\":10,\"solidity\":0.2}},\"type\":\"bar\"}],\"scattergeo\":[{\"type\":\"scattergeo\",\"marker\":{\"colorbar\":{\"outlinewidth\":0,\"ticks\":\"\"}}}],\"scatterpolar\":[{\"type\":\"scatterpolar\",\"marker\":{\"colorbar\":{\"outlinewidth\":0,\"ticks\":\"\"}}}],\"histogram\":[{\"marker\":{\"pattern\":{\"fillmode\":\"overlay\",\"size\":10,\"solidity\":0.2}},\"type\":\"histogram\"}],\"scattergl\":[{\"type\":\"scattergl\",\"marker\":{\"colorbar\":{\"outlinewidth\":0,\"ticks\":\"\"}}}],\"scatter3d\":[{\"type\":\"scatter3d\",\"line\":{\"colorbar\":{\"outlinewidth\":0,\"ticks\":\"\"}},\"marker\":{\"colorbar\":{\"outlinewidth\":0,\"ticks\":\"\"}}}],\"scattermapbox\":[{\"type\":\"scattermapbox\",\"marker\":{\"colorbar\":{\"outlinewidth\":0,\"ticks\":\"\"}}}],\"scatterternary\":[{\"type\":\"scatterternary\",\"marker\":{\"colorbar\":{\"outlinewidth\":0,\"ticks\":\"\"}}}],\"scattercarpet\":[{\"type\":\"scattercarpet\",\"marker\":{\"colorbar\":{\"outlinewidth\":0,\"ticks\":\"\"}}}],\"carpet\":[{\"aaxis\":{\"endlinecolor\":\"#2a3f5f\",\"gridcolor\":\"white\",\"linecolor\":\"white\",\"minorgridcolor\":\"white\",\"startlinecolor\":\"#2a3f5f\"},\"baxis\":{\"endlinecolor\":\"#2a3f5f\",\"gridcolor\":\"white\",\"linecolor\":\"white\",\"minorgridcolor\":\"white\",\"startlinecolor\":\"#2a3f5f\"},\"type\":\"carpet\"}],\"table\":[{\"cells\":{\"fill\":{\"color\":\"#EBF0F8\"},\"line\":{\"color\":\"white\"}},\"header\":{\"fill\":{\"color\":\"#C8D4E3\"},\"line\":{\"color\":\"white\"}},\"type\":\"table\"}],\"barpolar\":[{\"marker\":{\"line\":{\"color\":\"#E5ECF6\",\"width\":0.5},\"pattern\":{\"fillmode\":\"overlay\",\"size\":10,\"solidity\":0.2}},\"type\":\"barpolar\"}],\"pie\":[{\"automargin\":true,\"type\":\"pie\"}]},\"layout\":{\"autotypenumbers\":\"strict\",\"colorway\":[\"#636efa\",\"#EF553B\",\"#00cc96\",\"#ab63fa\",\"#FFA15A\",\"#19d3f3\",\"#FF6692\",\"#B6E880\",\"#FF97FF\",\"#FECB52\"],\"font\":{\"color\":\"#2a3f5f\"},\"hovermode\":\"closest\",\"hoverlabel\":{\"align\":\"left\"},\"paper_bgcolor\":\"white\",\"plot_bgcolor\":\"#E5ECF6\",\"polar\":{\"bgcolor\":\"#E5ECF6\",\"angularaxis\":{\"gridcolor\":\"white\",\"linecolor\":\"white\",\"ticks\":\"\"},\"radialaxis\":{\"gridcolor\":\"white\",\"linecolor\":\"white\",\"ticks\":\"\"}},\"ternary\":{\"bgcolor\":\"#E5ECF6\",\"aaxis\":{\"gridcolor\":\"white\",\"linecolor\":\"white\",\"ticks\":\"\"},\"baxis\":{\"gridcolor\":\"white\",\"linecolor\":\"white\",\"ticks\":\"\"},\"caxis\":{\"gridcolor\":\"white\",\"linecolor\":\"white\",\"ticks\":\"\"}},\"coloraxis\":{\"colorbar\":{\"outlinewidth\":0,\"ticks\":\"\"}},\"colorscale\":{\"sequential\":[[0.0,\"#0d0887\"],[0.1111111111111111,\"#46039f\"],[0.2222222222222222,\"#7201a8\"],[0.3333333333333333,\"#9c179e\"],[0.4444444444444444,\"#bd3786\"],[0.5555555555555556,\"#d8576b\"],[0.6666666666666666,\"#ed7953\"],[0.7777777777777778,\"#fb9f3a\"],[0.8888888888888888,\"#fdca26\"],[1.0,\"#f0f921\"]],\"sequentialminus\":[[0.0,\"#0d0887\"],[0.1111111111111111,\"#46039f\"],[0.2222222222222222,\"#7201a8\"],[0.3333333333333333,\"#9c179e\"],[0.4444444444444444,\"#bd3786\"],[0.5555555555555556,\"#d8576b\"],[0.6666666666666666,\"#ed7953\"],[0.7777777777777778,\"#fb9f3a\"],[0.8888888888888888,\"#fdca26\"],[1.0,\"#f0f921\"]],\"diverging\":[[0,\"#8e0152\"],[0.1,\"#c51b7d\"],[0.2,\"#de77ae\"],[0.3,\"#f1b6da\"],[0.4,\"#fde0ef\"],[0.5,\"#f7f7f7\"],[0.6,\"#e6f5d0\"],[0.7,\"#b8e186\"],[0.8,\"#7fbc41\"],[0.9,\"#4d9221\"],[1,\"#276419\"]]},\"xaxis\":{\"gridcolor\":\"white\",\"linecolor\":\"white\",\"ticks\":\"\",\"title\":{\"standoff\":15},\"zerolinecolor\":\"white\",\"automargin\":true,\"zerolinewidth\":2},\"yaxis\":{\"gridcolor\":\"white\",\"linecolor\":\"white\",\"ticks\":\"\",\"title\":{\"standoff\":15},\"zerolinecolor\":\"white\",\"automargin\":true,\"zerolinewidth\":2},\"scene\":{\"xaxis\":{\"backgroundcolor\":\"#E5ECF6\",\"gridcolor\":\"white\",\"linecolor\":\"white\",\"showbackground\":true,\"ticks\":\"\",\"zerolinecolor\":\"white\",\"gridwidth\":2},\"yaxis\":{\"backgroundcolor\":\"#E5ECF6\",\"gridcolor\":\"white\",\"linecolor\":\"white\",\"showbackground\":true,\"ticks\":\"\",\"zerolinecolor\":\"white\",\"gridwidth\":2},\"zaxis\":{\"backgroundcolor\":\"#E5ECF6\",\"gridcolor\":\"white\",\"linecolor\":\"white\",\"showbackground\":true,\"ticks\":\"\",\"zerolinecolor\":\"white\",\"gridwidth\":2}},\"shapedefaults\":{\"line\":{\"color\":\"#2a3f5f\"}},\"annotationdefaults\":{\"arrowcolor\":\"#2a3f5f\",\"arrowhead\":0,\"arrowwidth\":1},\"geo\":{\"bgcolor\":\"white\",\"landcolor\":\"#E5ECF6\",\"subunitcolor\":\"white\",\"showland\":true,\"showlakes\":true,\"lakecolor\":\"white\"},\"title\":{\"x\":0.05},\"mapbox\":{\"style\":\"light\"}}},\"coloraxis\":{\"colorbar\":{\"title\":{\"text\":\"Diagnosis\"}},\"colorscale\":[[0.0,\"#0d0887\"],[0.1111111111111111,\"#46039f\"],[0.2222222222222222,\"#7201a8\"],[0.3333333333333333,\"#9c179e\"],[0.4444444444444444,\"#bd3786\"],[0.5555555555555556,\"#d8576b\"],[0.6666666666666666,\"#ed7953\"],[0.7777777777777778,\"#fb9f3a\"],[0.8888888888888888,\"#fdca26\"],[1.0,\"#f0f921\"]]},\"legend\":{\"tracegroupgap\":0},\"margin\":{\"t\":60}},                        {\"responsive\": true}                    ).then(function(){\n",
              "                            \n",
              "var gd = document.getElementById('69327d4a-c34b-43b2-bbae-3d69e126486d');\n",
              "var x = new MutationObserver(function (mutations, observer) {{\n",
              "        var display = window.getComputedStyle(gd).display;\n",
              "        if (!display || display === 'none') {{\n",
              "            console.log([gd, 'removed!']);\n",
              "            Plotly.purge(gd);\n",
              "            observer.disconnect();\n",
              "        }}\n",
              "}});\n",
              "\n",
              "// Listen for the removal of the full notebook cells\n",
              "var notebookContainer = gd.closest('#notebook-container');\n",
              "if (notebookContainer) {{\n",
              "    x.observe(notebookContainer, {childList: true});\n",
              "}}\n",
              "\n",
              "// Listen for the clearing of the current output cell\n",
              "var outputEl = gd.closest('.output');\n",
              "if (outputEl) {{\n",
              "    x.observe(outputEl, {childList: true});\n",
              "}}\n",
              "\n",
              "                        })                };                });            </script>        </div>"
            ]
          },
          "metadata": {},
          "output_type": "display_data"
        }
      ],
      "source": [
        "grafico = px.parallel_categories(\n",
        "    patients_data,\n",
        "    dimensions=[ 'Age main','CancerHistory', 'GeneticRisk' ],\n",
        "    color='Diagnosis'\n",
        ")\n",
        "\n",
        "grafico.show()"
      ]
    },
    {
      "cell_type": "markdown",
      "id": "2d7cc975",
      "metadata": {
        "papermill": {
          "duration": 0.027928,
          "end_time": "2024-06-19T03:44:46.402859",
          "exception": false,
          "start_time": "2024-06-19T03:44:46.374931",
          "status": "completed"
        },
        "tags": [],
        "id": "2d7cc975"
      },
      "source": [
        "### **Predictions and Classes**"
      ]
    },
    {
      "cell_type": "code",
      "execution_count": null,
      "id": "c73c4b35",
      "metadata": {
        "execution": {
          "iopub.execute_input": "2024-06-19T03:44:46.456190Z",
          "iopub.status.busy": "2024-06-19T03:44:46.455789Z",
          "iopub.status.idle": "2024-06-19T03:44:46.462442Z",
          "shell.execute_reply": "2024-06-19T03:44:46.461458Z"
        },
        "papermill": {
          "duration": 0.036413,
          "end_time": "2024-06-19T03:44:46.464715",
          "exception": false,
          "start_time": "2024-06-19T03:44:46.428302",
          "status": "completed"
        },
        "tags": [],
        "id": "c73c4b35",
        "outputId": "14e7d555-301a-481d-b48b-b62e0d5e3864"
      },
      "outputs": [
        {
          "data": {
            "text/plain": [
              "(1500, 13)"
            ]
          },
          "execution_count": 13,
          "metadata": {},
          "output_type": "execute_result"
        }
      ],
      "source": [
        "patients_data.shape"
      ]
    },
    {
      "cell_type": "code",
      "execution_count": null,
      "id": "6bab2a5f",
      "metadata": {
        "execution": {
          "iopub.execute_input": "2024-06-19T03:44:46.518251Z",
          "iopub.status.busy": "2024-06-19T03:44:46.517522Z",
          "iopub.status.idle": "2024-06-19T03:44:46.529307Z",
          "shell.execute_reply": "2024-06-19T03:44:46.528204Z"
        },
        "papermill": {
          "duration": 0.041142,
          "end_time": "2024-06-19T03:44:46.531569",
          "exception": false,
          "start_time": "2024-06-19T03:44:46.490427",
          "status": "completed"
        },
        "tags": [],
        "id": "6bab2a5f",
        "outputId": "2e8d2ade-8921-4973-8e8b-bbbd76841333"
      },
      "outputs": [
        {
          "data": {
            "text/plain": [
              "array([[58, 1, 16.0, ..., '<27', '>=5', '>=2'],\n",
              "       [71, 0, 31.0, ..., '>=27', '>=5', '>=2'],\n",
              "       [48, 1, 39.0, ..., '>=27', '>=5', '>=2'],\n",
              "       ...,\n",
              "       [63, 1, 33.0, ..., '>=27', '<5', '<2'],\n",
              "       [55, 0, 26.0, ..., '<27', '>=5', '>=2'],\n",
              "       [67, 1, 24.0, ..., '<27', '<5', '>=2']], dtype=object)"
            ]
          },
          "execution_count": 14,
          "metadata": {},
          "output_type": "execute_result"
        }
      ],
      "source": [
        "x_diagnostic = patients_data.iloc[ : , 0:12].values\n",
        "y_diagnostic = patients_data.iloc[ : ,12].values\n",
        "x_diagnostic"
      ]
    },
    {
      "cell_type": "code",
      "execution_count": null,
      "id": "c29252df",
      "metadata": {
        "execution": {
          "iopub.execute_input": "2024-06-19T03:44:46.585487Z",
          "iopub.status.busy": "2024-06-19T03:44:46.585025Z",
          "iopub.status.idle": "2024-06-19T03:44:46.592001Z",
          "shell.execute_reply": "2024-06-19T03:44:46.590842Z"
        },
        "papermill": {
          "duration": 0.036677,
          "end_time": "2024-06-19T03:44:46.594328",
          "exception": false,
          "start_time": "2024-06-19T03:44:46.557651",
          "status": "completed"
        },
        "tags": [],
        "id": "c29252df",
        "outputId": "1a775faf-e5fb-4df4-deb7-91cbce6f2393"
      },
      "outputs": [
        {
          "data": {
            "text/plain": [
              "array([1, 0, 1, ..., 1, 1, 0])"
            ]
          },
          "execution_count": 15,
          "metadata": {},
          "output_type": "execute_result"
        }
      ],
      "source": [
        "y_diagnostic"
      ]
    },
    {
      "cell_type": "code",
      "execution_count": null,
      "id": "46f9597d",
      "metadata": {
        "execution": {
          "iopub.execute_input": "2024-06-19T03:44:46.648831Z",
          "iopub.status.busy": "2024-06-19T03:44:46.648429Z",
          "iopub.status.idle": "2024-06-19T03:44:46.655287Z",
          "shell.execute_reply": "2024-06-19T03:44:46.654217Z"
        },
        "papermill": {
          "duration": 0.036621,
          "end_time": "2024-06-19T03:44:46.657672",
          "exception": false,
          "start_time": "2024-06-19T03:44:46.621051",
          "status": "completed"
        },
        "tags": [],
        "id": "46f9597d",
        "outputId": "5be98ff0-4962-4893-901e-5210083bf02d"
      },
      "outputs": [
        {
          "data": {
            "text/plain": [
              "(1500, 12)"
            ]
          },
          "execution_count": 16,
          "metadata": {},
          "output_type": "execute_result"
        }
      ],
      "source": [
        "x_diagnostic.shape"
      ]
    },
    {
      "cell_type": "code",
      "execution_count": null,
      "id": "9acd183f",
      "metadata": {
        "execution": {
          "iopub.execute_input": "2024-06-19T03:44:46.713180Z",
          "iopub.status.busy": "2024-06-19T03:44:46.712216Z",
          "iopub.status.idle": "2024-06-19T03:44:46.724383Z",
          "shell.execute_reply": "2024-06-19T03:44:46.723435Z"
        },
        "papermill": {
          "duration": 0.042267,
          "end_time": "2024-06-19T03:44:46.726749",
          "exception": false,
          "start_time": "2024-06-19T03:44:46.684482",
          "status": "completed"
        },
        "tags": [],
        "id": "9acd183f",
        "outputId": "582a4a42-e2f2-4f7e-9bd1-120954f147a3"
      },
      "outputs": [
        {
          "data": {
            "text/plain": [
              "array([[58, 1, 16.0, ..., 0, 1, 1],\n",
              "       [71, 0, 31.0, ..., 1, 1, 1],\n",
              "       [48, 1, 39.0, ..., 1, 1, 1],\n",
              "       ...,\n",
              "       [63, 1, 33.0, ..., 1, 0, 0],\n",
              "       [55, 0, 26.0, ..., 0, 1, 1],\n",
              "       [67, 1, 24.0, ..., 0, 0, 1]], dtype=object)"
            ]
          },
          "execution_count": 17,
          "metadata": {},
          "output_type": "execute_result"
        }
      ],
      "source": [
        "label_patients = LabelEncoder()\n",
        "x_diagnostic[:,8] = label_patients.fit_transform(x_diagnostic[:,8])\n",
        "x_diagnostic[:,9] = label_patients.fit_transform(x_diagnostic[:,9])\n",
        "x_diagnostic[:,10] = label_patients.fit_transform(x_diagnostic[:,10])\n",
        "x_diagnostic[:,11] = label_patients.fit_transform(x_diagnostic[:,11])\n",
        "\n",
        "\n",
        "x_diagnostic"
      ]
    },
    {
      "cell_type": "code",
      "execution_count": null,
      "id": "74e2a299",
      "metadata": {
        "execution": {
          "iopub.execute_input": "2024-06-19T03:44:46.782570Z",
          "iopub.status.busy": "2024-06-19T03:44:46.782151Z",
          "iopub.status.idle": "2024-06-19T03:44:46.808155Z",
          "shell.execute_reply": "2024-06-19T03:44:46.806987Z"
        },
        "papermill": {
          "duration": 0.056844,
          "end_time": "2024-06-19T03:44:46.810620",
          "exception": false,
          "start_time": "2024-06-19T03:44:46.753776",
          "status": "completed"
        },
        "tags": [],
        "id": "74e2a299",
        "outputId": "6bb8c2b2-63b1-43a3-b556-c10014c83338"
      },
      "outputs": [
        {
          "data": {
            "text/plain": [
              "array([[0., 0., 0., ..., 1., 0., 1.],\n",
              "       [0., 0., 0., ..., 1., 0., 1.],\n",
              "       [0., 0., 0., ..., 1., 0., 1.],\n",
              "       ...,\n",
              "       [0., 0., 0., ..., 0., 1., 0.],\n",
              "       [0., 0., 0., ..., 1., 0., 1.],\n",
              "       [0., 0., 0., ..., 0., 0., 1.]])"
            ]
          },
          "execution_count": 18,
          "metadata": {},
          "output_type": "execute_result"
        }
      ],
      "source": [
        "OneHotEncoder = ColumnTransformer(transformers=[('encoder', OneHotEncoder(), [0,1,2,3,4,5,6,7,8,9,10,11])], remainder='passthrough')\n",
        "x_diagnostic = OneHotEncoder.fit_transform(x_diagnostic).toarray()\n",
        "x_diagnostic\n"
      ]
    },
    {
      "cell_type": "code",
      "execution_count": null,
      "id": "9e88273e",
      "metadata": {
        "execution": {
          "iopub.execute_input": "2024-06-19T03:44:46.865755Z",
          "iopub.status.busy": "2024-06-19T03:44:46.864835Z",
          "iopub.status.idle": "2024-06-19T03:44:46.871680Z",
          "shell.execute_reply": "2024-06-19T03:44:46.870676Z"
        },
        "papermill": {
          "duration": 0.036931,
          "end_time": "2024-06-19T03:44:46.874138",
          "exception": false,
          "start_time": "2024-06-19T03:44:46.837207",
          "status": "completed"
        },
        "tags": [],
        "id": "9e88273e",
        "outputId": "a67ee7fd-e75a-45d4-c49c-df4ea3cae580"
      },
      "outputs": [
        {
          "data": {
            "text/plain": [
              "(1500, 121)"
            ]
          },
          "execution_count": 19,
          "metadata": {},
          "output_type": "execute_result"
        }
      ],
      "source": [
        "x_diagnostic.shape"
      ]
    },
    {
      "cell_type": "code",
      "execution_count": null,
      "id": "95b7c258",
      "metadata": {
        "execution": {
          "iopub.execute_input": "2024-06-19T03:44:46.929110Z",
          "iopub.status.busy": "2024-06-19T03:44:46.928714Z",
          "iopub.status.idle": "2024-06-19T03:44:46.940954Z",
          "shell.execute_reply": "2024-06-19T03:44:46.939976Z"
        },
        "papermill": {
          "duration": 0.042551,
          "end_time": "2024-06-19T03:44:46.943368",
          "exception": false,
          "start_time": "2024-06-19T03:44:46.900817",
          "status": "completed"
        },
        "tags": [],
        "id": "95b7c258",
        "outputId": "92068a9b-7821-4d63-8bfd-93111339d6b2"
      },
      "outputs": [
        {
          "data": {
            "text/plain": [
              "array([[-0.1353881 , -0.13791932, -0.13018891, ...,  0.93416229,\n",
              "        -0.67028006,  0.67028006],\n",
              "       [-0.1353881 , -0.13791932, -0.13018891, ...,  0.93416229,\n",
              "        -0.67028006,  0.67028006],\n",
              "       [-0.1353881 , -0.13791932, -0.13018891, ...,  0.93416229,\n",
              "        -0.67028006,  0.67028006],\n",
              "       ...,\n",
              "       [-0.1353881 , -0.13791932, -0.13018891, ..., -1.07047781,\n",
              "         1.49191369, -1.49191369],\n",
              "       [-0.1353881 , -0.13791932, -0.13018891, ...,  0.93416229,\n",
              "        -0.67028006,  0.67028006],\n",
              "       [-0.1353881 , -0.13791932, -0.13018891, ..., -1.07047781,\n",
              "        -0.67028006,  0.67028006]])"
            ]
          },
          "execution_count": 20,
          "metadata": {},
          "output_type": "execute_result"
        }
      ],
      "source": [
        "scaler = StandardScaler()\n",
        "x_diagnostic = scaler.fit_transform(x_diagnostic)\n",
        "x_diagnostic"
      ]
    },
    {
      "cell_type": "markdown",
      "id": "a3625246",
      "metadata": {
        "papermill": {
          "duration": 0.026614,
          "end_time": "2024-06-19T03:44:46.997332",
          "exception": false,
          "start_time": "2024-06-19T03:44:46.970718",
          "status": "completed"
        },
        "tags": [],
        "id": "a3625246"
      },
      "source": [
        "### **training dataset X test dataset**"
      ]
    },
    {
      "cell_type": "code",
      "execution_count": null,
      "id": "58eaa693",
      "metadata": {
        "execution": {
          "iopub.execute_input": "2024-06-19T03:44:47.053628Z",
          "iopub.status.busy": "2024-06-19T03:44:47.053176Z",
          "iopub.status.idle": "2024-06-19T03:44:47.062529Z",
          "shell.execute_reply": "2024-06-19T03:44:47.061436Z"
        },
        "papermill": {
          "duration": 0.040351,
          "end_time": "2024-06-19T03:44:47.064960",
          "exception": false,
          "start_time": "2024-06-19T03:44:47.024609",
          "status": "completed"
        },
        "tags": [],
        "id": "58eaa693"
      },
      "outputs": [],
      "source": [
        "diagnostic_X_train, diagnostic_X_test, diagnostic_y_train, diagnostic_y_test = train_test_split(x_diagnostic, y_diagnostic, test_size = 0.25, random_state = 0)"
      ]
    },
    {
      "cell_type": "markdown",
      "id": "f3c96ca8",
      "metadata": {
        "papermill": {
          "duration": 0.027024,
          "end_time": "2024-06-19T03:44:47.119099",
          "exception": false,
          "start_time": "2024-06-19T03:44:47.092075",
          "status": "completed"
        },
        "tags": [],
        "id": "f3c96ca8"
      },
      "source": [
        "_____________________________________________________________________________________________________________________________________________________"
      ]
    },
    {
      "cell_type": "markdown",
      "id": "98325bc3",
      "metadata": {
        "papermill": {
          "duration": 0.027467,
          "end_time": "2024-06-19T03:44:47.174356",
          "exception": false,
          "start_time": "2024-06-19T03:44:47.146889",
          "status": "completed"
        },
        "tags": [],
        "id": "98325bc3"
      },
      "source": [
        "## **Testing the model**"
      ]
    },
    {
      "cell_type": "markdown",
      "id": "37f898d2",
      "metadata": {
        "papermill": {
          "duration": 0.026847,
          "end_time": "2024-06-19T03:44:47.228571",
          "exception": false,
          "start_time": "2024-06-19T03:44:47.201724",
          "status": "completed"
        },
        "tags": [],
        "id": "37f898d2"
      },
      "source": [
        "_____________________________________________________________________________________________________________________________________________________"
      ]
    },
    {
      "cell_type": "markdown",
      "id": "d7eb65c9",
      "metadata": {
        "papermill": {
          "duration": 0.027208,
          "end_time": "2024-06-19T03:44:47.283049",
          "exception": false,
          "start_time": "2024-06-19T03:44:47.255841",
          "status": "completed"
        },
        "tags": [],
        "id": "d7eb65c9"
      },
      "source": [
        "### **Decision tree - 85,86%**"
      ]
    },
    {
      "cell_type": "code",
      "execution_count": null,
      "id": "e96d73d0",
      "metadata": {
        "execution": {
          "iopub.execute_input": "2024-06-19T03:44:47.338951Z",
          "iopub.status.busy": "2024-06-19T03:44:47.338536Z",
          "iopub.status.idle": "2024-06-19T03:44:47.359635Z",
          "shell.execute_reply": "2024-06-19T03:44:47.358588Z"
        },
        "papermill": {
          "duration": 0.051814,
          "end_time": "2024-06-19T03:44:47.362014",
          "exception": false,
          "start_time": "2024-06-19T03:44:47.310200",
          "status": "completed"
        },
        "tags": [],
        "id": "e96d73d0",
        "outputId": "fe61a3c8-b88c-40ff-d393-181334ebf633"
      },
      "outputs": [
        {
          "data": {
            "text/html": [
              "<style>#sk-container-id-1 {color: black;background-color: white;}#sk-container-id-1 pre{padding: 0;}#sk-container-id-1 div.sk-toggleable {background-color: white;}#sk-container-id-1 label.sk-toggleable__label {cursor: pointer;display: block;width: 100%;margin-bottom: 0;padding: 0.3em;box-sizing: border-box;text-align: center;}#sk-container-id-1 label.sk-toggleable__label-arrow:before {content: \"▸\";float: left;margin-right: 0.25em;color: #696969;}#sk-container-id-1 label.sk-toggleable__label-arrow:hover:before {color: black;}#sk-container-id-1 div.sk-estimator:hover label.sk-toggleable__label-arrow:before {color: black;}#sk-container-id-1 div.sk-toggleable__content {max-height: 0;max-width: 0;overflow: hidden;text-align: left;background-color: #f0f8ff;}#sk-container-id-1 div.sk-toggleable__content pre {margin: 0.2em;color: black;border-radius: 0.25em;background-color: #f0f8ff;}#sk-container-id-1 input.sk-toggleable__control:checked~div.sk-toggleable__content {max-height: 200px;max-width: 100%;overflow: auto;}#sk-container-id-1 input.sk-toggleable__control:checked~label.sk-toggleable__label-arrow:before {content: \"▾\";}#sk-container-id-1 div.sk-estimator input.sk-toggleable__control:checked~label.sk-toggleable__label {background-color: #d4ebff;}#sk-container-id-1 div.sk-label input.sk-toggleable__control:checked~label.sk-toggleable__label {background-color: #d4ebff;}#sk-container-id-1 input.sk-hidden--visually {border: 0;clip: rect(1px 1px 1px 1px);clip: rect(1px, 1px, 1px, 1px);height: 1px;margin: -1px;overflow: hidden;padding: 0;position: absolute;width: 1px;}#sk-container-id-1 div.sk-estimator {font-family: monospace;background-color: #f0f8ff;border: 1px dotted black;border-radius: 0.25em;box-sizing: border-box;margin-bottom: 0.5em;}#sk-container-id-1 div.sk-estimator:hover {background-color: #d4ebff;}#sk-container-id-1 div.sk-parallel-item::after {content: \"\";width: 100%;border-bottom: 1px solid gray;flex-grow: 1;}#sk-container-id-1 div.sk-label:hover label.sk-toggleable__label {background-color: #d4ebff;}#sk-container-id-1 div.sk-serial::before {content: \"\";position: absolute;border-left: 1px solid gray;box-sizing: border-box;top: 0;bottom: 0;left: 50%;z-index: 0;}#sk-container-id-1 div.sk-serial {display: flex;flex-direction: column;align-items: center;background-color: white;padding-right: 0.2em;padding-left: 0.2em;position: relative;}#sk-container-id-1 div.sk-item {position: relative;z-index: 1;}#sk-container-id-1 div.sk-parallel {display: flex;align-items: stretch;justify-content: center;background-color: white;position: relative;}#sk-container-id-1 div.sk-item::before, #sk-container-id-1 div.sk-parallel-item::before {content: \"\";position: absolute;border-left: 1px solid gray;box-sizing: border-box;top: 0;bottom: 0;left: 50%;z-index: -1;}#sk-container-id-1 div.sk-parallel-item {display: flex;flex-direction: column;z-index: 1;position: relative;background-color: white;}#sk-container-id-1 div.sk-parallel-item:first-child::after {align-self: flex-end;width: 50%;}#sk-container-id-1 div.sk-parallel-item:last-child::after {align-self: flex-start;width: 50%;}#sk-container-id-1 div.sk-parallel-item:only-child::after {width: 0;}#sk-container-id-1 div.sk-dashed-wrapped {border: 1px dashed gray;margin: 0 0.4em 0.5em 0.4em;box-sizing: border-box;padding-bottom: 0.4em;background-color: white;}#sk-container-id-1 div.sk-label label {font-family: monospace;font-weight: bold;display: inline-block;line-height: 1.2em;}#sk-container-id-1 div.sk-label-container {text-align: center;}#sk-container-id-1 div.sk-container {/* jupyter's `normalize.less` sets `[hidden] { display: none; }` but bootstrap.min.css set `[hidden] { display: none !important; }` so we also need the `!important` here to be able to override the default hidden behavior on the sphinx rendered scikit-learn.org. See: https://github.com/scikit-learn/scikit-learn/issues/21755 */display: inline-block !important;position: relative;}#sk-container-id-1 div.sk-text-repr-fallback {display: none;}</style><div id=\"sk-container-id-1\" class=\"sk-top-container\"><div class=\"sk-text-repr-fallback\"><pre>DecisionTreeClassifier(criterion=&#x27;entropy&#x27;, random_state=0)</pre><b>In a Jupyter environment, please rerun this cell to show the HTML representation or trust the notebook. <br />On GitHub, the HTML representation is unable to render, please try loading this page with nbviewer.org.</b></div><div class=\"sk-container\" hidden><div class=\"sk-item\"><div class=\"sk-estimator sk-toggleable\"><input class=\"sk-toggleable__control sk-hidden--visually\" id=\"sk-estimator-id-1\" type=\"checkbox\" checked><label for=\"sk-estimator-id-1\" class=\"sk-toggleable__label sk-toggleable__label-arrow\">DecisionTreeClassifier</label><div class=\"sk-toggleable__content\"><pre>DecisionTreeClassifier(criterion=&#x27;entropy&#x27;, random_state=0)</pre></div></div></div></div></div>"
            ],
            "text/plain": [
              "DecisionTreeClassifier(criterion='entropy', random_state=0)"
            ]
          },
          "execution_count": 22,
          "metadata": {},
          "output_type": "execute_result"
        }
      ],
      "source": [
        "tree_diagnostic = DecisionTreeClassifier(criterion = 'entropy', random_state = 0)\n",
        "tree_diagnostic.fit(diagnostic_X_train, diagnostic_y_train)"
      ]
    },
    {
      "cell_type": "code",
      "execution_count": null,
      "id": "4fddefdd",
      "metadata": {
        "execution": {
          "iopub.execute_input": "2024-06-19T03:44:47.418661Z",
          "iopub.status.busy": "2024-06-19T03:44:47.417723Z",
          "iopub.status.idle": "2024-06-19T03:44:47.423390Z",
          "shell.execute_reply": "2024-06-19T03:44:47.422370Z"
        },
        "papermill": {
          "duration": 0.036484,
          "end_time": "2024-06-19T03:44:47.425581",
          "exception": false,
          "start_time": "2024-06-19T03:44:47.389097",
          "status": "completed"
        },
        "tags": [],
        "id": "4fddefdd"
      },
      "outputs": [],
      "source": [
        "predict_diagnostic = tree_diagnostic.predict(diagnostic_X_test)"
      ]
    },
    {
      "cell_type": "code",
      "execution_count": null,
      "id": "0c3e8664",
      "metadata": {
        "execution": {
          "iopub.execute_input": "2024-06-19T03:44:47.482980Z",
          "iopub.status.busy": "2024-06-19T03:44:47.482569Z",
          "iopub.status.idle": "2024-06-19T03:44:47.491068Z",
          "shell.execute_reply": "2024-06-19T03:44:47.489943Z"
        },
        "papermill": {
          "duration": 0.039402,
          "end_time": "2024-06-19T03:44:47.493214",
          "exception": false,
          "start_time": "2024-06-19T03:44:47.453812",
          "status": "completed"
        },
        "tags": [],
        "id": "0c3e8664",
        "outputId": "877c4eaa-005d-4c01-ad9b-e60c9edec449"
      },
      "outputs": [
        {
          "data": {
            "text/plain": [
              "0.8586666666666667"
            ]
          },
          "execution_count": 24,
          "metadata": {},
          "output_type": "execute_result"
        }
      ],
      "source": [
        "accuracy_diagnostic = accuracy_score(diagnostic_y_test, predict_diagnostic)\n",
        "accuracy_diagnostic"
      ]
    },
    {
      "cell_type": "code",
      "execution_count": null,
      "id": "8aa7bbc5",
      "metadata": {
        "execution": {
          "iopub.execute_input": "2024-06-19T03:44:47.550867Z",
          "iopub.status.busy": "2024-06-19T03:44:47.550464Z",
          "iopub.status.idle": "2024-06-19T03:44:47.559763Z",
          "shell.execute_reply": "2024-06-19T03:44:47.558741Z"
        },
        "papermill": {
          "duration": 0.041543,
          "end_time": "2024-06-19T03:44:47.561989",
          "exception": false,
          "start_time": "2024-06-19T03:44:47.520446",
          "status": "completed"
        },
        "tags": [],
        "id": "8aa7bbc5",
        "outputId": "ad0a4959-35ed-4846-9842-f00fc1d7cfcd"
      },
      "outputs": [
        {
          "data": {
            "text/plain": [
              "array([[208,  28],\n",
              "       [ 25, 114]])"
            ]
          },
          "execution_count": 25,
          "metadata": {},
          "output_type": "execute_result"
        }
      ],
      "source": [
        "treecm_diagnostic = confusion_matrix(diagnostic_y_test,predict_diagnostic)\n",
        "treecm_diagnostic"
      ]
    },
    {
      "cell_type": "code",
      "execution_count": null,
      "id": "0ca61354",
      "metadata": {
        "execution": {
          "iopub.execute_input": "2024-06-19T03:44:47.618477Z",
          "iopub.status.busy": "2024-06-19T03:44:47.618085Z",
          "iopub.status.idle": "2024-06-19T03:44:47.931264Z",
          "shell.execute_reply": "2024-06-19T03:44:47.930057Z"
        },
        "papermill": {
          "duration": 0.344344,
          "end_time": "2024-06-19T03:44:47.933770",
          "exception": false,
          "start_time": "2024-06-19T03:44:47.589426",
          "status": "completed"
        },
        "tags": [],
        "id": "0ca61354",
        "outputId": "5b021cc2-adc7-4e89-df84-7ae14f07f1fd"
      },
      "outputs": [
        {
          "data": {
            "image/png": "[encoded data removed]",
            "text/plain": [
              "<Figure size 640x480 with 2 Axes>"
            ]
          },
          "metadata": {},
          "output_type": "display_data"
        }
      ],
      "source": [
        "\n",
        "cm = confusion_matrix(diagnostic_y_test, predict_diagnostic)\n",
        "\n",
        "\n",
        "sns.heatmap(cm, annot=True, fmt='d', cmap='Blues')\n",
        "plt.xlabel('Predição')\n",
        "plt.ylabel('Real')\n",
        "plt.title('Matriz de Confusão do para o arvore de decisão')\n",
        "plt.show()\n"
      ]
    },
    {
      "cell_type": "code",
      "execution_count": null,
      "id": "3c989aa4",
      "metadata": {
        "execution": {
          "iopub.execute_input": "2024-06-19T03:44:47.992363Z",
          "iopub.status.busy": "2024-06-19T03:44:47.991966Z",
          "iopub.status.idle": "2024-06-19T03:44:58.298708Z",
          "shell.execute_reply": "2024-06-19T03:44:58.297591Z"
        },
        "papermill": {
          "duration": 10.341411,
          "end_time": "2024-06-19T03:44:58.303436",
          "exception": false,
          "start_time": "2024-06-19T03:44:47.962025",
          "status": "completed"
        },
        "tags": [],
        "id": "3c989aa4",
        "outputId": "c9df013e-226e-4bda-a4ec-f2c85f04243c"
      },
      "outputs": [
        {
          "data": {
            "image/png": "[encoded data removed]",
            "text/plain": [
              "<Figure size 2000x1000 with 1 Axes>"
            ]
          },
          "metadata": {},
          "output_type": "display_data"
        }
      ],
      "source": [
        "plt.figure(figsize=(20,10))\n",
        "tree.plot_tree(tree_diagnostic)\n",
        "plt.show()"
      ]
    },
    {
      "cell_type": "markdown",
      "id": "9007a7c9",
      "metadata": {
        "papermill": {
          "duration": 0.030632,
          "end_time": "2024-06-19T03:44:58.365326",
          "exception": false,
          "start_time": "2024-06-19T03:44:58.334694",
          "status": "completed"
        },
        "tags": [],
        "id": "9007a7c9"
      },
      "source": [
        "### **Random Forest - 89,33% **"
      ]
    },
    {
      "cell_type": "code",
      "execution_count": null,
      "id": "8d6c77e8",
      "metadata": {
        "execution": {
          "iopub.execute_input": "2024-06-19T03:44:58.429101Z",
          "iopub.status.busy": "2024-06-19T03:44:58.428075Z",
          "iopub.status.idle": "2024-06-19T03:44:58.652977Z",
          "shell.execute_reply": "2024-06-19T03:44:58.651795Z"
        },
        "papermill": {
          "duration": 0.259504,
          "end_time": "2024-06-19T03:44:58.655544",
          "exception": false,
          "start_time": "2024-06-19T03:44:58.396040",
          "status": "completed"
        },
        "tags": [],
        "id": "8d6c77e8",
        "outputId": "4359ddc5-ff07-42c4-cb66-26a6cac73afd"
      },
      "outputs": [
        {
          "data": {
            "text/html": [
              "<style>#sk-container-id-2 {color: black;background-color: white;}#sk-container-id-2 pre{padding: 0;}#sk-container-id-2 div.sk-toggleable {background-color: white;}#sk-container-id-2 label.sk-toggleable__label {cursor: pointer;display: block;width: 100%;margin-bottom: 0;padding: 0.3em;box-sizing: border-box;text-align: center;}#sk-container-id-2 label.sk-toggleable__label-arrow:before {content: \"▸\";float: left;margin-right: 0.25em;color: #696969;}#sk-container-id-2 label.sk-toggleable__label-arrow:hover:before {color: black;}#sk-container-id-2 div.sk-estimator:hover label.sk-toggleable__label-arrow:before {color: black;}#sk-container-id-2 div.sk-toggleable__content {max-height: 0;max-width: 0;overflow: hidden;text-align: left;background-color: #f0f8ff;}#sk-container-id-2 div.sk-toggleable__content pre {margin: 0.2em;color: black;border-radius: 0.25em;background-color: #f0f8ff;}#sk-container-id-2 input.sk-toggleable__control:checked~div.sk-toggleable__content {max-height: 200px;max-width: 100%;overflow: auto;}#sk-container-id-2 input.sk-toggleable__control:checked~label.sk-toggleable__label-arrow:before {content: \"▾\";}#sk-container-id-2 div.sk-estimator input.sk-toggleable__control:checked~label.sk-toggleable__label {background-color: #d4ebff;}#sk-container-id-2 div.sk-label input.sk-toggleable__control:checked~label.sk-toggleable__label {background-color: #d4ebff;}#sk-container-id-2 input.sk-hidden--visually {border: 0;clip: rect(1px 1px 1px 1px);clip: rect(1px, 1px, 1px, 1px);height: 1px;margin: -1px;overflow: hidden;padding: 0;position: absolute;width: 1px;}#sk-container-id-2 div.sk-estimator {font-family: monospace;background-color: #f0f8ff;border: 1px dotted black;border-radius: 0.25em;box-sizing: border-box;margin-bottom: 0.5em;}#sk-container-id-2 div.sk-estimator:hover {background-color: #d4ebff;}#sk-container-id-2 div.sk-parallel-item::after {content: \"\";width: 100%;border-bottom: 1px solid gray;flex-grow: 1;}#sk-container-id-2 div.sk-label:hover label.sk-toggleable__label {background-color: #d4ebff;}#sk-container-id-2 div.sk-serial::before {content: \"\";position: absolute;border-left: 1px solid gray;box-sizing: border-box;top: 0;bottom: 0;left: 50%;z-index: 0;}#sk-container-id-2 div.sk-serial {display: flex;flex-direction: column;align-items: center;background-color: white;padding-right: 0.2em;padding-left: 0.2em;position: relative;}#sk-container-id-2 div.sk-item {position: relative;z-index: 1;}#sk-container-id-2 div.sk-parallel {display: flex;align-items: stretch;justify-content: center;background-color: white;position: relative;}#sk-container-id-2 div.sk-item::before, #sk-container-id-2 div.sk-parallel-item::before {content: \"\";position: absolute;border-left: 1px solid gray;box-sizing: border-box;top: 0;bottom: 0;left: 50%;z-index: -1;}#sk-container-id-2 div.sk-parallel-item {display: flex;flex-direction: column;z-index: 1;position: relative;background-color: white;}#sk-container-id-2 div.sk-parallel-item:first-child::after {align-self: flex-end;width: 50%;}#sk-container-id-2 div.sk-parallel-item:last-child::after {align-self: flex-start;width: 50%;}#sk-container-id-2 div.sk-parallel-item:only-child::after {width: 0;}#sk-container-id-2 div.sk-dashed-wrapped {border: 1px dashed gray;margin: 0 0.4em 0.5em 0.4em;box-sizing: border-box;padding-bottom: 0.4em;background-color: white;}#sk-container-id-2 div.sk-label label {font-family: monospace;font-weight: bold;display: inline-block;line-height: 1.2em;}#sk-container-id-2 div.sk-label-container {text-align: center;}#sk-container-id-2 div.sk-container {/* jupyter's `normalize.less` sets `[hidden] { display: none; }` but bootstrap.min.css set `[hidden] { display: none !important; }` so we also need the `!important` here to be able to override the default hidden behavior on the sphinx rendered scikit-learn.org. See: https://github.com/scikit-learn/scikit-learn/issues/21755 */display: inline-block !important;position: relative;}#sk-container-id-2 div.sk-text-repr-fallback {display: none;}</style><div id=\"sk-container-id-2\" class=\"sk-top-container\"><div class=\"sk-text-repr-fallback\"><pre>RandomForestClassifier(criterion=&#x27;entropy&#x27;, n_estimators=60, random_state=0)</pre><b>In a Jupyter environment, please rerun this cell to show the HTML representation or trust the notebook. <br />On GitHub, the HTML representation is unable to render, please try loading this page with nbviewer.org.</b></div><div class=\"sk-container\" hidden><div class=\"sk-item\"><div class=\"sk-estimator sk-toggleable\"><input class=\"sk-toggleable__control sk-hidden--visually\" id=\"sk-estimator-id-2\" type=\"checkbox\" checked><label for=\"sk-estimator-id-2\" class=\"sk-toggleable__label sk-toggleable__label-arrow\">RandomForestClassifier</label><div class=\"sk-toggleable__content\"><pre>RandomForestClassifier(criterion=&#x27;entropy&#x27;, n_estimators=60, random_state=0)</pre></div></div></div></div></div>"
            ],
            "text/plain": [
              "RandomForestClassifier(criterion='entropy', n_estimators=60, random_state=0)"
            ]
          },
          "execution_count": 28,
          "metadata": {},
          "output_type": "execute_result"
        }
      ],
      "source": [
        "random_forest_diagnostic = RandomForestClassifier(n_estimators = 60, criterion = 'entropy', random_state = 0)\n",
        "random_forest_diagnostic.fit(diagnostic_X_train, diagnostic_y_train)"
      ]
    },
    {
      "cell_type": "code",
      "execution_count": null,
      "id": "48ab17f8",
      "metadata": {
        "execution": {
          "iopub.execute_input": "2024-06-19T03:44:58.721022Z",
          "iopub.status.busy": "2024-06-19T03:44:58.720628Z",
          "iopub.status.idle": "2024-06-19T03:44:58.735514Z",
          "shell.execute_reply": "2024-06-19T03:44:58.734253Z"
        },
        "papermill": {
          "duration": 0.0512,
          "end_time": "2024-06-19T03:44:58.738506",
          "exception": false,
          "start_time": "2024-06-19T03:44:58.687306",
          "status": "completed"
        },
        "tags": [],
        "id": "48ab17f8"
      },
      "outputs": [],
      "source": [
        "forest_predict_diagnostic = random_forest_diagnostic.predict(diagnostic_X_test)"
      ]
    },
    {
      "cell_type": "code",
      "execution_count": null,
      "id": "d3243518",
      "metadata": {
        "execution": {
          "iopub.execute_input": "2024-06-19T03:44:58.803996Z",
          "iopub.status.busy": "2024-06-19T03:44:58.802847Z",
          "iopub.status.idle": "2024-06-19T03:44:58.811823Z",
          "shell.execute_reply": "2024-06-19T03:44:58.810703Z"
        },
        "papermill": {
          "duration": 0.044368,
          "end_time": "2024-06-19T03:44:58.814480",
          "exception": false,
          "start_time": "2024-06-19T03:44:58.770112",
          "status": "completed"
        },
        "tags": [],
        "id": "d3243518",
        "outputId": "5070b661-1984-4eb6-9eec-45875fcae4e4"
      },
      "outputs": [
        {
          "data": {
            "text/plain": [
              "0.8933333333333333"
            ]
          },
          "execution_count": 30,
          "metadata": {},
          "output_type": "execute_result"
        }
      ],
      "source": [
        "diagnostic_accuracy = accuracy_score(diagnostic_y_test, forest_predict_diagnostic)\n",
        "diagnostic_accuracy"
      ]
    },
    {
      "cell_type": "code",
      "execution_count": null,
      "id": "31164ab2",
      "metadata": {
        "execution": {
          "iopub.execute_input": "2024-06-19T03:44:58.880452Z",
          "iopub.status.busy": "2024-06-19T03:44:58.879700Z",
          "iopub.status.idle": "2024-06-19T03:44:59.138083Z",
          "shell.execute_reply": "2024-06-19T03:44:59.136786Z"
        },
        "papermill": {
          "duration": 0.294134,
          "end_time": "2024-06-19T03:44:59.140756",
          "exception": false,
          "start_time": "2024-06-19T03:44:58.846622",
          "status": "completed"
        },
        "tags": [],
        "id": "31164ab2",
        "outputId": "04c8d5c1-a5a3-4b3a-8953-147f1889f165"
      },
      "outputs": [
        {
          "data": {
            "image/png": "[encoded data removed]",
            "text/plain": [
              "<Figure size 640x480 with 2 Axes>"
            ]
          },
          "metadata": {},
          "output_type": "display_data"
        }
      ],
      "source": [
        "\n",
        "cm_random = confusion_matrix(diagnostic_y_test, forest_predict_diagnostic)\n",
        "\n",
        "sns.heatmap(cm_random, annot=True, fmt='d', cmap='Blues')\n",
        "plt.xlabel('Predição')\n",
        "plt.ylabel('Real')\n",
        "plt.title('Matriz de Confusão do para o Random Forest')\n",
        "plt.show()"
      ]
    },
    {
      "cell_type": "markdown",
      "id": "3415ac38",
      "metadata": {
        "papermill": {
          "duration": 0.031539,
          "end_time": "2024-06-19T03:44:59.204585",
          "exception": false,
          "start_time": "2024-06-19T03:44:59.173046",
          "status": "completed"
        },
        "tags": [],
        "id": "3415ac38"
      },
      "source": [
        "### **Logistic regression -  94,93%**"
      ]
    },
    {
      "cell_type": "code",
      "execution_count": null,
      "id": "57a1a3b9",
      "metadata": {
        "execution": {
          "iopub.execute_input": "2024-06-19T03:44:59.270583Z",
          "iopub.status.busy": "2024-06-19T03:44:59.269582Z",
          "iopub.status.idle": "2024-06-19T03:44:59.302508Z",
          "shell.execute_reply": "2024-06-19T03:44:59.300964Z"
        },
        "papermill": {
          "duration": 0.070176,
          "end_time": "2024-06-19T03:44:59.306515",
          "exception": false,
          "start_time": "2024-06-19T03:44:59.236339",
          "status": "completed"
        },
        "tags": [],
        "id": "57a1a3b9",
        "outputId": "6a3aa03c-fcd5-45ec-e6e1-bf855f487175"
      },
      "outputs": [
        {
          "data": {
            "text/html": [
              "<style>#sk-container-id-3 {color: black;background-color: white;}#sk-container-id-3 pre{padding: 0;}#sk-container-id-3 div.sk-toggleable {background-color: white;}#sk-container-id-3 label.sk-toggleable__label {cursor: pointer;display: block;width: 100%;margin-bottom: 0;padding: 0.3em;box-sizing: border-box;text-align: center;}#sk-container-id-3 label.sk-toggleable__label-arrow:before {content: \"▸\";float: left;margin-right: 0.25em;color: #696969;}#sk-container-id-3 label.sk-toggleable__label-arrow:hover:before {color: black;}#sk-container-id-3 div.sk-estimator:hover label.sk-toggleable__label-arrow:before {color: black;}#sk-container-id-3 div.sk-toggleable__content {max-height: 0;max-width: 0;overflow: hidden;text-align: left;background-color: #f0f8ff;}#sk-container-id-3 div.sk-toggleable__content pre {margin: 0.2em;color: black;border-radius: 0.25em;background-color: #f0f8ff;}#sk-container-id-3 input.sk-toggleable__control:checked~div.sk-toggleable__content {max-height: 200px;max-width: 100%;overflow: auto;}#sk-container-id-3 input.sk-toggleable__control:checked~label.sk-toggleable__label-arrow:before {content: \"▾\";}#sk-container-id-3 div.sk-estimator input.sk-toggleable__control:checked~label.sk-toggleable__label {background-color: #d4ebff;}#sk-container-id-3 div.sk-label input.sk-toggleable__control:checked~label.sk-toggleable__label {background-color: #d4ebff;}#sk-container-id-3 input.sk-hidden--visually {border: 0;clip: rect(1px 1px 1px 1px);clip: rect(1px, 1px, 1px, 1px);height: 1px;margin: -1px;overflow: hidden;padding: 0;position: absolute;width: 1px;}#sk-container-id-3 div.sk-estimator {font-family: monospace;background-color: #f0f8ff;border: 1px dotted black;border-radius: 0.25em;box-sizing: border-box;margin-bottom: 0.5em;}#sk-container-id-3 div.sk-estimator:hover {background-color: #d4ebff;}#sk-container-id-3 div.sk-parallel-item::after {content: \"\";width: 100%;border-bottom: 1px solid gray;flex-grow: 1;}#sk-container-id-3 div.sk-label:hover label.sk-toggleable__label {background-color: #d4ebff;}#sk-container-id-3 div.sk-serial::before {content: \"\";position: absolute;border-left: 1px solid gray;box-sizing: border-box;top: 0;bottom: 0;left: 50%;z-index: 0;}#sk-container-id-3 div.sk-serial {display: flex;flex-direction: column;align-items: center;background-color: white;padding-right: 0.2em;padding-left: 0.2em;position: relative;}#sk-container-id-3 div.sk-item {position: relative;z-index: 1;}#sk-container-id-3 div.sk-parallel {display: flex;align-items: stretch;justify-content: center;background-color: white;position: relative;}#sk-container-id-3 div.sk-item::before, #sk-container-id-3 div.sk-parallel-item::before {content: \"\";position: absolute;border-left: 1px solid gray;box-sizing: border-box;top: 0;bottom: 0;left: 50%;z-index: -1;}#sk-container-id-3 div.sk-parallel-item {display: flex;flex-direction: column;z-index: 1;position: relative;background-color: white;}#sk-container-id-3 div.sk-parallel-item:first-child::after {align-self: flex-end;width: 50%;}#sk-container-id-3 div.sk-parallel-item:last-child::after {align-self: flex-start;width: 50%;}#sk-container-id-3 div.sk-parallel-item:only-child::after {width: 0;}#sk-container-id-3 div.sk-dashed-wrapped {border: 1px dashed gray;margin: 0 0.4em 0.5em 0.4em;box-sizing: border-box;padding-bottom: 0.4em;background-color: white;}#sk-container-id-3 div.sk-label label {font-family: monospace;font-weight: bold;display: inline-block;line-height: 1.2em;}#sk-container-id-3 div.sk-label-container {text-align: center;}#sk-container-id-3 div.sk-container {/* jupyter's `normalize.less` sets `[hidden] { display: none; }` but bootstrap.min.css set `[hidden] { display: none !important; }` so we also need the `!important` here to be able to override the default hidden behavior on the sphinx rendered scikit-learn.org. See: https://github.com/scikit-learn/scikit-learn/issues/21755 */display: inline-block !important;position: relative;}#sk-container-id-3 div.sk-text-repr-fallback {display: none;}</style><div id=\"sk-container-id-3\" class=\"sk-top-container\"><div class=\"sk-text-repr-fallback\"><pre>LogisticRegression(random_state=1)</pre><b>In a Jupyter environment, please rerun this cell to show the HTML representation or trust the notebook. <br />On GitHub, the HTML representation is unable to render, please try loading this page with nbviewer.org.</b></div><div class=\"sk-container\" hidden><div class=\"sk-item\"><div class=\"sk-estimator sk-toggleable\"><input class=\"sk-toggleable__control sk-hidden--visually\" id=\"sk-estimator-id-3\" type=\"checkbox\" checked><label for=\"sk-estimator-id-3\" class=\"sk-toggleable__label sk-toggleable__label-arrow\">LogisticRegression</label><div class=\"sk-toggleable__content\"><pre>LogisticRegression(random_state=1)</pre></div></div></div></div></div>"
            ],
            "text/plain": [
              "LogisticRegression(random_state=1)"
            ]
          },
          "execution_count": 32,
          "metadata": {},
          "output_type": "execute_result"
        }
      ],
      "source": [
        "logistic_diagnostic = LogisticRegression(random_state = 1)\n",
        "logistic_diagnostic.fit(diagnostic_X_train, diagnostic_y_train)"
      ]
    },
    {
      "cell_type": "code",
      "execution_count": null,
      "id": "9eed917e",
      "metadata": {
        "execution": {
          "iopub.execute_input": "2024-06-19T03:44:59.429312Z",
          "iopub.status.busy": "2024-06-19T03:44:59.428878Z",
          "iopub.status.idle": "2024-06-19T03:44:59.436230Z",
          "shell.execute_reply": "2024-06-19T03:44:59.435121Z"
        },
        "papermill": {
          "duration": 0.064236,
          "end_time": "2024-06-19T03:44:59.438806",
          "exception": false,
          "start_time": "2024-06-19T03:44:59.374570",
          "status": "completed"
        },
        "tags": [],
        "id": "9eed917e",
        "outputId": "46f3bcd1-ed6e-4218-f2ec-03f16f98fc67"
      },
      "outputs": [
        {
          "data": {
            "text/plain": [
              "array([-1.3642199])"
            ]
          },
          "execution_count": 33,
          "metadata": {},
          "output_type": "execute_result"
        }
      ],
      "source": [
        "logistic_diagnostic.intercept_"
      ]
    },
    {
      "cell_type": "code",
      "execution_count": null,
      "id": "08cc5b5c",
      "metadata": {
        "execution": {
          "iopub.execute_input": "2024-06-19T03:44:59.505755Z",
          "iopub.status.busy": "2024-06-19T03:44:59.505322Z",
          "iopub.status.idle": "2024-06-19T03:44:59.513985Z",
          "shell.execute_reply": "2024-06-19T03:44:59.512911Z"
        },
        "papermill": {
          "duration": 0.044459,
          "end_time": "2024-06-19T03:44:59.516288",
          "exception": false,
          "start_time": "2024-06-19T03:44:59.471829",
          "status": "completed"
        },
        "tags": [],
        "id": "08cc5b5c",
        "outputId": "7e889b42-ecbb-4f54-e789-ba2b371fb21d"
      },
      "outputs": [
        {
          "data": {
            "text/plain": [
              "array([[-0.11417277,  0.08747374, -0.01603048, -0.04702659, -0.10319249,\n",
              "         0.03763585,  0.10550347,  0.06068512, -0.05965521,  0.36145069,\n",
              "        -0.18079923, -0.06244626,  0.0387743 , -0.23618899,  0.0982667 ,\n",
              "        -0.13218168,  0.02779478, -0.08073951, -0.13308941, -0.01302356,\n",
              "        -0.14125187, -0.0597484 , -0.16667335, -0.22383823, -0.18458426,\n",
              "        -0.24639007, -0.24895252, -0.10661187,  0.09787906, -0.11585899,\n",
              "        -0.07832562,  0.01464858, -0.01882344, -0.00614984,  0.14851225,\n",
              "         0.2769561 ,  0.07213819,  0.01298803,  0.15030274,  0.00576055,\n",
              "         0.03194079, -0.02207145,  0.20930689,  0.03780655,  0.04858574,\n",
              "        -0.0282778 ,  0.00931243,  0.01545758,  0.072929  ,  0.07163533,\n",
              "         0.08795796,  0.0584805 , -0.03811002,  0.03485556,  0.21301297,\n",
              "         0.17673947,  0.06284508, -0.00509036,  0.12742727,  0.07768639,\n",
              "        -0.00966357, -0.80805621,  0.80805621, -0.30699519, -0.24173485,\n",
              "        -0.22434624, -0.02319104, -0.20140236, -0.17789557, -0.14656014,\n",
              "        -0.29113898, -0.110152  , -0.07520343,  0.12435384,  0.5046361 ,\n",
              "        -0.2602072 ,  0.12805282,  0.4858877 ,  0.18973053,  0.14415914,\n",
              "         0.09064189,  0.01714983, -0.00713585,  0.0413661 ,  0.05621903,\n",
              "         0.03967682,  0.06134091,  0.05064972,  0.04159198, -0.60930596,\n",
              "         0.60930596, -0.55521519, -0.48232323,  1.6058728 ,  0.50352757,\n",
              "         0.58840018,  0.14671378, -0.45187493, -0.29152317, -0.01131466,\n",
              "         0.02550352,  0.06135574, -0.20730243, -0.09795319, -0.17268504,\n",
              "        -0.27852966, -0.1135253 , -0.76567779,  0.3391671 ,  0.53750007,\n",
              "         0.35584557, -1.1311393 ,  1.1311393 , -0.46552927,  0.46552927,\n",
              "        -0.41623577,  0.41623577,  0.20842137, -0.20842137, -0.2835121 ,\n",
              "         0.2835121 ]])"
            ]
          },
          "execution_count": 34,
          "metadata": {},
          "output_type": "execute_result"
        }
      ],
      "source": [
        "logistic_diagnostic.coef_"
      ]
    },
    {
      "cell_type": "code",
      "execution_count": null,
      "id": "1464a1e6",
      "metadata": {
        "execution": {
          "iopub.execute_input": "2024-06-19T03:44:59.585051Z",
          "iopub.status.busy": "2024-06-19T03:44:59.584629Z",
          "iopub.status.idle": "2024-06-19T03:44:59.597954Z",
          "shell.execute_reply": "2024-06-19T03:44:59.596466Z"
        },
        "papermill": {
          "duration": 0.052675,
          "end_time": "2024-06-19T03:44:59.601894",
          "exception": false,
          "start_time": "2024-06-19T03:44:59.549219",
          "status": "completed"
        },
        "tags": [],
        "id": "1464a1e6",
        "outputId": "da6a49eb-2400-43fd-dc2a-ce4fc0ee6c8f"
      },
      "outputs": [
        {
          "data": {
            "text/plain": [
              "0.9493333333333334"
            ]
          },
          "execution_count": 35,
          "metadata": {},
          "output_type": "execute_result"
        }
      ],
      "source": [
        "previsoes_diagnostic = logistic_diagnostic.predict(diagnostic_X_test)\n",
        "accuracy_diagnostic = accuracy_score(diagnostic_y_test, previsoes_diagnostic)\n",
        "accuracy_diagnostic"
      ]
    },
    {
      "cell_type": "code",
      "execution_count": null,
      "id": "492c0fe3",
      "metadata": {
        "execution": {
          "iopub.execute_input": "2024-06-19T03:44:59.727757Z",
          "iopub.status.busy": "2024-06-19T03:44:59.726794Z",
          "iopub.status.idle": "2024-06-19T03:45:00.175842Z",
          "shell.execute_reply": "2024-06-19T03:45:00.174728Z"
        },
        "papermill": {
          "duration": 0.505716,
          "end_time": "2024-06-19T03:45:00.178568",
          "exception": false,
          "start_time": "2024-06-19T03:44:59.672852",
          "status": "completed"
        },
        "tags": [],
        "id": "492c0fe3",
        "outputId": "c895fd14-d050-4bf9-eea1-fe82efe67f2f"
      },
      "outputs": [
        {
          "data": {
            "image/png": "[encoded data removed]",
            "text/plain": [
              "<Figure size 640x480 with 2 Axes>"
            ]
          },
          "metadata": {},
          "output_type": "display_data"
        }
      ],
      "source": [
        "\n",
        "cm_logistic = confusion_matrix (diagnostic_y_test, previsoes_diagnostic)\n",
        "\n",
        "sns.heatmap(cm_logistic, annot=True, fmt='d', cmap='Blues')\n",
        "plt.xlabel('Predição')\n",
        "plt.ylabel('Real')\n",
        "plt.title('Matriz de Confusão do para o Random Forest')\n",
        "plt.show()"
      ]
    },
    {
      "cell_type": "code",
      "execution_count": null,
      "id": "9b65753a",
      "metadata": {
        "execution": {
          "iopub.execute_input": "2024-06-19T03:45:00.246807Z",
          "iopub.status.busy": "2024-06-19T03:45:00.246402Z",
          "iopub.status.idle": "2024-06-19T03:45:00.262850Z",
          "shell.execute_reply": "2024-06-19T03:45:00.261328Z"
        },
        "papermill": {
          "duration": 0.054001,
          "end_time": "2024-06-19T03:45:00.265335",
          "exception": false,
          "start_time": "2024-06-19T03:45:00.211334",
          "status": "completed"
        },
        "tags": [],
        "id": "9b65753a",
        "outputId": "ed4aaf5c-294a-4e9a-c6ac-5f841260c33a"
      },
      "outputs": [
        {
          "name": "stdout",
          "output_type": "stream",
          "text": [
            "              precision    recall  f1-score   support\n",
            "\n",
            "           0       0.96      0.96      0.96       236\n",
            "           1       0.93      0.93      0.93       139\n",
            "\n",
            "    accuracy                           0.95       375\n",
            "   macro avg       0.95      0.94      0.95       375\n",
            "weighted avg       0.95      0.95      0.95       375\n",
            "\n"
          ]
        }
      ],
      "source": [
        "from sklearn.metrics import classification_report\n",
        "print(classification_report(diagnostic_y_test, previsoes_diagnostic))"
      ]
    },
    {
      "cell_type": "markdown",
      "id": "58eb590b",
      "metadata": {
        "papermill": {
          "duration": 0.032793,
          "end_time": "2024-06-19T03:45:00.331145",
          "exception": false,
          "start_time": "2024-06-19T03:45:00.298352",
          "status": "completed"
        },
        "tags": [],
        "id": "58eb590b"
      },
      "source": [
        "### **SVM - 93,33%**"
      ]
    },
    {
      "cell_type": "code",
      "execution_count": null,
      "id": "32f53863",
      "metadata": {
        "execution": {
          "iopub.execute_input": "2024-06-19T03:45:00.399813Z",
          "iopub.status.busy": "2024-06-19T03:45:00.399011Z",
          "iopub.status.idle": "2024-06-19T03:45:00.483466Z",
          "shell.execute_reply": "2024-06-19T03:45:00.482436Z"
        },
        "papermill": {
          "duration": 0.121637,
          "end_time": "2024-06-19T03:45:00.486144",
          "exception": false,
          "start_time": "2024-06-19T03:45:00.364507",
          "status": "completed"
        },
        "tags": [],
        "id": "32f53863",
        "outputId": "cc0c9fe4-7a95-482e-ebbc-7804a9e2181a"
      },
      "outputs": [
        {
          "data": {
            "text/html": [
              "<style>#sk-container-id-4 {color: black;background-color: white;}#sk-container-id-4 pre{padding: 0;}#sk-container-id-4 div.sk-toggleable {background-color: white;}#sk-container-id-4 label.sk-toggleable__label {cursor: pointer;display: block;width: 100%;margin-bottom: 0;padding: 0.3em;box-sizing: border-box;text-align: center;}#sk-container-id-4 label.sk-toggleable__label-arrow:before {content: \"▸\";float: left;margin-right: 0.25em;color: #696969;}#sk-container-id-4 label.sk-toggleable__label-arrow:hover:before {color: black;}#sk-container-id-4 div.sk-estimator:hover label.sk-toggleable__label-arrow:before {color: black;}#sk-container-id-4 div.sk-toggleable__content {max-height: 0;max-width: 0;overflow: hidden;text-align: left;background-color: #f0f8ff;}#sk-container-id-4 div.sk-toggleable__content pre {margin: 0.2em;color: black;border-radius: 0.25em;background-color: #f0f8ff;}#sk-container-id-4 input.sk-toggleable__control:checked~div.sk-toggleable__content {max-height: 200px;max-width: 100%;overflow: auto;}#sk-container-id-4 input.sk-toggleable__control:checked~label.sk-toggleable__label-arrow:before {content: \"▾\";}#sk-container-id-4 div.sk-estimator input.sk-toggleable__control:checked~label.sk-toggleable__label {background-color: #d4ebff;}#sk-container-id-4 div.sk-label input.sk-toggleable__control:checked~label.sk-toggleable__label {background-color: #d4ebff;}#sk-container-id-4 input.sk-hidden--visually {border: 0;clip: rect(1px 1px 1px 1px);clip: rect(1px, 1px, 1px, 1px);height: 1px;margin: -1px;overflow: hidden;padding: 0;position: absolute;width: 1px;}#sk-container-id-4 div.sk-estimator {font-family: monospace;background-color: #f0f8ff;border: 1px dotted black;border-radius: 0.25em;box-sizing: border-box;margin-bottom: 0.5em;}#sk-container-id-4 div.sk-estimator:hover {background-color: #d4ebff;}#sk-container-id-4 div.sk-parallel-item::after {content: \"\";width: 100%;border-bottom: 1px solid gray;flex-grow: 1;}#sk-container-id-4 div.sk-label:hover label.sk-toggleable__label {background-color: #d4ebff;}#sk-container-id-4 div.sk-serial::before {content: \"\";position: absolute;border-left: 1px solid gray;box-sizing: border-box;top: 0;bottom: 0;left: 50%;z-index: 0;}#sk-container-id-4 div.sk-serial {display: flex;flex-direction: column;align-items: center;background-color: white;padding-right: 0.2em;padding-left: 0.2em;position: relative;}#sk-container-id-4 div.sk-item {position: relative;z-index: 1;}#sk-container-id-4 div.sk-parallel {display: flex;align-items: stretch;justify-content: center;background-color: white;position: relative;}#sk-container-id-4 div.sk-item::before, #sk-container-id-4 div.sk-parallel-item::before {content: \"\";position: absolute;border-left: 1px solid gray;box-sizing: border-box;top: 0;bottom: 0;left: 50%;z-index: -1;}#sk-container-id-4 div.sk-parallel-item {display: flex;flex-direction: column;z-index: 1;position: relative;background-color: white;}#sk-container-id-4 div.sk-parallel-item:first-child::after {align-self: flex-end;width: 50%;}#sk-container-id-4 div.sk-parallel-item:last-child::after {align-self: flex-start;width: 50%;}#sk-container-id-4 div.sk-parallel-item:only-child::after {width: 0;}#sk-container-id-4 div.sk-dashed-wrapped {border: 1px dashed gray;margin: 0 0.4em 0.5em 0.4em;box-sizing: border-box;padding-bottom: 0.4em;background-color: white;}#sk-container-id-4 div.sk-label label {font-family: monospace;font-weight: bold;display: inline-block;line-height: 1.2em;}#sk-container-id-4 div.sk-label-container {text-align: center;}#sk-container-id-4 div.sk-container {/* jupyter's `normalize.less` sets `[hidden] { display: none; }` but bootstrap.min.css set `[hidden] { display: none !important; }` so we also need the `!important` here to be able to override the default hidden behavior on the sphinx rendered scikit-learn.org. See: https://github.com/scikit-learn/scikit-learn/issues/21755 */display: inline-block !important;position: relative;}#sk-container-id-4 div.sk-text-repr-fallback {display: none;}</style><div id=\"sk-container-id-4\" class=\"sk-top-container\"><div class=\"sk-text-repr-fallback\"><pre>SVC(gamma=0.01, kernel=&#x27;sigmoid&#x27;, random_state=0)</pre><b>In a Jupyter environment, please rerun this cell to show the HTML representation or trust the notebook. <br />On GitHub, the HTML representation is unable to render, please try loading this page with nbviewer.org.</b></div><div class=\"sk-container\" hidden><div class=\"sk-item\"><div class=\"sk-estimator sk-toggleable\"><input class=\"sk-toggleable__control sk-hidden--visually\" id=\"sk-estimator-id-4\" type=\"checkbox\" checked><label for=\"sk-estimator-id-4\" class=\"sk-toggleable__label sk-toggleable__label-arrow\">SVC</label><div class=\"sk-toggleable__content\"><pre>SVC(gamma=0.01, kernel=&#x27;sigmoid&#x27;, random_state=0)</pre></div></div></div></div></div>"
            ],
            "text/plain": [
              "SVC(gamma=0.01, kernel='sigmoid', random_state=0)"
            ]
          },
          "execution_count": 38,
          "metadata": {},
          "output_type": "execute_result"
        }
      ],
      "source": [
        "svm_diagnostic = SVC(kernel = 'sigmoid', random_state = 0, C=1.0, gamma=0.01) #kernel : linear,poly,rbf,sigmoid\n",
        "svm_diagnostic.fit(diagnostic_X_train, diagnostic_y_train) #"
      ]
    },
    {
      "cell_type": "code",
      "execution_count": null,
      "id": "840ab7cb",
      "metadata": {
        "execution": {
          "iopub.execute_input": "2024-06-19T03:45:00.555500Z",
          "iopub.status.busy": "2024-06-19T03:45:00.554630Z",
          "iopub.status.idle": "2024-06-19T03:45:00.578940Z",
          "shell.execute_reply": "2024-06-19T03:45:00.577427Z"
        },
        "papermill": {
          "duration": 0.061868,
          "end_time": "2024-06-19T03:45:00.581834",
          "exception": false,
          "start_time": "2024-06-19T03:45:00.519966",
          "status": "completed"
        },
        "tags": [],
        "id": "840ab7cb"
      },
      "outputs": [],
      "source": [
        "previsoes_diagnostic= svm_diagnostic.predict(diagnostic_X_test)\n"
      ]
    },
    {
      "cell_type": "code",
      "execution_count": null,
      "id": "77e26698",
      "metadata": {
        "execution": {
          "iopub.execute_input": "2024-06-19T03:45:00.650886Z",
          "iopub.status.busy": "2024-06-19T03:45:00.649950Z",
          "iopub.status.idle": "2024-06-19T03:45:00.658252Z",
          "shell.execute_reply": "2024-06-19T03:45:00.657151Z"
        },
        "papermill": {
          "duration": 0.045482,
          "end_time": "2024-06-19T03:45:00.660578",
          "exception": false,
          "start_time": "2024-06-19T03:45:00.615096",
          "status": "completed"
        },
        "tags": [],
        "id": "77e26698",
        "outputId": "804c82de-0a98-4344-84d3-bd9217256c77"
      },
      "outputs": [
        {
          "data": {
            "text/plain": [
              "0.9333333333333333"
            ]
          },
          "execution_count": 40,
          "metadata": {},
          "output_type": "execute_result"
        }
      ],
      "source": [
        "accuracy_diagnostic = accuracy_score(diagnostic_y_test, previsoes_diagnostic)\n",
        "accuracy_diagnostic"
      ]
    },
    {
      "cell_type": "code",
      "execution_count": null,
      "id": "aba11d98",
      "metadata": {
        "execution": {
          "iopub.execute_input": "2024-06-19T03:45:00.730114Z",
          "iopub.status.busy": "2024-06-19T03:45:00.729323Z",
          "iopub.status.idle": "2024-06-19T03:45:01.044940Z",
          "shell.execute_reply": "2024-06-19T03:45:01.043593Z"
        },
        "papermill": {
          "duration": 0.353126,
          "end_time": "2024-06-19T03:45:01.047587",
          "exception": false,
          "start_time": "2024-06-19T03:45:00.694461",
          "status": "completed"
        },
        "tags": [],
        "id": "aba11d98",
        "outputId": "2bfc7aa0-6ce8-43fc-f5f1-dae7bb1a1bff"
      },
      "outputs": [
        {
          "data": {
            "image/png": "[encoded data removed]",
            "text/plain": [
              "<Figure size 640x480 with 2 Axes>"
            ]
          },
          "metadata": {},
          "output_type": "display_data"
        }
      ],
      "source": [
        "\n",
        "cm_svc = confusion_matrix(diagnostic_y_test, previsoes_diagnostic)\n",
        "\n",
        "sns.heatmap(cm_svc, annot=True, fmt='d', cmap='Blues')\n",
        "plt.xlabel('Predição')\n",
        "plt.ylabel('Real')\n",
        "plt.title('Matriz de Confusão do para o SVC')\n",
        "plt.show()"
      ]
    },
    {
      "cell_type": "code",
      "execution_count": null,
      "id": "5841ebc3",
      "metadata": {
        "execution": {
          "iopub.execute_input": "2024-06-19T03:45:01.116758Z",
          "iopub.status.busy": "2024-06-19T03:45:01.116345Z",
          "iopub.status.idle": "2024-06-19T03:45:01.130089Z",
          "shell.execute_reply": "2024-06-19T03:45:01.128980Z"
        },
        "papermill": {
          "duration": 0.051177,
          "end_time": "2024-06-19T03:45:01.132523",
          "exception": false,
          "start_time": "2024-06-19T03:45:01.081346",
          "status": "completed"
        },
        "tags": [],
        "id": "5841ebc3",
        "outputId": "5d7cab3a-197d-49d9-e2b8-6fe43f83fbb6"
      },
      "outputs": [
        {
          "data": {
            "text/html": [
              "<div>\n",
              "<style scoped>\n",
              "    .dataframe tbody tr th:only-of-type {\n",
              "        vertical-align: middle;\n",
              "    }\n",
              "\n",
              "    .dataframe tbody tr th {\n",
              "        vertical-align: top;\n",
              "    }\n",
              "\n",
              "    .dataframe thead th {\n",
              "        text-align: right;\n",
              "    }\n",
              "</style>\n",
              "<table border=\"1\" class=\"dataframe\">\n",
              "  <thead>\n",
              "    <tr style=\"text-align: right;\">\n",
              "      <th></th>\n",
              "      <th>Logistic Regression(%)</th>\n",
              "      <th>Decision Tree(%)</th>\n",
              "      <th>Random Forest %)</th>\n",
              "      <th>SVM(%)</th>\n",
              "    </tr>\n",
              "  </thead>\n",
              "  <tbody>\n",
              "    <tr>\n",
              "      <th>0</th>\n",
              "      <td>94.93</td>\n",
              "      <td>85.86</td>\n",
              "      <td>89.33</td>\n",
              "      <td>93.33</td>\n",
              "    </tr>\n",
              "  </tbody>\n",
              "</table>\n",
              "</div>"
            ],
            "text/plain": [
              "   Logistic Regression(%)  Decision Tree(%)  Random Forest %)  SVM(%)\n",
              "0                   94.93             85.86             89.33   93.33"
            ]
          },
          "execution_count": 42,
          "metadata": {},
          "output_type": "execute_result"
        }
      ],
      "source": [
        "# Define models for evaluation\n",
        "models = {\n",
        "    'Logistic Regression(%)': [94.93],\n",
        "    'Decision Tree(%)': [85.86],\n",
        "    'Random Forest %)': [89.33],\n",
        "    'SVM(%)': [93.33]\n",
        "\n",
        "}\n",
        "\n",
        "results_df = pd.DataFrame(models)\n",
        "\n",
        "results_df"
      ]
    }
  ],
  "metadata": {
    "kaggle": {
      "accelerator": "none",
      "dataSources": [
        {
          "datasetId": 5218489,
          "sourceId": 8700971,
          "sourceType": "datasetVersion"
        },
        {
          "datasetId": 5222861,
          "sourceId": 8707069,
          "sourceType": "datasetVersion"
        },
        {
          "datasetId": 5182375,
          "sourceId": 8651738,
          "sourceType": "datasetVersion"
        }
      ],
      "dockerImageVersionId": 30732,
      "isGpuEnabled": false,
      "isInternetEnabled": false,
      "language": "python",
      "sourceType": "notebook"
    },
    "kernelspec": {
      "display_name": "Python 3",
      "language": "python",
      "name": "python3"
    },
    "language_info": {
      "codemirror_mode": {
        "name": "ipython",
        "version": 3
      },
      "file_extension": ".py",
      "mimetype": "text/x-python",
      "name": "python",
      "nbconvert_exporter": "python",
      "pygments_lexer": "ipython3",
      "version": "3.10.13"
    },
    "papermill": {
      "default_parameters": {},
      "duration": 28.685186,
      "end_time": "2024-06-19T03:45:01.996549",
      "environment_variables": {},
      "exception": null,
      "input_path": "__notebook__.ipynb",
      "output_path": "__notebook__.ipynb",
      "parameters": {},
      "start_time": "2024-06-19T03:44:33.311363",
      "version": "2.5.0"
    },
    "colab": {
      "provenance": []
    }
  },
  "nbformat": 4,
  "nbformat_minor": 5
}